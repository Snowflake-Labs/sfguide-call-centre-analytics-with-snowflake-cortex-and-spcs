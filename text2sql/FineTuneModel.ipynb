{
 "cells": [
  {
   "cell_type": "code",
   "execution_count": 2,
   "id": "539b3e5a",
   "metadata": {
    "tags": []
   },
   "outputs": [],
   "source": [
    "%load_ext autoreload\n",
    "%autoreload 2"
   ]
  },
  {
   "cell_type": "code",
   "execution_count": 2,
   "id": "a5d3c0db",
   "metadata": {
    "tags": []
   },
   "outputs": [],
   "source": [
    "# Install transformer and peft if you don't have it installed\n",
    "# ! pip install transformers==4.31.0\n",
    "# ! pip install peft\n",
    "# ! pip install accelerate\n",
    "# ! pip install bitsandbytes\n",
    "\n",
    "# ! pip install jsonlines\n",
    "# ! pip install sqlglot"
   ]
  },
  {
   "cell_type": "markdown",
   "id": "91efb04c",
   "metadata": {},
   "source": [
    "This is a standalone notebook to train the NSQL model on a single GPU (e.g., A5000 with 24GB) with int8 and LoRA."
   ]
  },
  {
   "cell_type": "markdown",
   "id": "28ec2195",
   "metadata": {
    "execution": {
     "iopub.execute_input": "2023-08-02T17:16:32.100885Z",
     "iopub.status.busy": "2023-08-02T17:16:32.100451Z",
     "iopub.status.idle": "2023-08-02T17:16:32.111648Z",
     "shell.execute_reply": "2023-08-02T17:16:32.111052Z",
     "shell.execute_reply.started": "2023-08-02T17:16:32.100860Z"
    },
    "tags": []
   },
   "source": [
    "# Load the model"
   ]
  },
  {
   "cell_type": "code",
   "execution_count": 3,
   "id": "ac3f8be3",
   "metadata": {
    "tags": []
   },
   "outputs": [
    {
     "name": "stderr",
     "output_type": "stream",
     "text": [
      "/usr/local/lib/python3.10/dist-packages/tqdm/auto.py:21: TqdmWarning: IProgress not found. Please update jupyter and ipywidgets. See https://ipywidgets.readthedocs.io/en/stable/user_install.html\n",
      "  from .autonotebook import tqdm as notebook_tqdm\n"
     ]
    }
   ],
   "source": [
    "import torch\n",
    "from transformers import AutoTokenizer, AutoModelForCausalLM\n",
    "# tokenizer = AutoTokenizer.from_pretrained(\"NumbersStation/nsql-llama-2-7B\")\n",
    "# model = AutoModelForCausalLM.from_pretrained(\"NumbersStation/nsql-llama-2-7B\", load_in_8bit=True, torch_dtype=torch.bfloat16, device_map='auto')\n",
    "\n",
    "# import torch\n",
    "# from transformers import AutoTokenizer, AutoModelForCausalLM\n",
    "# tokenizer = AutoTokenizer.from_pretrained(\"NumbersStation/nsql-350M\")\n",
    "# model = AutoModelForCausalLM.from_pretrained(\"NumbersStation/nsql-350M\")"
   ]
  },
  {
   "cell_type": "code",
   "execution_count": 4,
   "id": "769b53d3",
   "metadata": {},
   "outputs": [
    {
     "name": "stderr",
     "output_type": "stream",
     "text": [
      "Loading checkpoint shards: 100%|██████████| 3/3 [00:19<00:00,  6.38s/it]\n",
      "/usr/local/lib/python3.10/dist-packages/transformers/generation/configuration_utils.py:389: UserWarning: `do_sample` is set to `False`. However, `temperature` is set to `0.9` -- this flag is only used in sample-based generation modes. You should set `do_sample=True` or unset `temperature`. This was detected when initializing the generation config instance, which means the corresponding file may hold incorrect parameterization and should be fixed.\n",
      "  warnings.warn(\n",
      "/usr/local/lib/python3.10/dist-packages/transformers/generation/configuration_utils.py:394: UserWarning: `do_sample` is set to `False`. However, `top_p` is set to `0.6` -- this flag is only used in sample-based generation modes. You should set `do_sample=True` or unset `top_p`. This was detected when initializing the generation config instance, which means the corresponding file may hold incorrect parameterization and should be fixed.\n",
      "  warnings.warn(\n"
     ]
    }
   ],
   "source": [
    "tokenizer = AutoTokenizer.from_pretrained(\"/notebooks/llm-workspace/nsql-llama-2-7B/\")\n",
    "model = AutoModelForCausalLM.from_pretrained(\"/notebooks/llm-workspace/nsql-llama-2-7B/\", load_in_8bit=True, torch_dtype=torch.bfloat16, device_map='auto')\n"
   ]
  },
  {
   "cell_type": "code",
   "execution_count": 5,
   "id": "355c85b0",
   "metadata": {},
   "outputs": [],
   "source": [
    "# model.save_pretrained('/notebooks/llm-workspace/nsql-llama-2-7B_quan')"
   ]
  },
  {
   "cell_type": "code",
   "execution_count": 6,
   "id": "e8c5d178",
   "metadata": {},
   "outputs": [
    {
     "name": "stdout",
     "output_type": "stream",
     "text": [
      "Using cuda device\n"
     ]
    }
   ],
   "source": [
    "device = \"cuda\" if torch.cuda.is_available() else \"cpu\"\n",
    "print(\"Using {} device\".format(device))"
   ]
  },
  {
   "cell_type": "code",
   "execution_count": 7,
   "id": "a29f793c",
   "metadata": {},
   "outputs": [
    {
     "name": "stderr",
     "output_type": "stream",
     "text": [
      "Generating train split: 4 examples [00:00, 723.22 examples/s]\n"
     ]
    }
   ],
   "source": [
    "from datasets import load_dataset\n",
    "df1=load_dataset('csv',data_files='AudioCalls_FineTuning_Dataset.csv',split='train')"
   ]
  },
  {
   "cell_type": "code",
   "execution_count": 8,
   "id": "356478ba",
   "metadata": {},
   "outputs": [
    {
     "data": {
      "text/plain": [
       "Dataset({\n",
       "    features: ['instruction', 'output', 'source'],\n",
       "    num_rows: 4\n",
       "})"
      ]
     },
     "execution_count": 8,
     "metadata": {},
     "output_type": "execute_result"
    }
   ],
   "source": [
    "df1"
   ]
  },
  {
   "cell_type": "code",
   "execution_count": 136,
   "id": "bcabb3eb",
   "metadata": {},
   "outputs": [],
   "source": [
    "torch.cuda.empty_cache()"
   ]
  },
  {
   "cell_type": "markdown",
   "id": "ca86bb77",
   "metadata": {},
   "source": [
    "# Prepare the data\n",
    "\n",
    "We use NumbersStation/NSText2SQL dataset as an example here and feel free to customize the training data based on your need."
   ]
  },
  {
   "cell_type": "code",
   "execution_count": 159,
   "id": "d3af2125",
   "metadata": {
    "tags": []
   },
   "outputs": [],
   "source": [
    "from datasets import load_dataset\n",
    "from torch.utils.data import Dataset\n",
    "import copy\n",
    "\n",
    "class NSText2SQLDataset(Dataset):\n",
    "    def __init__(self, size=None, max_seq_length=2048):\n",
    "        # df1=load_dataset('csv',data_files='AudioCalls_FineTuning_Dataset.csv')\n",
    "        self.dataset = load_dataset('csv',data_files='AudioCalls_FineTuning_Dataset.csv',split='train')\n",
    "        if size:\n",
    "            self.dataset = self.dataset.select(range(size))\n",
    "        self.max_seq_length = max_seq_length\n",
    "\n",
    "    def __len__(self):\n",
    "        return len(self.dataset)\n",
    "\n",
    "    def __getitem__(self, index):\n",
    "        instruction = torch.tensor(tokenizer.encode(self.dataset[index]['instruction']), dtype=torch.int64)\n",
    "        example = self.dataset[index]['instruction'] + self.dataset[index][\"output\"]\n",
    "        example = tokenizer.encode(example)\n",
    "        example.append(tokenizer.eos_token_id)\n",
    "        padding = self.max_seq_length - len(example)\n",
    "        example = torch.tensor(example, dtype=torch.int64)\n",
    "\n",
    "        if padding < 0:\n",
    "            example = example[:self.max_seq_length]\n",
    "        else:\n",
    "            example = torch.cat((example, torch.zeros(padding, dtype=torch.int64)))\n",
    "            \n",
    "        labels = copy.deepcopy(example)\n",
    "        labels[: len(instruction)] = -100\n",
    "        \n",
    "        return {\"input_ids\": example, \"labels\": labels}"
   ]
  },
  {
   "cell_type": "code",
   "execution_count": 160,
   "id": "62fdb0d6",
   "metadata": {
    "tags": []
   },
   "outputs": [],
   "source": [
    "dataset = NSText2SQLDataset(size=4, max_seq_length=1024)"
   ]
  },
  {
   "cell_type": "code",
   "execution_count": 161,
   "id": "0b4a21b1",
   "metadata": {},
   "outputs": [
    {
     "data": {
      "text/plain": [
       "Dataset({\n",
       "    features: ['instruction', 'output', 'source'],\n",
       "    num_rows: 4\n",
       "})"
      ]
     },
     "execution_count": 161,
     "metadata": {},
     "output_type": "execute_result"
    }
   ],
   "source": [
    "dataset.dataset\n"
   ]
  },
  {
   "cell_type": "markdown",
   "id": "80d6a73e",
   "metadata": {},
   "source": [
    "# Prepare PEFT for model training"
   ]
  },
  {
   "cell_type": "code",
   "execution_count": 162,
   "id": "bb606c3a",
   "metadata": {
    "tags": []
   },
   "outputs": [
    {
     "name": "stderr",
     "output_type": "stream",
     "text": [
      "/usr/local/lib/python3.10/dist-packages/peft/utils/other.py:141: FutureWarning: prepare_model_for_int8_training is deprecated and will be removed in a future version. Use prepare_model_for_kbit_training instead.\n",
      "  warnings.warn(\n"
     ]
    }
   ],
   "source": [
    "from peft import (\n",
    "    get_peft_model,\n",
    "    LoraConfig,\n",
    "    TaskType,\n",
    "    prepare_model_for_int8_training,\n",
    "    \n",
    ")\n",
    "# lora_dropout=0.05,\n",
    "\n",
    "# model.train()\n",
    "\n",
    "model = prepare_model_for_int8_training(model)\n",
    "\n",
    "lora_config = LoraConfig(\n",
    "    task_type=TaskType.CAUSAL_LM,\n",
    "    inference_mode=False,\n",
    "    r=16,\n",
    "    lora_alpha=32,\n",
    "    lora_dropout=0.05,\n",
    "    target_modules=['q_proj', 'v_proj', 'k_proj']\n",
    "   \n",
    "    \n",
    ")\n",
    " #[\"q_proj\", \"v_proj\"] \n",
    "\n",
    "model = get_peft_model(model, lora_config)"
   ]
  },
  {
   "cell_type": "markdown",
   "id": "854e00d5",
   "metadata": {
    "execution": {
     "iopub.execute_input": "2023-08-02T17:50:38.809539Z",
     "iopub.status.busy": "2023-08-02T17:50:38.809187Z",
     "iopub.status.idle": "2023-08-02T17:50:38.836443Z",
     "shell.execute_reply": "2023-08-02T17:50:38.835678Z",
     "shell.execute_reply.started": "2023-08-02T17:50:38.809520Z"
    },
    "tags": []
   },
   "source": [
    "# Finetune the model with Huggingface trainer"
   ]
  },
  {
   "cell_type": "code",
   "execution_count": 163,
   "id": "53577de2",
   "metadata": {
    "tags": []
   },
   "outputs": [],
   "source": [
    "from transformers import default_data_collator, Trainer, TrainingArguments\n",
    "\n",
    "output_dir = \"training_run\"\n",
    "\n",
    "config = {\n",
    "    'lora_config': lora_config,\n",
    "    'learning_rate': 3e-4,\n",
    "    'num_train_epochs': 3,\n",
    "    'gradient_accumulation_steps': 4,\n",
    "    'gradient_checkpointing': False,\n",
    "    \n",
    "}\n",
    "# learning_rate=5e-4,\n",
    "\n",
    "training_args = TrainingArguments(\n",
    "    output_dir=output_dir,\n",
    "    overwrite_output_dir=True,\n",
    "    bf16=True,\n",
    "    # logging strategies\n",
    "    logging_dir=f\"{output_dir}/logs\",\n",
    "    logging_strategy=\"steps\",\n",
    "    logging_steps=5,\n",
    "    optim=\"adamw_torch_fused\",\n",
    "     remove_unused_columns=False,\n",
    "    **{k:v for k,v in config.items() if k != 'lora_config'}\n",
    ")"
   ]
  },
  {
   "cell_type": "code",
   "execution_count": 164,
   "id": "b874668f",
   "metadata": {
    "tags": []
   },
   "outputs": [
    {
     "name": "stderr",
     "output_type": "stream",
     "text": [
      "Detected kernel version 5.4.181, which is below the recommended minimum of 5.5.0; this can cause the process to hang. It is recommended to upgrade the kernel to the minimum version or higher.\n",
      "/usr/local/lib/python3.10/dist-packages/bitsandbytes/autograd/_functions.py:322: UserWarning: MatMul8bitLt: inputs will be cast from torch.float32 to float16 during quantization\n",
      "  warnings.warn(f\"MatMul8bitLt: inputs will be cast from {A.dtype} to float16 during quantization\")\n",
      "/usr/local/lib/python3.10/dist-packages/bitsandbytes/autograd/_functions.py:322: UserWarning: MatMul8bitLt: inputs will be cast from torch.bfloat16 to float16 during quantization\n",
      "  warnings.warn(f\"MatMul8bitLt: inputs will be cast from {A.dtype} to float16 during quantization\")\n"
     ]
    },
    {
     "data": {
      "text/html": [
       "\n",
       "    <div>\n",
       "      \n",
       "      <progress value='3' max='3' style='width:300px; height:20px; vertical-align: middle;'></progress>\n",
       "      [3/3 00:19, Epoch 3/3]\n",
       "    </div>\n",
       "    <table border=\"1\" class=\"dataframe\">\n",
       "  <thead>\n",
       " <tr style=\"text-align: left;\">\n",
       "      <th>Epoch</th>\n",
       "      <th>Training Loss</th>\n",
       "      <th>Validation Loss</th>\n",
       "    </tr>\n",
       "  </thead>\n",
       "  <tbody>\n",
       "    <tr>\n",
       "      <td>1</td>\n",
       "      <td>No log</td>\n",
       "      <td>16.263018</td>\n",
       "    </tr>\n",
       "    <tr>\n",
       "      <td>2</td>\n",
       "      <td>No log</td>\n",
       "      <td>14.713525</td>\n",
       "    </tr>\n",
       "    <tr>\n",
       "      <td>3</td>\n",
       "      <td>No log</td>\n",
       "      <td>14.002871</td>\n",
       "    </tr>\n",
       "  </tbody>\n",
       "</table><p>"
      ],
      "text/plain": [
       "<IPython.core.display.HTML object>"
      ]
     },
     "metadata": {},
     "output_type": "display_data"
    },
    {
     "data": {
      "text/plain": [
       "TrainOutput(global_step=3, training_loss=4.168399492899577, metrics={'train_runtime': 26.3521, 'train_samples_per_second': 0.455, 'train_steps_per_second': 0.114, 'total_flos': 488073943056384.0, 'train_loss': 4.168399492899577, 'epoch': 3.0})"
      ]
     },
     "execution_count": 164,
     "metadata": {},
     "output_type": "execute_result"
    }
   ],
   "source": [
    "trainer = Trainer(\n",
    "    model=model,\n",
    "    args=training_args,\n",
    "    train_dataset=dataset,\n",
    "    data_collator=default_data_collator,\n",
    ")\n",
    "\n",
    "# Start training\n",
    "trainer.train()"
   ]
  },
  {
   "cell_type": "code",
   "execution_count": 167,
   "id": "c24791b4",
   "metadata": {},
   "outputs": [],
   "source": [
    "peft_model_path=\"/notebooks/llm-workspace/peft-nsql_llama2_7B-checkpoint/\""
   ]
  },
  {
   "cell_type": "markdown",
   "id": "5a43af8b",
   "metadata": {},
   "source": [
    "# Save model checkpoint"
   ]
  },
  {
   "cell_type": "code",
   "execution_count": 166,
   "id": "94c13603",
   "metadata": {
    "tags": []
   },
   "outputs": [
    {
     "data": {
      "text/plain": [
       "('/notebooks/llm-workspace/peft-nsql_llama2_7B-checkpoint/tokenizer_config.json',\n",
       " '/notebooks/llm-workspace/peft-nsql_llama2_7B-checkpoint/special_tokens_map.json',\n",
       " '/notebooks/llm-workspace/peft-nsql_llama2_7B-checkpoint/tokenizer.json')"
      ]
     },
     "execution_count": 166,
     "metadata": {},
     "output_type": "execute_result"
    }
   ],
   "source": [
    "trainer.model.save_pretrained(peft_model_path)\n",
    "tokenizer.save_pretrained(peft_model_path)\n",
    "# model.save_pretrained(output_dir)"
   ]
  },
  {
   "cell_type": "markdown",
   "id": "db4b6660",
   "metadata": {},
   "source": [
    "# Merge Base with peft layers"
   ]
  },
  {
   "cell_type": "code",
   "execution_count": 9,
   "id": "f8b8e5ca",
   "metadata": {},
   "outputs": [
    {
     "name": "stderr",
     "output_type": "stream",
     "text": [
      "Loading checkpoint shards: 100%|██████████| 3/3 [00:19<00:00,  6.52s/it]\n",
      "/usr/local/lib/python3.10/dist-packages/transformers/generation/configuration_utils.py:389: UserWarning: `do_sample` is set to `False`. However, `temperature` is set to `0.9` -- this flag is only used in sample-based generation modes. You should set `do_sample=True` or unset `temperature`. This was detected when initializing the generation config instance, which means the corresponding file may hold incorrect parameterization and should be fixed.\n",
      "  warnings.warn(\n",
      "/usr/local/lib/python3.10/dist-packages/transformers/generation/configuration_utils.py:394: UserWarning: `do_sample` is set to `False`. However, `top_p` is set to `0.6` -- this flag is only used in sample-based generation modes. You should set `do_sample=True` or unset `top_p`. This was detected when initializing the generation config instance, which means the corresponding file may hold incorrect parameterization and should be fixed.\n",
      "  warnings.warn(\n"
     ]
    }
   ],
   "source": [
    "from peft import PeftModel, PeftConfig\n",
    "peft_model_path=\"/notebooks/llm-workspace/peft-nsql_llama2_7B-checkpoint/\"\n",
    "\n",
    "# peft_model_base = AutoModelForSeq2SeqLM.from_pretrained(\"google/flan-t5-base\", torch_dtype=torch.bfloat16)\n",
    "# tokenizer = AutoTokenizer.from_pretrained(\"google/flan-t5-base\")\n",
    "\n",
    "tokenizer = AutoTokenizer.from_pretrained(\"/notebooks/llm-workspace/nsql-llama-2-7B/\")\n",
    "peft_model_base = AutoModelForCausalLM.from_pretrained(\"/notebooks/llm-workspace/nsql-llama-2-7B/\", load_in_8bit=True, torch_dtype=torch.bfloat16, device_map='auto')\n",
    "\n",
    "\n",
    "peft_model = PeftModel.from_pretrained(peft_model_base, \n",
    "                                       peft_model_path, \n",
    "                                       torch_dtype=torch.bfloat16,\n",
    "                                       is_trainable=False)\n"
   ]
  },
  {
   "cell_type": "code",
   "execution_count": null,
   "id": "30b38758",
   "metadata": {},
   "outputs": [],
   "source": []
  },
  {
   "cell_type": "code",
   "execution_count": 10,
   "id": "ca4e4c9d",
   "metadata": {},
   "outputs": [
    {
     "name": "stderr",
     "output_type": "stream",
     "text": [
      "/usr/local/lib/python3.10/dist-packages/transformers/generation/configuration_utils.py:389: UserWarning: `do_sample` is set to `False`. However, `temperature` is set to `0.9` -- this flag is only used in sample-based generation modes. You should set `do_sample=True` or unset `temperature`.\n",
      "  warnings.warn(\n",
      "/usr/local/lib/python3.10/dist-packages/transformers/generation/configuration_utils.py:394: UserWarning: `do_sample` is set to `False`. However, `top_p` is set to `0.6` -- this flag is only used in sample-based generation modes. You should set `do_sample=True` or unset `top_p`.\n",
      "  warnings.warn(\n",
      "/usr/local/lib/python3.10/dist-packages/bitsandbytes/autograd/_functions.py:322: UserWarning: MatMul8bitLt: inputs will be cast from torch.bfloat16 to float16 during quantization\n",
      "  warnings.warn(f\"MatMul8bitLt: inputs will be cast from {A.dtype} to float16 during quantization\")\n"
     ]
    }
   ],
   "source": [
    "text = \"\"\"CREATE TABLE STREAMLITAPPTABLE (\n",
    "            DATETIME DATE,\n",
    "            AUDIO_FILE_NAME VARCHAR(100),\n",
    "            DURATION FLOAT,\n",
    "            CALLTOACTION VARCHAR(16777216),\n",
    "            CLAIMNUMBER VARCHAR(16777216),\n",
    "            CUSTOMER VARCHAR(16777216),\n",
    "            INTENT VARCHAR(16777216),\n",
    "            ISSUE VARCHAR(16777216),\n",
    "            POLICYNUMBER VARCHAR(16777216),\n",
    "            PURPOSEOFCALL VARCHAR(16777216),\n",
    "            REPRESENTATIVE VARCHAR(16777216),\n",
    "            RESOLUTION VARCHAR(16777216),\n",
    "            RESPONSEMODE VARCHAR(16777216),\n",
    "            MODEOFUPDATE VARCHAR(16777216),\n",
    "            NEXTSTEPS VARCHAR(16777216),\n",
    "            CALLSENTIMENT VARCHAR(8),\n",
    "            FIRSTCALLRESOLUTION VARCHAR(3)\n",
    "        )\n",
    "\n",
    "-- Using valid SQLite, answer the following questions for the tables provided above.\n",
    "\n",
    "-- What is the total call durations for all agents for last month?\n",
    "\n",
    "SELECT\"\"\"\n",
    "\n",
    "model_input = tokenizer(text, return_tensors=\"pt\").to(\"cuda\")\n",
    "\n",
    "generated_ids = peft_model.generate(**model_input, max_new_tokens=100)\n",
    "res=tokenizer.decode(generated_ids[0][len(model_input[0])-1:], skip_special_tokens=True)\n"
   ]
  },
  {
   "cell_type": "code",
   "execution_count": 11,
   "id": "03491c04",
   "metadata": {},
   "outputs": [
    {
     "name": "stdout",
     "output_type": "stream",
     "text": [
      "SELECT SUM(DURATION) FROM STREAMLITAPPTABLE WHERE DATETIME > DATEADD(month, -1, GETDATE())\n"
     ]
    }
   ],
   "source": [
    "print(res)"
   ]
  },
  {
   "cell_type": "code",
   "execution_count": null,
   "id": "068d3189",
   "metadata": {},
   "outputs": [],
   "source": [
    "#  -- Using valid SQLite, answer the following questions for the tables provided above. -- sum of call duration week on week  ?\n",
    "text = \"\"\"CREATE TABLE STREAMLITAPPTABLE (\n",
    "            DATETIME DATE,\n",
    "            AUDIO_FILE_NAME VARCHAR(100),\n",
    "            DURATION FLOAT,\n",
    "            CALLTOACTION VARCHAR(16777216),\n",
    "            CLAIMNUMBER VARCHAR(16777216),\n",
    "            CUSTOMER VARCHAR(16777216),\n",
    "            INTENT VARCHAR(16777216),\n",
    "            ISSUE VARCHAR(16777216),\n",
    "            POLICYNUMBER VARCHAR(16777216),\n",
    "            PURPOSEOFCALL VARCHAR(16777216),\n",
    "            REPRESENTATIVE VARCHAR(16777216),\n",
    "            RESOLUTION VARCHAR(16777216),\n",
    "            RESPONSEMODE VARCHAR(16777216),\n",
    "            MODEOFUPDATE VARCHAR(16777216),\n",
    "            NEXTSTEPS VARCHAR(16777216),\n",
    "            CALLSENTIMENT VARCHAR(8),\n",
    "            FIRSTCALLRESOLUTION VARCHAR(3)  -- Using valid SQLite, answer the following questions for the tables provided above. -- sum of call duration week on week  ?\n",
    "\n",
    "SELECT\"\"\"\n",
    "\n",
    "model_input = tokenizer(text, return_tensors=\"pt\").to(\"cuda\")\n",
    "\n",
    "generated_ids = trainer.model.generate(**model_input, max_new_tokens=500)\n",
    "print(tokenizer.decode(generated_ids[0], skip_special_tokens=True))"
   ]
  },
  {
   "cell_type": "code",
   "execution_count": 12,
   "id": "8df0debb",
   "metadata": {},
   "outputs": [],
   "source": [
    "def print_number_of_trainable_model_parameters(model):\n",
    "    trainable_model_params = 0\n",
    "    all_model_params = 0\n",
    "    for _, param in model.named_parameters():\n",
    "        all_model_params += param.numel()\n",
    "        if param.requires_grad:\n",
    "            trainable_model_params += param.numel()\n",
    "    return f\"trainable model parameters: {trainable_model_params}\\nall model parameters: {all_model_params}\\npercentage of trainable model parameters: {100 * trainable_model_params / all_model_params:.2f}%\"\n"
   ]
  },
  {
   "cell_type": "code",
   "execution_count": 14,
   "id": "b32c590c",
   "metadata": {},
   "outputs": [
    {
     "name": "stdout",
     "output_type": "stream",
     "text": [
      "trainable model parameters: 0\n",
      "all model parameters: 6750998528\n",
      "percentage of trainable model parameters: 0.00%\n"
     ]
    }
   ],
   "source": [
    "print(print_number_of_trainable_model_parameters(peft_model))"
   ]
  },
  {
   "cell_type": "code",
   "execution_count": null,
   "id": "d012ba6e",
   "metadata": {},
   "outputs": [],
   "source": [
    "# tokenizer.save_pretrained()"
   ]
  },
  {
   "cell_type": "markdown",
   "id": "837e36ce",
   "metadata": {},
   "source": [
    "# Evaluate the finetuned model"
   ]
  },
  {
   "cell_type": "code",
   "execution_count": 129,
   "id": "a082edcd",
   "metadata": {
    "tags": []
   },
   "outputs": [
    {
     "data": {
      "text/plain": [
       "PeftModelForCausalLM(\n",
       "  (base_model): LoraModel(\n",
       "    (model): PeftModelForCausalLM(\n",
       "      (base_model): LoraModel(\n",
       "        (model): PeftModelForCausalLM(\n",
       "          (base_model): LoraModel(\n",
       "            (model): PeftModelForCausalLM(\n",
       "              (base_model): LoraModel(\n",
       "                (model): PeftModelForCausalLM(\n",
       "                  (base_model): LoraModel(\n",
       "                    (model): PeftModelForCausalLM(\n",
       "                      (base_model): LoraModel(\n",
       "                        (model): LlamaForCausalLM(\n",
       "                          (model): LlamaModel(\n",
       "                            (embed_tokens): Embedding(32000, 4096, padding_idx=2)\n",
       "                            (layers): ModuleList(\n",
       "                              (0-31): 32 x LlamaDecoderLayer(\n",
       "                                (self_attn): LlamaAttention(\n",
       "                                  (q_proj): lora.Linear8bitLt(\n",
       "                                    (base_layer): Linear8bitLt(in_features=4096, out_features=4096, bias=False)\n",
       "                                    (lora_dropout): ModuleDict(\n",
       "                                      (default): Dropout(p=0.05, inplace=False)\n",
       "                                    )\n",
       "                                    (lora_A): ModuleDict(\n",
       "                                      (default): Linear(in_features=4096, out_features=32, bias=False)\n",
       "                                    )\n",
       "                                    (lora_B): ModuleDict(\n",
       "                                      (default): Linear(in_features=32, out_features=4096, bias=False)\n",
       "                                    )\n",
       "                                    (lora_embedding_A): ParameterDict()\n",
       "                                    (lora_embedding_B): ParameterDict()\n",
       "                                  )\n",
       "                                  (k_proj): lora.Linear8bitLt(\n",
       "                                    (base_layer): Linear8bitLt(in_features=4096, out_features=4096, bias=False)\n",
       "                                    (lora_dropout): ModuleDict(\n",
       "                                      (default): Dropout(p=0.05, inplace=False)\n",
       "                                    )\n",
       "                                    (lora_A): ModuleDict(\n",
       "                                      (default): Linear(in_features=4096, out_features=32, bias=False)\n",
       "                                    )\n",
       "                                    (lora_B): ModuleDict(\n",
       "                                      (default): Linear(in_features=32, out_features=4096, bias=False)\n",
       "                                    )\n",
       "                                    (lora_embedding_A): ParameterDict()\n",
       "                                    (lora_embedding_B): ParameterDict()\n",
       "                                  )\n",
       "                                  (v_proj): lora.Linear8bitLt(\n",
       "                                    (base_layer): Linear8bitLt(in_features=4096, out_features=4096, bias=False)\n",
       "                                    (lora_dropout): ModuleDict(\n",
       "                                      (default): Dropout(p=0.05, inplace=False)\n",
       "                                    )\n",
       "                                    (lora_A): ModuleDict(\n",
       "                                      (default): Linear(in_features=4096, out_features=32, bias=False)\n",
       "                                    )\n",
       "                                    (lora_B): ModuleDict(\n",
       "                                      (default): Linear(in_features=32, out_features=4096, bias=False)\n",
       "                                    )\n",
       "                                    (lora_embedding_A): ParameterDict()\n",
       "                                    (lora_embedding_B): ParameterDict()\n",
       "                                  )\n",
       "                                  (o_proj): Linear8bitLt(in_features=4096, out_features=4096, bias=False)\n",
       "                                  (rotary_emb): LlamaRotaryEmbedding()\n",
       "                                )\n",
       "                                (mlp): LlamaMLP(\n",
       "                                  (gate_proj): Linear8bitLt(in_features=4096, out_features=11008, bias=False)\n",
       "                                  (up_proj): Linear8bitLt(in_features=4096, out_features=11008, bias=False)\n",
       "                                  (down_proj): Linear8bitLt(in_features=11008, out_features=4096, bias=False)\n",
       "                                  (act_fn): SiLU()\n",
       "                                )\n",
       "                                (input_layernorm): LlamaRMSNorm()\n",
       "                                (post_attention_layernorm): LlamaRMSNorm()\n",
       "                              )\n",
       "                            )\n",
       "                            (norm): LlamaRMSNorm()\n",
       "                          )\n",
       "                          (lm_head): Linear(in_features=4096, out_features=32000, bias=False)\n",
       "                        )\n",
       "                      )\n",
       "                    )\n",
       "                  )\n",
       "                )\n",
       "              )\n",
       "            )\n",
       "          )\n",
       "        )\n",
       "      )\n",
       "    )\n",
       "  )\n",
       ")"
      ]
     },
     "execution_count": 129,
     "metadata": {},
     "output_type": "execute_result"
    }
   ],
   "source": [
    "model.eval()"
   ]
  },
  {
   "cell_type": "code",
   "execution_count": 130,
   "id": "814ee73f",
   "metadata": {
    "tags": []
   },
   "outputs": [
    {
     "name": "stdout",
     "output_type": "stream",
     "text": [
      "CREATE TABLE STREAMLITAPPTABLE (\n",
      "\tDATETIME DATE,\n",
      "\tAUDIO_FILE_NAME VARCHAR(100),\n",
      "\tDURATION FLOAT,\n",
      "\tCALLTOACTION VARCHAR(16777216),\n",
      "\tCLAIMNUMBER VARCHAR(16777216),\n",
      "\tCUSTOMER VARCHAR(16777216),\n",
      "\tINTENT VARCHAR(16777216),\n",
      "\tISSUE VARCHAR(16777216),\n",
      "\tPOLICYNUMBER VARCHAR(16777216),\n",
      "\tPURPOSEOFCALL VARCHAR(16777216),\n",
      "\tREPRESENTATIVE VARCHAR(16777216),\n",
      "\tRESOLUTION VARCHAR(16777216),\n",
      "\tRESPONSEMODE VARCHAR(16777216),\n",
      "\tRESPONSETIME VARCHAR(16777216),\n",
      ")\n",
      "\n",
      "-- Using valid SQLite, answer the following questions for the tables provided above.\n",
      "\n",
      "-- What is the total call durations for all agents for last month?\n",
      "\n",
      "SELECT SUM(DURATION) FROM STREAMLITAPPTABLE WHERE DATETIME > DATEADD(month, -1, GETDATE())\n"
     ]
    }
   ],
   "source": [
    "text = \"\"\"CREATE TABLE STREAMLITAPPTABLE (\n",
    "\tDATETIME DATE,\n",
    "\tAUDIO_FILE_NAME VARCHAR(100),\n",
    "\tDURATION FLOAT,\n",
    "\tCALLTOACTION VARCHAR(16777216),\n",
    "\tCLAIMNUMBER VARCHAR(16777216),\n",
    "\tCUSTOMER VARCHAR(16777216),\n",
    "\tINTENT VARCHAR(16777216),\n",
    "\tISSUE VARCHAR(16777216),\n",
    "\tPOLICYNUMBER VARCHAR(16777216),\n",
    "\tPURPOSEOFCALL VARCHAR(16777216),\n",
    "\tREPRESENTATIVE VARCHAR(16777216),\n",
    "\tRESOLUTION VARCHAR(16777216),\n",
    "\tRESPONSEMODE VARCHAR(16777216),\n",
    "\tRESPONSETIME VARCHAR(16777216),\n",
    ")\n",
    "\n",
    "-- Using valid SQLite, answer the following questions for the tables provided above.\n",
    "\n",
    "-- What is the total call durations for all agents for last month?\n",
    "\n",
    "SELECT\"\"\"\n",
    "\n",
    "model_input = tokenizer(text, return_tensors=\"pt\").to(\"cuda\")\n",
    "\n",
    "generated_ids = model.generate(**model_input, max_new_tokens=100)\n",
    "print(tokenizer.decode(generated_ids[0], skip_special_tokens=True))"
   ]
  },
  {
   "cell_type": "code",
   "execution_count": 21,
   "id": "7fbb906f",
   "metadata": {},
   "outputs": [
    {
     "name": "stdout",
     "output_type": "stream",
     "text": [
      "SELECT SUM(DURATION) FROM STREAMLITAPPTABLE;\n"
     ]
    }
   ],
   "source": [
    "#  -- Using valid SQLite, answer the following questions for the tables provided above. -- sum of call duration week on week  ?\n",
    "text = '''CREATE TABLE STREAMLITAPPTABLE (\n",
    "\tDATETIME DATE,\n",
    "\tAUDIO_FILE_NAME VARCHAR(100),\n",
    "\tDURATION FLOAT,\n",
    "\tCALLTOACTION VARCHAR(16777216),\n",
    "\tCLAIMNUMBER VARCHAR(16777216),\n",
    "\tCUSTOMER VARCHAR(16777216),\n",
    "\tINTENT VARCHAR(16777216),\n",
    "\tISSUE VARCHAR(16777216),\n",
    "\tPOLICYNUMBER VARCHAR(16777216),\n",
    "\tPURPOSEOFCALL VARCHAR(16777216),\n",
    "\tREPRESENTATIVE VARCHAR(16777216),\n",
    "\tRESOLUTION VARCHAR(16777216),\n",
    "\tRESPONSEMODE VARCHAR(16777216),\n",
    "\tRESPONSETIME VARCHAR(16777216))  -- Using valid SQLite, answer the following questions for the tables provided above. -- sum of call duration week on week  ?\n",
    "\n",
    "'''\n",
    "\n",
    "model_input = tokenizer(text, return_tensors=\"pt\").to(\"cuda\")\n",
    "\n",
    "generated_ids = peft_model.generate(**model_input, max_new_tokens=500)\n",
    "# print(tokenizer.decode(generated_ids[0], skip_special_tokens=True))\n",
    "print(tokenizer.decode(generated_ids[0][len(model_input[0])-1:], skip_special_tokens=True).strip().replace('\"',\"'\"))"
   ]
  },
  {
   "cell_type": "code",
   "execution_count": 153,
   "id": "660f3165",
   "metadata": {},
   "outputs": [],
   "source": [
    "# peft_model.save_pretrained(\"/notebooks/llm-workspace/nsql-llama-2-7B-peftmerged/\")"
   ]
  },
  {
   "cell_type": "code",
   "execution_count": 84,
   "id": "70107d3d",
   "metadata": {},
   "outputs": [],
   "source": [
    "# !pip install snowflake-ml-python"
   ]
  },
  {
   "cell_type": "code",
   "execution_count": null,
   "id": "072f14e8",
   "metadata": {},
   "outputs": [],
   "source": []
  },
  {
   "cell_type": "code",
   "execution_count": 76,
   "id": "e5e13d11",
   "metadata": {},
   "outputs": [
    {
     "name": "stdout",
     "output_type": "stream",
     "text": [
      "CREATE TABLE STREAMLITAPPTABLE (\n",
      "\tDATETIME DATE,\n",
      "\tAUDIO_FILE_NAME VARCHAR(100),\n",
      "\tDURATION FLOAT,\n",
      "\tCALLTOACTION VARCHAR(16777216),\n",
      "\tCLAIMNUMBER VARCHAR(16777216),\n",
      "\tCUSTOMER VARCHAR(16777216),\n",
      "\tINTENT VARCHAR(16777216),\n",
      "\tISSUE VARCHAR(16777216),\n",
      "\tPOLICYNUMBER VARCHAR(16777216),\n",
      "\tPURPOSEOFCALL VARCHAR(16777216),\n",
      "\tREPRESENTATIVE VARCHAR(16777216),\n",
      "\tRESOLUTION VARCHAR(16777216),\n",
      "\tRESPONSEMODE VARCHAR(16777216),\n",
      "\tRESPONSETIME VARCHAR(16777216),\n",
      ")\n",
      "\n",
      "-- Using valid SQLite, answer the following questions for the tables provided above.\n",
      "\n",
      "-- What is the distinct purpose of the calls in the last month\n",
      "\n",
      "SELECT DISTINCT PURPOSEOFCALL FROM STREAMLITAPPTABLE WHERE DATETIME >= DATEADD(month, -1, GETDATE())\n"
     ]
    }
   ],
   "source": [
    "input_str=\"What is the distinct purpose of the calls in the last month\"\n",
    "text = f\"\"\"CREATE TABLE STREAMLITAPPTABLE (\n",
    "\tDATETIME DATE,\n",
    "\tAUDIO_FILE_NAME VARCHAR(100),\n",
    "\tDURATION FLOAT,\n",
    "\tCALLTOACTION VARCHAR(16777216),\n",
    "\tCLAIMNUMBER VARCHAR(16777216),\n",
    "\tCUSTOMER VARCHAR(16777216),\n",
    "\tINTENT VARCHAR(16777216),\n",
    "\tISSUE VARCHAR(16777216),\n",
    "\tPOLICYNUMBER VARCHAR(16777216),\n",
    "\tPURPOSEOFCALL VARCHAR(16777216),\n",
    "\tREPRESENTATIVE VARCHAR(16777216),\n",
    "\tRESOLUTION VARCHAR(16777216),\n",
    "\tRESPONSEMODE VARCHAR(16777216),\n",
    "\tRESPONSETIME VARCHAR(16777216),\n",
    ")\n",
    "\n",
    "-- Using valid SQLite, answer the following questions for the tables provided above.\n",
    "\n",
    "-- {input_str}\n",
    "\n",
    "SELECT\"\"\"\n",
    "\n",
    "model_input = tokenizer(text, return_tensors=\"pt\").to(\"cuda\")\n",
    "\n",
    "generated_ids = model.generate(**model_input, max_new_tokens=100)\n",
    "# print(tokenizer.decode(generated_ids[0], skip_special_tokens=True))\n",
    "print(tokenizer.decode(generated_ids[0][len(model_input[0])-1:], skip_special_tokens=True).strip().replace('\"',\"'\"))"
   ]
  },
  {
   "cell_type": "code",
   "execution_count": 23,
   "id": "b69ab1fc",
   "metadata": {},
   "outputs": [
    {
     "name": "stdout",
     "output_type": "stream",
     "text": [
      "SELECT * FROM STREAMLITAPPTABLE WHERE AUDIO_FILE_NAME = 'audio1.mp3'\n"
     ]
    }
   ],
   "source": [
    "text = \"\"\"CREATE TABLE STREAMLITAPPTABLE (\n",
    "\tDATETIME DATE,\n",
    "\tAUDIO_FILE_NAME VARCHAR(100),\n",
    "\tDURATION FLOAT,\n",
    "\tCALLTOACTION VARCHAR(16777216),\n",
    "\tCLAIMNUMBER VARCHAR(16777216),\n",
    "\tCUSTOMER VARCHAR(16777216),\n",
    "\tINTENT VARCHAR(16777216),\n",
    "\tISSUE VARCHAR(16777216),\n",
    "\tPOLICYNUMBER VARCHAR(16777216),\n",
    "\tPURPOSEOFCALL VARCHAR(16777216),\n",
    "\tREPRESENTATIVE VARCHAR(16777216),\n",
    "\tRESOLUTION VARCHAR(16777216),\n",
    "\tRESPONSEMODE VARCHAR(16777216),\n",
    "\tRESPONSETIME VARCHAR(16777216),\n",
    ")\n",
    "\n",
    "-- Using valid SQLite, answer the following questions for the tables provided above.\n",
    "\n",
    "-- Give me details for the audio file audio1.mp3?\n",
    "\n",
    "SELECT\"\"\"\n",
    "\n",
    "model_input = tokenizer(text, return_tensors=\"pt\").to(\"cuda\")\n",
    "\n",
    "generated_ids = model.generate(**model_input, max_new_tokens=500)\n",
    "print(tokenizer.decode(generated_ids[0][len(model_input[0])-1:], skip_special_tokens=True).strip().replace('\"',\"'\"))"
   ]
  },
  {
   "cell_type": "code",
   "execution_count": 23,
   "id": "7fc47286",
   "metadata": {},
   "outputs": [
    {
     "name": "stdout",
     "output_type": "stream",
     "text": [
      "\n",
      "CREATE TABLE STREAMLITAPPTABLE (\n",
      "\tDATETIME DATE,\n",
      "\tAUDIO_FILE_NAME VARCHAR(100),\n",
      "\tDURATION FLOAT,\n",
      "\tCALLTOACTION VARCHAR(16777216),\n",
      "\tCLAIMNUMBER VARCHAR(16777216),\n",
      "\tCUSTOMER VARCHAR(16777216),\n",
      "\tINTENT VARCHAR(16777216),\n",
      "\tISSUE VARCHAR(16777216),\n",
      "\tPOLICYNUMBER VARCHAR(16777216),\n",
      "\tPURPOSEOFCALL VARCHAR(16777216),\n",
      "\tREPRESENTATIVE VARCHAR(16777216),\n",
      "\tRESOLUTION VARCHAR(16777216),\n",
      "\tRESPONSEMODE VARCHAR(16777216),\n",
      "\tRESPONSETIME VARCHAR(16777216),\n",
      ")\n",
      "\n",
      "-- Using valid SQLite, answer the following questions for the tables provided above.\n",
      "\n",
      "-- what is the resolution for the audio file audio1.mp3?\n",
      "\n",
      "SELECT RESOLUTION FROM STREAMLITAPPTABLE WHERE AUDIO_FILE_NAME = \"audio1.mp3\";\n"
     ]
    }
   ],
   "source": [
    "text = \"\"\"\n",
    "CREATE TABLE STREAMLITAPPTABLE (\n",
    "\tDATETIME DATE,\n",
    "\tAUDIO_FILE_NAME VARCHAR(100),\n",
    "\tDURATION FLOAT,\n",
    "\tCALLTOACTION VARCHAR(16777216),\n",
    "\tCLAIMNUMBER VARCHAR(16777216),\n",
    "\tCUSTOMER VARCHAR(16777216),\n",
    "\tINTENT VARCHAR(16777216),\n",
    "\tISSUE VARCHAR(16777216),\n",
    "\tPOLICYNUMBER VARCHAR(16777216),\n",
    "\tPURPOSEOFCALL VARCHAR(16777216),\n",
    "\tREPRESENTATIVE VARCHAR(16777216),\n",
    "\tRESOLUTION VARCHAR(16777216),\n",
    "\tRESPONSEMODE VARCHAR(16777216),\n",
    "\tRESPONSETIME VARCHAR(16777216),\n",
    ")\n",
    "\n",
    "-- Using valid SQLite, answer the following questions for the tables provided above.\n",
    "\n",
    "-- what is the resolution for the audio file audio1.mp3?\n",
    "\n",
    "SELECT\"\"\"\n",
    "\n",
    "model_input = tokenizer(text, return_tensors=\"pt\").to(\"cuda\")\n",
    "\n",
    "generated_ids = model.generate(**model_input, max_new_tokens=100)\n",
    "print(tokenizer.decode(generated_ids[0], skip_special_tokens=True))"
   ]
  },
  {
   "cell_type": "code",
   "execution_count": 69,
   "id": "c20ca416",
   "metadata": {},
   "outputs": [
    {
     "data": {
      "text/plain": [
       "'SELECT DURATION, COUNT(DURATION) FROM STREAMLITAPPTABLE GROUP BY DURATION;'"
      ]
     },
     "execution_count": 69,
     "metadata": {},
     "output_type": "execute_result"
    }
   ],
   "source": [
    "res=tokenizer.decode(generated_ids[0][len(model_input[0])-1:], skip_special_tokens=True).strip()\n",
    "res\n"
   ]
  },
  {
   "cell_type": "code",
   "execution_count": 70,
   "id": "665524b3",
   "metadata": {},
   "outputs": [
    {
     "name": "stdout",
     "output_type": "stream",
     "text": [
      "SELECT CALLTOACTION FROM STREAMLITAPPTABLE WHERE RESPONSETIME = \"shortly\"\n"
     ]
    }
   ],
   "source": [
    "text = \"\"\"\n",
    "CREATE TABLE STREAMLITAPPTABLE (\n",
    "\tDATETIME DATE,\n",
    "\tAUDIO_FILE_NAME VARCHAR(100),\n",
    "\tDURATION FLOAT,\n",
    "\tCALLTOACTION VARCHAR(16777216),\n",
    "\tCLAIMNUMBER VARCHAR(16777216),\n",
    "\tCUSTOMER VARCHAR(16777216),\n",
    "\tINTENT VARCHAR(16777216),\n",
    "\tISSUE VARCHAR(16777216),\n",
    "\tPOLICYNUMBER VARCHAR(16777216),\n",
    "\tPURPOSEOFCALL VARCHAR(16777216),\n",
    "\tREPRESENTATIVE VARCHAR(16777216),\n",
    "\tRESOLUTION VARCHAR(16777216),\n",
    "\tRESPONSEMODE VARCHAR(16777216),\n",
    "\tRESPONSETIME VARCHAR(16777216),\n",
    ")\n",
    "\n",
    "-- Using valid SQLite, answer the following questions for the tables provided above. \n",
    "\n",
    "-- Give me the all the call where the response time is shortly. Replace double quotes with single in the query ?\n",
    "\n",
    "\"\"\"\n",
    "\n",
    "model_input = tokenizer(text, return_tensors=\"pt\").to(\"cuda\")\n",
    "\n",
    "\n",
    "generated_ids = model.generate(**model_input, max_new_tokens=500) \n",
    "print(tokenizer.decode(generated_ids[0][len(model_input[0])-1:], skip_special_tokens=True).strip())\n",
    "\n"
   ]
  },
  {
   "cell_type": "code",
   "execution_count": 56,
   "id": "f91f34be",
   "metadata": {},
   "outputs": [
    {
     "data": {
      "text/plain": [
       "''"
      ]
     },
     "execution_count": 56,
     "metadata": {},
     "output_type": "execute_result"
    }
   ],
   "source": [
    "tokenizer.decode(generated_ids[0][len(generated_ids[0]):], skip_special_tokens=True)"
   ]
  },
  {
   "cell_type": "code",
   "execution_count": null,
   "id": "1f5c1bf7",
   "metadata": {},
   "outputs": [],
   "source": [
    "text = \"\"\"\n",
    "CREATE TABLE STREAMLITAPPTABLE (\n",
    "\tDATETIME DATE,\n",
    "\tAUDIO_FILE_NAME VARCHAR(100),\n",
    "\tDURATION FLOAT,\n",
    "\tCALLTOACTION VARCHAR(16777216),\n",
    "\tCLAIMNUMBER VARCHAR(16777216),\n",
    "\tCUSTOMER VARCHAR(16777216),\n",
    "\tINTENT VARCHAR(16777216),\n",
    "\tISSUE VARCHAR(16777216),\n",
    "\tPOLICYNUMBER VARCHAR(16777216),\n",
    "\tPURPOSEOFCALL VARCHAR(16777216),\n",
    "\tREPRESENTATIVE VARCHAR(16777216),\n",
    "\tRESOLUTION VARCHAR(16777216),\n",
    "\tRESPONSEMODE VARCHAR(16777216),\n",
    "\tRESPONSETIME VARCHAR(16777216),\n",
    ")\n",
    "\n",
    "-- Using valid SQLite, answer the following questions for the tables provided above.\n",
    "\n",
    "-- what is the sum of call duration for every representative and for every resolution ?\n",
    "\n",
    "SELECT\"\"\"\n",
    "\n",
    "model_input = tokenizer(text, return_tensors=\"pt\").to(\"cuda\")\n",
    "\n",
    "generated_ids = model.generate(**model_input, max_new_tokens=500)\n",
    "print(tokenizer.decode(generated_ids[0], skip_special_tokens=True))"
   ]
  },
  {
   "cell_type": "code",
   "execution_count": 48,
   "id": "3374cd51",
   "metadata": {},
   "outputs": [
    {
     "name": "stdout",
     "output_type": "stream",
     "text": [
      "Using valid SQLite, answer the following questions for the tables provided above. \n",
      "\n",
      "-- Give me the all the call where the response time is shortly. Replace double quotes with single in the query ?\n",
      "\n",
      "SELECT CALLTOACTION FROM STREAMLITAPPTABLE WHERE RESPONSETIME = \"shortly\"\n"
     ]
    }
   ],
   "source": [
    "text = \"\"\"\n",
    "CREATE TABLE STREAMLITAPPTABLE (\n",
    "\tDATETIME DATE,\n",
    "\tAUDIO_FILE_NAME VARCHAR(100),\n",
    "\tDURATION FLOAT,\n",
    "\tCALLTOACTION VARCHAR(16777216),\n",
    "\tCLAIMNUMBER VARCHAR(16777216),\n",
    "\tCUSTOMER VARCHAR(16777216),\n",
    "\tINTENT VARCHAR(16777216),\n",
    "\tISSUE VARCHAR(16777216),\n",
    "\tPOLICYNUMBER VARCHAR(16777216),\n",
    "\tPURPOSEOFCALL VARCHAR(16777216),\n",
    "\tREPRESENTATIVE VARCHAR(16777216),\n",
    "\tRESOLUTION VARCHAR(16777216),\n",
    "\tRESPONSEMODE VARCHAR(16777216),\n",
    "\tRESPONSETIME VARCHAR(16777216),\n",
    ")\n",
    "\n",
    "-- Using valid SQLite, answer the following questions for the tables provided above. \n",
    "\n",
    "-- Give me the all the call where the response time is shortly.\n",
    "\n",
    "\"\"\"\n",
    "\n",
    "model_input = tokenizer(text, return_tensors=\"pt\").to(\"cuda\")\n",
    "\n",
    "\n",
    "generated_ids = model.generate(**model_input, max_new_tokens=500) \n",
    "print(tokenizer.decode(generated_ids[0][len(model_input[0])-1:], skip_special_tokens=True).strip())"
   ]
  },
  {
   "cell_type": "markdown",
   "id": "751d2ddc",
   "metadata": {},
   "source": [
    "### Expose the Model as an API"
   ]
  },
  {
   "cell_type": "markdown",
   "id": "90131d55",
   "metadata": {},
   "source": [
    "- Open a terminal and run the below command or you can execute the below cell directly\n",
    "```bash\n",
    "sh ./RunFastAPI.sh\n",
    "```"
   ]
  },
  {
   "cell_type": "code",
   "execution_count": null,
   "id": "05951a28",
   "metadata": {},
   "outputs": [],
   "source": [
    "%%sh\n",
    "chmod +x RunFastAPI.sh\n",
    "./RunFastAPI.sh"
   ]
  },
  {
   "attachments": {
    "image.png": {
     "image/png": "[encoded data removed]"
    }
   },
   "cell_type": "markdown",
   "id": "957db0a3",
   "metadata": {},
   "source": [
    "### Wait for the above command until you see the following output\n",
    "![image.png](attachment:image.png)"
   ]
  },
  {
   "cell_type": "markdown",
   "id": "f7c7b894",
   "metadata": {},
   "source": [
    "### Go to the readme file for the next steps"
   ]
  },
  {
   "cell_type": "markdown",
   "id": "1794e6c0",
   "metadata": {},
   "source": []
  }
 ],
 "metadata": {
  "kernelspec": {
   "display_name": "Python 3 (ipykernel)",
   "language": "python",
   "name": "python3"
  },
  "language_info": {
   "codemirror_mode": {
    "name": "ipython",
    "version": 3
   },
   "file_extension": ".py",
   "mimetype": "text/x-python",
   "name": "python",
   "nbconvert_exporter": "python",
   "pygments_lexer": "ipython3",
   "version": "3.10.6"
  }
 },
 "nbformat": 4,
 "nbformat_minor": 5
}
