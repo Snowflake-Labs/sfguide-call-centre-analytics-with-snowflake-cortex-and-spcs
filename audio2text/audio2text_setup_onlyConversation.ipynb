{
 "cells": [
  {
   "cell_type": "code",
   "execution_count": 1,
   "metadata": {},
   "outputs": [],
   "source": [
    "\n",
    "import json\n",
    "from snowflake.snowpark.session import Session\n",
    "import snowflake.snowpark.functions as F\n",
    "\n"
   ]
  },
  {
   "cell_type": "markdown",
   "metadata": {},
   "source": [
    "###  1. Setup \n",
    "\n",
    "This will populate the ALL_CLAIMS_RAW table from a CSV file and doesn't need  SPCS as we are not running Whisper model in the container. \n",
    "\n",
    " \n",
    " Run the below commands in snowsight as <b>ACCOUNTADMIN</b>\n",
    "\n",
    "You have to execute the below commands only once for all the three containers you will be creating as part of the solution. You will be creating the other pools while crearting other SPCS services.\n",
    "\n",
    "``` sql\n",
    "\n",
    "USE ROLE ACCOUNTADMIN;\n",
    "\n",
    "CREATE ROLE SPCS_PSE_ROLE;\n",
    "\n",
    "CREATE DATABASE IF NOT EXISTS LLMDemo;\n",
    "GRANT OWNERSHIP ON DATABASE LLMDemo TO ROLE SPCS_PSE_ROLE COPY CURRENT GRANTS;\n",
    "GRANT OWNERSHIP ON ALL SCHEMAS IN DATABASE LLMDemo  TO ROLE SPCS_PSE_ROLE COPY CURRENT GRANTS;\n",
    "\n",
    "CREATE OR REPLACE WAREHOUSE small_warehouse WITH\n",
    "  WAREHOUSE_SIZE='X-SMALL';\n",
    "GRANT USAGE ON WAREHOUSE small_warehouse TO ROLE SPCS_PSE_ROLE;\n",
    "\n",
    "CREATE SECURITY INTEGRATION IF NOT EXISTS snowservices_ingress_oauth\n",
    "  TYPE=oauth\n",
    "  OAUTH_CLIENT=snowservices_ingress\n",
    "  ENABLED=true;\n",
    "\n",
    "GRANT BIND SERVICE ENDPOINT ON ACCOUNT TO ROLE SPCS_PSE_ROLE;\n",
    "\n",
    "GRANT DATABASE ROLE SNOWFLAKE.CORTEX_USER TO ROLE SPCS_PSE_ROLE;\n",
    "\n",
    "GRANT ROLE SPCS_PSE_ROLE TO USER <user_name>;\n",
    "\n",
    "USE ROLE SPCS_PSE_ROLE;\n",
    "USE DATABASE LLMDemo;\n",
    "USE WAREHOUSE small_warehouse;\n",
    "USE SCHEMA PUBLIC;\n",
    "\n",
    "\n",
    "```\n"
   ]
  },
  {
   "cell_type": "markdown",
   "metadata": {},
   "source": [
    "### 2. Create Table"
   ]
  },
  {
   "cell_type": "markdown",
   "metadata": {},
   "source": [
    "> Note : In Connection.json file you should use the SPCS_PSE_ROLE which you have created earlier"
   ]
  },
  {
   "cell_type": "code",
   "execution_count": null,
   "metadata": {},
   "outputs": [],
   "source": [
    "# Connection.json file you should use the SPCS_PSE_ROLE which you have created earlier\n",
    "\n",
    "connection_parameters = json.load(open('../connection.json'))\n",
    "session = Session.builder.configs(connection_parameters).create()\n",
    "# Add a query tag to the session.\n",
    "session.query_tag = {\"origin\":\"sf_sit-is\", \n",
    "                     \"name\":\"spcs_call_center\", \n",
    "                     \"version\":{\"major\":1, \"minor\":0},\n",
    "                     \"attributes\":{\"is_quickstart\":1, \"source\":\"notebook\"}}\n"
   ]
  },
  {
   "cell_type": "code",
   "execution_count": null,
   "metadata": {},
   "outputs": [],
   "source": [
    "# Run the below command to create the required stage\n",
    "# If you have already created that then you can ignore.\n",
    "stages=['WHISPER_APP','AUDIO_FILES','SPECS','CSV_FILES','LLM_WORKSPACE']\n",
    "for stg in stages:\n",
    "    session.sql(f'''\n",
    "                CREATE STAGE IF NOT EXISTS {stg} ENCRYPTION = (TYPE = 'SNOWFLAKE_SSE') \n",
    "                DIRECTORY = (ENABLE = TRUE);\n",
    "                ''').collect()\n"
   ]
  },
  {
   "cell_type": "code",
   "execution_count": 19,
   "metadata": {},
   "outputs": [
    {
     "data": {
      "text/plain": [
       "[Row(status='Table DEMO_ALL_CLAIMS_RAW successfully created.')]"
      ]
     },
     "execution_count": 19,
     "metadata": {},
     "output_type": "execute_result"
    }
   ],
   "source": [
    "# Creating the Table to load the Audio file raw text along with duration and other attributes\n",
    "\n",
    "# Duration is in seconds\n",
    "\n",
    "session.sql('''\n",
    "    CREATE or REPLACE TABLE ALL_CLAIMS_RAW (\n",
    "\tDATETIME DATE,\n",
    "\tAUDIOFILE VARCHAR(16777216),\n",
    "\tCONVERSATION VARCHAR(16777216),\n",
    "\tPRESIGNED_URL_PATH VARCHAR(16777216),\n",
    "\tDURATION FLOAT NOT NULL\n",
    ")''').collect()\n"
   ]
  },
  {
   "cell_type": "markdown",
   "metadata": {},
   "source": [
    "#### 3. Loading Data into the ALL_CLAIMS_RAW Table\n",
    "\n",
    "Since we don't have lot of audio files from insurance industry, we will be loading sample data into the Raw table which has the raw conversation from the insurance industry."
   ]
  },
  {
   "cell_type": "code",
   "execution_count": 17,
   "metadata": {},
   "outputs": [],
   "source": [
    "_ = session.file.put(\"./Sample_Audio_Text.csv\", \"@CSV_FILES\", auto_compress=False)\n",
    "\n",
    "sp_df=session.read.options({\"INFER_SCHEMA\":True,\"PARSE_HEADER\":True,\"FIELD_OPTIONALLY_ENCLOSED_BY\":'\"'}).csv('@CSV_FILES/Sample_Audio_Text.csv')\n",
    "\n",
    "# sp_df = session.read.option(\"INFER_SCHEMA\", True).option(\"PARSE_HEADER\", True).option(\"FIELD_OPTIONALLY_ENCLOSED_BY\",'\"').csv(\"@CSV_FILES/Sample_Audio_Text.csv\")"
   ]
  },
  {
   "cell_type": "code",
   "execution_count": 20,
   "metadata": {},
   "outputs": [],
   "source": [
    "sp_df.write.mode(\"overwrite\").save_as_table(\"ALL_CLAIMS_RAW\")"
   ]
  },
  {
   "cell_type": "code",
   "execution_count": 21,
   "metadata": {},
   "outputs": [
    {
     "data": {
      "text/html": [
       "<div>\n",
       "<style scoped>\n",
       "    .dataframe tbody tr th:only-of-type {\n",
       "        vertical-align: middle;\n",
       "    }\n",
       "\n",
       "    .dataframe tbody tr th {\n",
       "        vertical-align: top;\n",
       "    }\n",
       "\n",
       "    .dataframe thead th {\n",
       "        text-align: right;\n",
       "    }\n",
       "</style>\n",
       "<table border=\"1\" class=\"dataframe\">\n",
       "  <thead>\n",
       "    <tr style=\"text-align: right;\">\n",
       "      <th></th>\n",
       "      <th>DATETIME</th>\n",
       "      <th>AUDIOFILE</th>\n",
       "      <th>CONVERSATION</th>\n",
       "      <th>PRESIGNED_URL_PATH</th>\n",
       "      <th>DURATION</th>\n",
       "    </tr>\n",
       "  </thead>\n",
       "  <tbody>\n",
       "    <tr>\n",
       "      <th>0</th>\n",
       "      <td>2023-11-11</td>\n",
       "      <td>audiofile1.mp3</td>\n",
       "      <td>Hello, this is Emily from AutoAssure Insurance...</td>\n",
       "      <td>https://sfc-prod3-ds1-16-customer-stage.s3.us-...</td>\n",
       "      <td>218.254271</td>\n",
       "    </tr>\n",
       "    <tr>\n",
       "      <th>1</th>\n",
       "      <td>2023-11-11</td>\n",
       "      <td>audiofile2.mp3</td>\n",
       "      <td>Hello, this is James from AutoAssure Insurance...</td>\n",
       "      <td>https://sfc-prod3-ds1-16-customer-stage.s3.us-...</td>\n",
       "      <td>197.705486</td>\n",
       "    </tr>\n",
       "    <tr>\n",
       "      <th>2</th>\n",
       "      <td>2023-11-11</td>\n",
       "      <td>audiofile3.mp3</td>\n",
       "      <td>Hello, this is Sarah from AutoAssure Insurance...</td>\n",
       "      <td>https://sfc-prod3-ds1-16-customer-stage.s3.us-...</td>\n",
       "      <td>75.172382</td>\n",
       "    </tr>\n",
       "    <tr>\n",
       "      <th>3</th>\n",
       "      <td>2023-11-11</td>\n",
       "      <td>audiofile4.mp3</td>\n",
       "      <td>Hello, this is Kevin from AutoAssure Insurance...</td>\n",
       "      <td>https://sfc-prod3-ds1-16-customer-stage.s3.us-...</td>\n",
       "      <td>224.291618</td>\n",
       "    </tr>\n",
       "    <tr>\n",
       "      <th>4</th>\n",
       "      <td>2023-11-15</td>\n",
       "      <td>audiofile5.mp3</td>\n",
       "      <td>Hello, this is Olivia from AutoAssure Insuranc...</td>\n",
       "      <td>https://sfc-prod3-ds1-16-customer-stage.s3.us-...</td>\n",
       "      <td>174.649442</td>\n",
       "    </tr>\n",
       "    <tr>\n",
       "      <th>...</th>\n",
       "      <td>...</td>\n",
       "      <td>...</td>\n",
       "      <td>...</td>\n",
       "      <td>...</td>\n",
       "      <td>...</td>\n",
       "    </tr>\n",
       "    <tr>\n",
       "      <th>91</th>\n",
       "      <td>2024-01-05</td>\n",
       "      <td>audiofile92.mp3</td>\n",
       "      <td>Good morning, this is Sara at AutoAssure Insur...</td>\n",
       "      <td>https://sfc-prod3-ds1-16-customer-stage.s3.us-...</td>\n",
       "      <td>102.048162</td>\n",
       "    </tr>\n",
       "    <tr>\n",
       "      <th>92</th>\n",
       "      <td>2024-01-05</td>\n",
       "      <td>audiofile93.mp3</td>\n",
       "      <td>Hello, I'm Michael with AutoAssure Insurance, ...</td>\n",
       "      <td>https://sfc-prod3-ds1-16-customer-stage.s3.us-...</td>\n",
       "      <td>71.842008</td>\n",
       "    </tr>\n",
       "    <tr>\n",
       "      <th>93</th>\n",
       "      <td>2024-01-10</td>\n",
       "      <td>audiofile95.wav</td>\n",
       "      <td>Welcome to AutoAssure Insurance, this is Josh....</td>\n",
       "      <td>https://sfc-prod3-ds1-16-customer-stage.s3.us-...</td>\n",
       "      <td>84.340859</td>\n",
       "    </tr>\n",
       "    <tr>\n",
       "      <th>94</th>\n",
       "      <td>2024-01-10</td>\n",
       "      <td>audiofile97.wav</td>\n",
       "      <td>Hi, this is Ethan from AutoAssure Insurance. W...</td>\n",
       "      <td>https://sfc-prod3-ds1-16-customer-stage.s3.us-...</td>\n",
       "      <td>195.237454</td>\n",
       "    </tr>\n",
       "    <tr>\n",
       "      <th>95</th>\n",
       "      <td>2024-01-10</td>\n",
       "      <td>audiofile98.mp3</td>\n",
       "      <td>Hello, this is Grace with AutoAssure Insurance...</td>\n",
       "      <td>https://sfc-prod3-ds1-16-customer-stage.s3.us-...</td>\n",
       "      <td>123.076528</td>\n",
       "    </tr>\n",
       "  </tbody>\n",
       "</table>\n",
       "<p>96 rows × 5 columns</p>\n",
       "</div>"
      ],
      "text/plain": [
       "      DATETIME        AUDIOFILE  \\\n",
       "0   2023-11-11   audiofile1.mp3   \n",
       "1   2023-11-11   audiofile2.mp3   \n",
       "2   2023-11-11   audiofile3.mp3   \n",
       "3   2023-11-11   audiofile4.mp3   \n",
       "4   2023-11-15   audiofile5.mp3   \n",
       "..         ...              ...   \n",
       "91  2024-01-05  audiofile92.mp3   \n",
       "92  2024-01-05  audiofile93.mp3   \n",
       "93  2024-01-10  audiofile95.wav   \n",
       "94  2024-01-10  audiofile97.wav   \n",
       "95  2024-01-10  audiofile98.mp3   \n",
       "\n",
       "                                         CONVERSATION  \\\n",
       "0   Hello, this is Emily from AutoAssure Insurance...   \n",
       "1   Hello, this is James from AutoAssure Insurance...   \n",
       "2   Hello, this is Sarah from AutoAssure Insurance...   \n",
       "3   Hello, this is Kevin from AutoAssure Insurance...   \n",
       "4   Hello, this is Olivia from AutoAssure Insuranc...   \n",
       "..                                                ...   \n",
       "91  Good morning, this is Sara at AutoAssure Insur...   \n",
       "92  Hello, I'm Michael with AutoAssure Insurance, ...   \n",
       "93  Welcome to AutoAssure Insurance, this is Josh....   \n",
       "94  Hi, this is Ethan from AutoAssure Insurance. W...   \n",
       "95  Hello, this is Grace with AutoAssure Insurance...   \n",
       "\n",
       "                                   PRESIGNED_URL_PATH    DURATION  \n",
       "0   https://sfc-prod3-ds1-16-customer-stage.s3.us-...  218.254271  \n",
       "1   https://sfc-prod3-ds1-16-customer-stage.s3.us-...  197.705486  \n",
       "2   https://sfc-prod3-ds1-16-customer-stage.s3.us-...   75.172382  \n",
       "3   https://sfc-prod3-ds1-16-customer-stage.s3.us-...  224.291618  \n",
       "4   https://sfc-prod3-ds1-16-customer-stage.s3.us-...  174.649442  \n",
       "..                                                ...         ...  \n",
       "91  https://sfc-prod3-ds1-16-customer-stage.s3.us-...  102.048162  \n",
       "92  https://sfc-prod3-ds1-16-customer-stage.s3.us-...   71.842008  \n",
       "93  https://sfc-prod3-ds1-16-customer-stage.s3.us-...   84.340859  \n",
       "94  https://sfc-prod3-ds1-16-customer-stage.s3.us-...  195.237454  \n",
       "95  https://sfc-prod3-ds1-16-customer-stage.s3.us-...  123.076528  \n",
       "\n",
       "[96 rows x 5 columns]"
      ]
     },
     "execution_count": 21,
     "metadata": {},
     "output_type": "execute_result"
    }
   ],
   "source": [
    "session.table('ALL_CLAIMS_RAW').to_pandas()"
   ]
  },
  {
   "cell_type": "markdown",
   "metadata": {},
   "source": []
  }
 ],
 "metadata": {
  "kernelspec": {
   "display_name": "snowpark_3_8",
   "language": "python",
   "name": "python3"
  },
  "language_info": {
   "codemirror_mode": {
    "name": "ipython",
    "version": 3
   },
   "file_extension": ".py",
   "mimetype": "text/x-python",
   "name": "python",
   "nbconvert_exporter": "python",
   "pygments_lexer": "ipython3",
   "version": "3.8.18"
  }
 },
 "nbformat": 4,
 "nbformat_minor": 2
}
