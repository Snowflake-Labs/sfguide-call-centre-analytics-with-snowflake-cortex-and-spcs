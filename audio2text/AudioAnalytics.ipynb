{
 "cells": [
  {
   "cell_type": "code",
   "execution_count": 31,
   "id": "967f031a",
   "metadata": {},
   "outputs": [],
   "source": [
    "# Import Python packages\n",
    "import pandas as pd\n",
    "import os\n",
    "import json\n",
    "import pickle\n",
    "import numpy as np\n",
    "import time\n",
    "import sys\n",
    "# import cachetools\n",
    "# Import Snowflake modules\n",
    "from snowflake.snowpark import Session, DataFrame\n",
    "from snowflake.snowpark import functions as F\n",
    "from snowflake.snowpark import types as T\n",
    "from snowflake.snowpark import Row, Column\n",
    "import pandas as pd\n",
    "from snowflake.snowpark.version import VERSION"
   ]
  },
  {
   "cell_type": "code",
   "execution_count": 32,
   "id": "043e5b0e-c54c-4005-8d28-1e6d58cca9ea",
   "metadata": {},
   "outputs": [
    {
     "name": "stdout",
     "output_type": "stream",
     "text": [
      "\"XS_WH\"\n",
      "\n",
      "Connection Established with the following parameters:\n",
      "User                        : PRAJ\n",
      "Role                        : \"SPCS_PSE_ROLE\"\n",
      "Database                    : \"PR_LLMDEMO\"\n",
      "Schema                      : \"PUBLIC\"\n",
      "Warehouse                   : \"XS_WH\"\n",
      "Snowflake version           : 8.1.0\n",
      "Snowpark for Python version : 1.9.0\n"
     ]
    }
   ],
   "source": [
    "# Get account credentials from a json file\n",
    "with open(\"../connection.json\") as f:\n",
    "    data = json.load(f)\n",
    "    username = data[\"user\"]\n",
    "    password = data[\"password\"]\n",
    "    account = data[\"account\"]\n",
    "    database = data[\"database\"]\n",
    "    schema = data[\"schema\"]\n",
    "    warehouse = data[\"warehouse\"]\n",
    "\n",
    "# Specify connection parameters\n",
    "connection_parameters = {\n",
    "    \"account\": account,\n",
    "    \"user\": username,\n",
    "    \"password\": password,\n",
    "    \"warehouse\": warehouse,\n",
    "    \"database\": database,\n",
    "    \"schema\": schema,\n",
    "}\n",
    "\n",
    "# Create Snowpark session\n",
    "session = Session.builder.configs(connection_parameters).create()\n",
    "# Add a query tag to the session.\n",
    "session.query_tag = {\"origin\":\"sf_sit-is\", \n",
    "                     \"name\":\"spcs_call_center\", \n",
    "                     \"version\":{\"major\":1, \"minor\":0},\n",
    "                     \"attributes\":{\"is_quickstart\":1, \"source\":\"notebook\"}}\n",
    "snowflake_environment = session.sql('SELECT current_user(), current_version()').collect()\n",
    "\n",
    "print(session.get_current_warehouse())\n",
    "snowpark_version = VERSION\n",
    "\n",
    "# Current Environment Details\n",
    "print('\\nConnection Established with the following parameters:')\n",
    "print('User                        : {}'.format(snowflake_environment[0][0]))\n",
    "print('Role                        : {}'.format(session.get_current_role()))\n",
    "print('Database                    : {}'.format(session.get_current_database()))\n",
    "print('Schema                      : {}'.format(session.get_current_schema()))\n",
    "print('Warehouse                   : {}'.format(session.get_current_warehouse()))\n",
    "print('Snowflake version           : {}'.format(snowflake_environment[0][1]))\n",
    "print('Snowpark for Python version : {}.{}.{}'.format(snowpark_version[0],snowpark_version[1],snowpark_version[2]))"
   ]
  },
  {
   "cell_type": "code",
   "execution_count": 33,
   "id": "9d49360f",
   "metadata": {},
   "outputs": [],
   "source": [
    "generated_transcripts_df = session.table(\"ALL_CLAIMS_RAW\")"
   ]
  },
  {
   "cell_type": "code",
   "execution_count": 34,
   "id": "1998c70e",
   "metadata": {},
   "outputs": [
    {
     "data": {
      "text/plain": [
       "96"
      ]
     },
     "execution_count": 34,
     "metadata": {},
     "output_type": "execute_result"
    }
   ],
   "source": [
    "generated_transcripts_df.count()"
   ]
  },
  {
   "cell_type": "code",
   "execution_count": 35,
   "id": "a7cb482a",
   "metadata": {},
   "outputs": [
    {
     "data": {
      "text/html": [
       "<div>\n",
       "<style scoped>\n",
       "    .dataframe tbody tr th:only-of-type {\n",
       "        vertical-align: middle;\n",
       "    }\n",
       "\n",
       "    .dataframe tbody tr th {\n",
       "        vertical-align: top;\n",
       "    }\n",
       "\n",
       "    .dataframe thead th {\n",
       "        text-align: right;\n",
       "    }\n",
       "</style>\n",
       "<table border=\"1\" class=\"dataframe\">\n",
       "  <thead>\n",
       "    <tr style=\"text-align: right;\">\n",
       "      <th></th>\n",
       "      <th>DATETIME</th>\n",
       "      <th>AUDIOFILE</th>\n",
       "      <th>TYPES</th>\n",
       "      <th>CONVERSATION</th>\n",
       "      <th>PRESIGNED_URL_PATH</th>\n",
       "      <th>DURATION</th>\n",
       "    </tr>\n",
       "  </thead>\n",
       "  <tbody>\n",
       "    <tr>\n",
       "      <th>0</th>\n",
       "      <td>2023-11-11</td>\n",
       "      <td>audiofile1.mp3</td>\n",
       "      <td>Dispute Resolution</td>\n",
       "      <td>Hello, this is Emily from AutoAssure Insurance...</td>\n",
       "      <td>https://sfc-prod3-ds1-16-customer-stage.s3.us-...</td>\n",
       "      <td>218.254271</td>\n",
       "    </tr>\n",
       "    <tr>\n",
       "      <th>1</th>\n",
       "      <td>2023-11-11</td>\n",
       "      <td>audiofile2.mp3</td>\n",
       "      <td>Dispute Resolution</td>\n",
       "      <td>Hello, this is James from AutoAssure Insurance...</td>\n",
       "      <td>https://sfc-prod3-ds1-16-customer-stage.s3.us-...</td>\n",
       "      <td>197.705486</td>\n",
       "    </tr>\n",
       "    <tr>\n",
       "      <th>2</th>\n",
       "      <td>2023-11-11</td>\n",
       "      <td>audiofile3.mp3</td>\n",
       "      <td>Dispute Resolution</td>\n",
       "      <td>Hello, this is Sarah from AutoAssure Insurance...</td>\n",
       "      <td>https://sfc-prod3-ds1-16-customer-stage.s3.us-...</td>\n",
       "      <td>75.172382</td>\n",
       "    </tr>\n",
       "  </tbody>\n",
       "</table>\n",
       "</div>"
      ],
      "text/plain": [
       "     DATETIME       AUDIOFILE               TYPES  \\\n",
       "0  2023-11-11  audiofile1.mp3  Dispute Resolution   \n",
       "1  2023-11-11  audiofile2.mp3  Dispute Resolution   \n",
       "2  2023-11-11  audiofile3.mp3  Dispute Resolution   \n",
       "\n",
       "                                        CONVERSATION  \\\n",
       "0  Hello, this is Emily from AutoAssure Insurance...   \n",
       "1  Hello, this is James from AutoAssure Insurance...   \n",
       "2  Hello, this is Sarah from AutoAssure Insurance...   \n",
       "\n",
       "                                  PRESIGNED_URL_PATH    DURATION  \n",
       "0  https://sfc-prod3-ds1-16-customer-stage.s3.us-...  218.254271  \n",
       "1  https://sfc-prod3-ds1-16-customer-stage.s3.us-...  197.705486  \n",
       "2  https://sfc-prod3-ds1-16-customer-stage.s3.us-...   75.172382  "
      ]
     },
     "execution_count": 35,
     "metadata": {},
     "output_type": "execute_result"
    }
   ],
   "source": [
    "generated_transcripts_df.limit(3).to_pandas()"
   ]
  },
  {
   "cell_type": "markdown",
   "id": "e0e00ecb",
   "metadata": {},
   "source": [
    "### Grant Role to access Cortex Functions\n",
    "Only the below command should be executed as Accountadmin and rest of the code using custom role you have created(SPCS_PSE_ROLE)"
   ]
  },
  {
   "cell_type": "markdown",
   "id": "0aee5177",
   "metadata": {},
   "source": [
    "```sql\n",
    "USE ROLE accountadmin;\n",
    "GRANT DATABASE ROLE SNOWFLAKE.CORTEX_USER TO ROLE  SPCS_PSE_ROLE\n",
    "```"
   ]
  },
  {
   "cell_type": "markdown",
   "id": "f7984d13",
   "metadata": {},
   "source": [
    "### Custom Prompt"
   ]
  },
  {
   "cell_type": "code",
   "execution_count": 36,
   "id": "128e7ef1",
   "metadata": {},
   "outputs": [
    {
     "data": {
      "text/plain": [
       "[Row(status='UDF already exists, statement succeeded.')]"
      ]
     },
     "execution_count": 36,
     "metadata": {},
     "output_type": "execute_result"
    }
   ],
   "source": [
    "session.sql(\"create stage if not exists udf\").collect()"
   ]
  },
  {
   "cell_type": "code",
   "execution_count": 37,
   "id": "86e462ea",
   "metadata": {},
   "outputs": [],
   "source": [
    "# @F.udf(name=\"get_qa_prompt_zeroshort\", session=session, packages=['scikit-learn==1.1.1', 'pandas'], is_permanent=True, stage_location=\"@udf\", replace=True, input_types=[T.PandasSeriesType(T.StringType())], return_type=T.PandasSeriesType(T.StringType()))\n",
    "# def get_qa_prompt(query_series:pd.Series):\n",
    "#     response_series =  query_series.map(lambda query: f\"\"\"\n",
    "#   [INST]We need to analyze the text of the customer support transcript in the <transcript></transcript> tag.\n",
    "#    <transcript>\n",
    "#      {query}\n",
    "#    </transcript>\n",
    "#   Provide a  response using the following format, no preamble. Extract the name of the Representative name from the transcript \n",
    "#   and replace that name for Representative and extract Customer name from the trasnscript \n",
    "#   replace that name for Customer for  building the conversation below :\n",
    "#  * Representative : text of the Representative\n",
    "#  * Customer  : text of the customer\n",
    "\n",
    "#  This patterns should be a conversation between Representative and Customer conversation. Break the entire transcript into a conversation between \n",
    "#  Representative and the Customer. \n",
    "#    Don't provide any explanations. Don't include the sentense Sure, here is the conversation between:\n",
    "# [/INST]\"\"\")\n",
    "#     return response_series"
   ]
  },
  {
   "cell_type": "code",
   "execution_count": 38,
   "id": "bb7af1c6",
   "metadata": {},
   "outputs": [],
   "source": [
    "@F.udf(name=\"get_qa_prompt_oneshort\", session=session, packages=['scikit-learn==1.1.1', 'pandas'], is_permanent=True, stage_location=\"@udf\", replace=True, input_types=[T.PandasSeriesType(T.StringType())], return_type=T.PandasSeriesType(T.StringType()))\n",
    "def get_qa_prompt_oneshort(query_series:pd.Series):\n",
    "    response_series =  query_series.map(lambda query: f\"\"\"\n",
    "                                        \n",
    "<s>[INST]\n",
    "<<SYS>>\n",
    "You are a expert in analyzing customer transcripts and tasked with answering questions about an article.  \n",
    "Please ensure that your responses are socially unbiased and positive in nature.\n",
    "If you don't know the answer, please don't share false information.\n",
    "\n",
    "Output answer in the following format and no preamble. :\n",
    "                                        * <Representative> : text of the Representative\n",
    "                                        * <Customer>  : text of the customer\n",
    "Extract the name of the Representative name from the transcript \n",
    "and replace that name for <Representative> and extract Customer name from the trasnscript replace that with <Customer> for creating the conversation. \n",
    "\n",
    "Below is one example output for the conversation:   \n",
    "                                                                    \n",
    "Representative: Jason\n",
    "Customer: Michelle Turner\n",
    "\n",
    "Jason: Hi, Michelle. My name is Jason from AutoAssure Insurance. How may I assist you today?\n",
    "Michelle: Hi, Jason. I'm calling regarding a dispute I have with a recent claim.\n",
    "Jason: Of course, Michelle. Can you please provide me with your claim number so I can access your file?\n",
    "Michelle: Certainly, it's CLM876543.\n",
    "Jason: Thank you, Michelle. Let me retrieve your claim information. While I'm doing that, could you explain the nature of the dispute?\n",
    "Michelle: Of course, Jason. I believe there's been a misunderstanding in the assessment of the damages to my vehicle.\n",
    "Jason: I appreciate you providing details, Michelle. I'll review your claim thoroughly and work towards a resolution.\n",
    "Michelle: Thank you, Jason. I hope we can reach a fair resolution.\n",
    "Jason: We'll do our best, Michelle. I'll keep you updated on the progress. Have a good day!\n",
    "                                                                              \n",
    "<</SYS>>                                                                                                             \n",
    "We need to analyze the text of the transcript found in <transcript> </transcript> tag as conversation between representative and the customer. Convert the transcript in the format mentioned in the example. \n",
    "Extract the name of the Representative name from the transcript and replace that name for <Representative> and extract Customer name from the trasnscript replace that with <Customer> while creating the conversation.                                       \n",
    "Do not include \"Sure, here is the conversation between in the output. Never say thank you, that you are happy to help, that you are an AI agent, etc. Just answer directly\". \n",
    "<transcript>\n",
    "     {query}\n",
    "</transcript> \n",
    "\n",
    "\n",
    "[/INST] Answer: Sure, I would be happy to help! \"\"\"                                        \n",
    "    )\n",
    "\n",
    "    return response_series"
   ]
  },
  {
   "cell_type": "code",
   "execution_count": 39,
   "id": "c64d60ab",
   "metadata": {},
   "outputs": [],
   "source": [
    "# prompted_snowdf = generated_transcripts_df.with_column(\"PROMPT\", F.call_udf(\"get_prompt\", F.col(\"CONVERSATION\")))"
   ]
  },
  {
   "cell_type": "code",
   "execution_count": 40,
   "id": "280217dd",
   "metadata": {},
   "outputs": [],
   "source": [
    "# zeroshort_prompted_snowdf = generated_transcripts_df.with_column(\"Zeroshort_PROMPT\", F.call_udf(\"get_qa_prompt_zeroshort\", F.col(\"CONVERSATION\")))"
   ]
  },
  {
   "cell_type": "code",
   "execution_count": 41,
   "id": "4e034dd5",
   "metadata": {},
   "outputs": [],
   "source": [
    "oneshort_prompted_snowdf = generated_transcripts_df.with_column(\"Oneshort_PROMPT\", F.call_udf(\"get_qa_prompt_oneshort\", F.col(\"CONVERSATION\")))"
   ]
  },
  {
   "cell_type": "code",
   "execution_count": 42,
   "id": "9c0e86fd",
   "metadata": {},
   "outputs": [
    {
     "data": {
      "text/html": [
       "<div>\n",
       "<style scoped>\n",
       "    .dataframe tbody tr th:only-of-type {\n",
       "        vertical-align: middle;\n",
       "    }\n",
       "\n",
       "    .dataframe tbody tr th {\n",
       "        vertical-align: top;\n",
       "    }\n",
       "\n",
       "    .dataframe thead th {\n",
       "        text-align: right;\n",
       "    }\n",
       "</style>\n",
       "<table border=\"1\" class=\"dataframe\">\n",
       "  <thead>\n",
       "    <tr style=\"text-align: right;\">\n",
       "      <th></th>\n",
       "      <th>DATETIME</th>\n",
       "      <th>AUDIOFILE</th>\n",
       "      <th>TYPES</th>\n",
       "      <th>CONVERSATION</th>\n",
       "      <th>PRESIGNED_URL_PATH</th>\n",
       "      <th>DURATION</th>\n",
       "      <th>ONESHORT_PROMPT</th>\n",
       "    </tr>\n",
       "  </thead>\n",
       "  <tbody>\n",
       "    <tr>\n",
       "      <th>0</th>\n",
       "      <td>2023-11-11</td>\n",
       "      <td>audiofile1.mp3</td>\n",
       "      <td>Dispute Resolution</td>\n",
       "      <td>Hello, this is Emily from AutoAssure Insurance...</td>\n",
       "      <td>https://sfc-prod3-ds1-16-customer-stage.s3.us-...</td>\n",
       "      <td>218.254271</td>\n",
       "      <td>\\n                                        \\n&lt;s...</td>\n",
       "    </tr>\n",
       "    <tr>\n",
       "      <th>1</th>\n",
       "      <td>2023-11-11</td>\n",
       "      <td>audiofile2.mp3</td>\n",
       "      <td>Dispute Resolution</td>\n",
       "      <td>Hello, this is James from AutoAssure Insurance...</td>\n",
       "      <td>https://sfc-prod3-ds1-16-customer-stage.s3.us-...</td>\n",
       "      <td>197.705486</td>\n",
       "      <td>\\n                                        \\n&lt;s...</td>\n",
       "    </tr>\n",
       "  </tbody>\n",
       "</table>\n",
       "</div>"
      ],
      "text/plain": [
       "     DATETIME       AUDIOFILE               TYPES  \\\n",
       "0  2023-11-11  audiofile1.mp3  Dispute Resolution   \n",
       "1  2023-11-11  audiofile2.mp3  Dispute Resolution   \n",
       "\n",
       "                                        CONVERSATION  \\\n",
       "0  Hello, this is Emily from AutoAssure Insurance...   \n",
       "1  Hello, this is James from AutoAssure Insurance...   \n",
       "\n",
       "                                  PRESIGNED_URL_PATH    DURATION  \\\n",
       "0  https://sfc-prod3-ds1-16-customer-stage.s3.us-...  218.254271   \n",
       "1  https://sfc-prod3-ds1-16-customer-stage.s3.us-...  197.705486   \n",
       "\n",
       "                                     ONESHORT_PROMPT  \n",
       "0  \\n                                        \\n<s...  \n",
       "1  \\n                                        \\n<s...  "
      ]
     },
     "execution_count": 42,
     "metadata": {},
     "output_type": "execute_result"
    }
   ],
   "source": [
    "oneshort_prompted_snowdf.limit(2).to_pandas()"
   ]
  },
  {
   "cell_type": "code",
   "execution_count": 43,
   "id": "b51546ae",
   "metadata": {},
   "outputs": [],
   "source": [
    "# zeroshort_prompted_snowdf.write.mode(\"overwrite\").save_as_table(\"ALLCLAIMS_QA_Zeroshort_PROMPTED\")\n",
    "oneshort_prompted_snowdf.write.mode(\"overwrite\").save_as_table(\"AudioConversation_With_Oneshort_PROMPT\")"
   ]
  },
  {
   "cell_type": "code",
   "execution_count": 44,
   "id": "71033772",
   "metadata": {},
   "outputs": [],
   "source": [
    "# zeroshort_prompted_snowdf = session.table(\"ALLCLAIMS_QA_Zeroshort_PROMPTED\")"
   ]
  },
  {
   "cell_type": "code",
   "execution_count": 45,
   "id": "3d4b32c8",
   "metadata": {},
   "outputs": [],
   "source": [
    "oneshort_prompted_snowdf = session.table(\"AudioConversation_With_Oneshort_PROMPT\")"
   ]
  },
  {
   "cell_type": "code",
   "execution_count": 46,
   "id": "70176d27",
   "metadata": {},
   "outputs": [],
   "source": [
    "# \n",
    "# oneshort_prompted_snowdf.show(2)"
   ]
  },
  {
   "cell_type": "code",
   "execution_count": 47,
   "id": "4d14b14b",
   "metadata": {},
   "outputs": [],
   "source": [
    "# response_table_name = \"TRANSCRIPT_INFO_EXTRACTED\""
   ]
  },
  {
   "cell_type": "code",
   "execution_count": 48,
   "id": "4cb2307f",
   "metadata": {},
   "outputs": [],
   "source": [
    "oneshort_info_extracted_snowdf = oneshort_prompted_snowdf.with_column(\"EXTRACTED_INFO\", F.call_builtin(\"SNOWFLAKE.CORTEX.COMPLETE\", F.lit('llama2-70b-chat'), F.col(\"ONESHORT_PROMPT\")))"
   ]
  },
  {
   "cell_type": "code",
   "execution_count": 49,
   "metadata": {},
   "outputs": [
    {
     "name": "stdout",
     "output_type": "stream",
     "text": [
      "CPU times: user 3 µs, sys: 2 µs, total: 5 µs\n",
      "Wall time: 6.91 µs\n"
     ]
    }
   ],
   "source": [
    "%%time\n",
    "# oneshort_test_info_extracted_snowdf = oneshort_test_snowdf.with_column(\"EXTRACTED_INFO\", F.call_builtin(\"snowflake.ml.COMPLETE\", F.lit('llama2-70b-chat'), F.col(\"ONESHORT_PROMPT\")))"
   ]
  },
  {
   "cell_type": "code",
   "execution_count": 50,
   "id": "e2dad679",
   "metadata": {},
   "outputs": [],
   "source": [
    "\n",
    "# oneshort_info_extracted_snowdf.select('EXTRACTED_INFO').show(2)"
   ]
  },
  {
   "cell_type": "code",
   "execution_count": 51,
   "metadata": {},
   "outputs": [
    {
     "name": "stdout",
     "output_type": "stream",
     "text": [
      "CPU times: user 11 ms, sys: 2.49 ms, total: 13.4 ms\n",
      "Wall time: 14.5 s\n"
     ]
    }
   ],
   "source": [
    "%%time\n",
    "oneshort_info_extracted_snowdf.write.mode('overwrite').save_as_table(\"TRANSCRIPT_INFO_EXTRACTED_QA\")\n"
   ]
  },
  {
   "cell_type": "markdown",
   "id": "dd23f9c4",
   "metadata": {},
   "source": [
    "## Loading AUDIO_CLAIMS_EXTRACTED_INFO"
   ]
  },
  {
   "cell_type": "code",
   "execution_count": 52,
   "id": "f49bbb0e",
   "metadata": {},
   "outputs": [
    {
     "data": {
      "text/plain": [
       "[Row(status='Statement executed successfully.')]"
      ]
     },
     "execution_count": 52,
     "metadata": {},
     "output_type": "execute_result"
    }
   ],
   "source": [
    "# session.sql(\"truncate table AUDIO_CLAIMS_EXTRACTED_INFO\").collect()"
   ]
  },
  {
   "cell_type": "code",
   "execution_count": null,
   "id": "be47e6fe",
   "metadata": {},
   "outputs": [],
   "source": [
    "#creating the AUDIO_CLAIMS_EXTRACTED_INFO table\n",
    "\n",
    "session.sql('''\n",
    "create or replace TABLE AUDIO_CLAIMS_EXTRACTED_INFO \n",
    "    (\n",
    "        DATETIME DATE,\n",
    "        AUDIO_FILE_NAME VARCHAR(100),\n",
    "        AUDIO_FULL_FILE_PATH VARCHAR(16777216),\n",
    "        RAW_CONVERSATION VARCHAR(16777216),\n",
    "        PROMPTED_CONVERSATION VARCHAR(16777216),\n",
    "        DURATION FLOAT,\n",
    "        CALL_DETAILS VARIANT,\n",
    "        CALL_SUMMARY VARCHAR(16777216),\n",
    "        CALL_SENTIMENT FLOAT,\n",
    "        REPONSE_GIVEN FLOAT\n",
    "    )\n",
    "''').collect()"
   ]
  },
  {
   "cell_type": "code",
   "execution_count": 53,
   "id": "1c05775e",
   "metadata": {},
   "outputs": [
    {
     "name": "stdout",
     "output_type": "stream",
     "text": [
      "CPU times: user 7.72 ms, sys: 4.38 ms, total: 12.1 ms\n",
      "Wall time: 15.8 s\n"
     ]
    },
    {
     "data": {
      "text/plain": [
       "[Row(number of rows inserted=96)]"
      ]
     },
     "execution_count": 53,
     "metadata": {},
     "output_type": "execute_result"
    }
   ],
   "source": [
    "%%time\n",
    "session.sql(f\"\"\"\n",
    "insert into AUDIO_CLAIMS_EXTRACTED_INFO(\n",
    "                                        datetime,\n",
    "                                        audio_file_name,       \n",
    "                                        audio_full_file_path,\n",
    "                                        raw_conversation,\n",
    "                                        prompted_conversation,\n",
    "                                        duration,\n",
    "                                        call_details,\n",
    "                                        call_summary,\n",
    "                                        call_sentiment\n",
    "                                    )\n",
    "with audio_details as\n",
    "(\n",
    "    select datetime, \n",
    "            audiofile, \n",
    "            presigned_url_path, \n",
    "            conversation,\n",
    "            extracted_info,\n",
    "            duration,\n",
    "            parse_json(SNOWFLAKE.CORTEX.COMPLETE('llama2-70b-chat',concat('<s>[INST] Analyze the audio transcripts found between the tags <question></question> tags and generate only the requested json output. Do not include any other language before or after the requested output.Include any policy number or claim number with values like policy number POL_NotAvailable or claim number CL_NotAvailable. Do not include the prompt. Output should only be json and if  ClaimNumber is not found then assign the value as NotFound in double quotes and if there is no PolicyNumber found then assign the value as NotFound in double quotes. \n",
    "            Provide a JSON response using the following format, no preamble. Collision with animal cannot be a intent. Below is the JSON that should be the output:\n",
    "            {{ Representative: string,\n",
    "            Customer:string, \n",
    "            ClaimNumber : string, \n",
    "            PolicyNumber : string,\n",
    "            CallIntent:string,\n",
    "            CallToAction:string,\n",
    "            Issue:string,\n",
    "            Resolution:string,\n",
    "            NextSteps:string,\n",
    "            ModeofUpdate:string,\n",
    "            PurposeOfCall:string,\n",
    "            ResponseMode:string,\n",
    "            FirstCallResolution:float,\n",
    "            CallQuality: string,\n",
    "            Net Promoter Score :INT}}. Intent of the call should be in 2 words. Provide if it was a first call resolution as a score values ranging between 0.01 and 0.99.\n",
    "            Call Quality involves monitoring and evaluating the quality of interactions based on communication skills, adherence to protocols, and overall customer handling and values will be Good,Average,Poor. \n",
    "            Net Promoter Score value between 10 -100 and also consider the resolution response time and skill of the Representative in handling the issue.\n",
    "            \n",
    "            Below pattern of conversations is not a first call resolution :\n",
    "            Owen: Hello, this is Owen from AutoAssure Insurance. How can I assist you today?\n",
    "            Jessica: Hi, Owen. My name is Jessica Turner, and I am calling to check the status of my insurance claim for a recent car accident.\n",
    "            Owen: I am here to help, Jessica. Can you please provide me with your policy number so I can access your information?\n",
    "            Jessica: It is POL901234.\n",
    "            Owen: Thank you, Jessica. Let me pull up the details of your claim. While I am doing that, is there something specific you are unclear about regarding the status?\n",
    "            Jessica: Yes, Owen. I had an accident two weeks ago, and I have not received any updates on the claim.\n",
    "            Owen: I understand your concern, Jessica. I will investigate the status of your claim and provide you with an update. You will receive an email shortly.\n",
    "            Jessica: Yes, Owen. How soon can I expect to hear back about the status of my claim?\n",
    "            Owen: I appreciate your patience, Jessica. Our claims department is actively working on your case, and you can expect an update within the next 48 hours.\n",
    "            Jessica: Thank you, Owen. I will be waiting for the update. You haveve been very helpful.\n",
    "            Owen: It is my pleasure, Jessica. If you have any more questions or concerns, feel free to contact us.\n",
    "            Jessica: Goodbye.\n",
    "            \n",
    "            Only provide JSON in your response. Dont provide any explanations.Do not prefix \"Here is the JSON response for the conversation\" for the json data generated. Value for the Claim Number should be NotFound in double quotes if Claim Number or Policy Number is not found in the text between the <question></question> for all rows.','<question>'\n",
    "            ,EXTRACTED_INFO,'</question> [/INST] Answer: Here is the JSON response for the conversation')\n",
    "            )\n",
    "            ) as call_details \n",
    "            ,SNOWFLAKE.CORTEX.SUMMARIZE(concat('Provide the summary for the conversation in <con> </con> tag.Generate only the requested output. \n",
    "            Do not include any other language before or after the requested output.Also include any policy number or claim number if found the conversation. Do not include the prompt. Dont provide any explanations.\n",
    "            <con>',CONVERSATION,'</con>')) as call_summary\n",
    "            , SNOWFLAKE.CORTEX.SENTIMENT(CONVERSATION) as call_sentiment\n",
    "from TRANSCRIPT_INFO_EXTRACTED_QA\n",
    ")\n",
    "select * from audio_details\n",
    "\n",
    "\"\"\").collect()"
   ]
  },
  {
   "cell_type": "code",
   "execution_count": 54,
   "id": "3e61732d",
   "metadata": {},
   "outputs": [
    {
     "data": {
      "text/html": [
       "<div>\n",
       "<style scoped>\n",
       "    .dataframe tbody tr th:only-of-type {\n",
       "        vertical-align: middle;\n",
       "    }\n",
       "\n",
       "    .dataframe tbody tr th {\n",
       "        vertical-align: top;\n",
       "    }\n",
       "\n",
       "    .dataframe thead th {\n",
       "        text-align: right;\n",
       "    }\n",
       "</style>\n",
       "<table border=\"1\" class=\"dataframe\">\n",
       "  <thead>\n",
       "    <tr style=\"text-align: right;\">\n",
       "      <th></th>\n",
       "      <th>DATETIME</th>\n",
       "      <th>AUDIO_FILE_NAME</th>\n",
       "      <th>AUDIO_FULL_FILE_PATH</th>\n",
       "      <th>RAW_CONVERSATION</th>\n",
       "      <th>PROMPTED_CONVERSATION</th>\n",
       "      <th>DURATION</th>\n",
       "      <th>CALL_DETAILS</th>\n",
       "      <th>CALL_SUMMARY</th>\n",
       "      <th>CALL_SENTIMENT</th>\n",
       "      <th>REPONSE_GIVEN</th>\n",
       "    </tr>\n",
       "  </thead>\n",
       "  <tbody>\n",
       "    <tr>\n",
       "      <th>0</th>\n",
       "      <td>2023-11-11</td>\n",
       "      <td>audiofile1.mp3</td>\n",
       "      <td>https://sfc-prod3-ds1-16-customer-stage.s3.us-...</td>\n",
       "      <td>Hello, this is Emily from AutoAssure Insurance...</td>\n",
       "      <td>Representative: Emily\\nCustomer: Rachel Ander...</td>\n",
       "      <td>218.254271</td>\n",
       "      <td>{\\n  \"CallIntent\": \"Dispute Resolution\",\\n  \"C...</td>\n",
       "      <td>Sure, here is the summary of the conversation:...</td>\n",
       "      <td>0.849523</td>\n",
       "      <td>NaN</td>\n",
       "    </tr>\n",
       "    <tr>\n",
       "      <th>1</th>\n",
       "      <td>2023-11-11</td>\n",
       "      <td>audiofile2.mp3</td>\n",
       "      <td>https://sfc-prod3-ds1-16-customer-stage.s3.us-...</td>\n",
       "      <td>Hello, this is James from AutoAssure Insurance...</td>\n",
       "      <td>I apologize, but I cannot provide a response ...</td>\n",
       "      <td>197.705486</td>\n",
       "      <td>{\\n  \"CallIntent\": \"Dispute Resolution\",\\n  \"C...</td>\n",
       "      <td>Sure, here is the summary of the conversation:...</td>\n",
       "      <td>0.862604</td>\n",
       "      <td>NaN</td>\n",
       "    </tr>\n",
       "    <tr>\n",
       "      <th>2</th>\n",
       "      <td>2023-11-11</td>\n",
       "      <td>audiofile3.mp3</td>\n",
       "      <td>https://sfc-prod3-ds1-16-customer-stage.s3.us-...</td>\n",
       "      <td>Hello, this is Sarah from AutoAssure Insurance...</td>\n",
       "      <td>Representative: Sarah\\nCustomer: Alex Johnson...</td>\n",
       "      <td>75.172382</td>\n",
       "      <td>{\\n  \"CallIntent\": \"Dispute\",\\n  \"CallQuality\"...</td>\n",
       "      <td>Sure, here is the summary of the conversation:...</td>\n",
       "      <td>0.807768</td>\n",
       "      <td>NaN</td>\n",
       "    </tr>\n",
       "  </tbody>\n",
       "</table>\n",
       "</div>"
      ],
      "text/plain": [
       "     DATETIME AUDIO_FILE_NAME  \\\n",
       "0  2023-11-11  audiofile1.mp3   \n",
       "1  2023-11-11  audiofile2.mp3   \n",
       "2  2023-11-11  audiofile3.mp3   \n",
       "\n",
       "                                AUDIO_FULL_FILE_PATH  \\\n",
       "0  https://sfc-prod3-ds1-16-customer-stage.s3.us-...   \n",
       "1  https://sfc-prod3-ds1-16-customer-stage.s3.us-...   \n",
       "2  https://sfc-prod3-ds1-16-customer-stage.s3.us-...   \n",
       "\n",
       "                                    RAW_CONVERSATION  \\\n",
       "0  Hello, this is Emily from AutoAssure Insurance...   \n",
       "1  Hello, this is James from AutoAssure Insurance...   \n",
       "2  Hello, this is Sarah from AutoAssure Insurance...   \n",
       "\n",
       "                               PROMPTED_CONVERSATION    DURATION  \\\n",
       "0   Representative: Emily\\nCustomer: Rachel Ander...  218.254271   \n",
       "1   I apologize, but I cannot provide a response ...  197.705486   \n",
       "2   Representative: Sarah\\nCustomer: Alex Johnson...   75.172382   \n",
       "\n",
       "                                        CALL_DETAILS  \\\n",
       "0  {\\n  \"CallIntent\": \"Dispute Resolution\",\\n  \"C...   \n",
       "1  {\\n  \"CallIntent\": \"Dispute Resolution\",\\n  \"C...   \n",
       "2  {\\n  \"CallIntent\": \"Dispute\",\\n  \"CallQuality\"...   \n",
       "\n",
       "                                        CALL_SUMMARY  CALL_SENTIMENT  \\\n",
       "0  Sure, here is the summary of the conversation:...        0.849523   \n",
       "1  Sure, here is the summary of the conversation:...        0.862604   \n",
       "2  Sure, here is the summary of the conversation:...        0.807768   \n",
       "\n",
       "   REPONSE_GIVEN  \n",
       "0            NaN  \n",
       "1            NaN  \n",
       "2            NaN  "
      ]
     },
     "execution_count": 54,
     "metadata": {},
     "output_type": "execute_result"
    }
   ],
   "source": [
    "session.table(\"AUDIO_CLAIMS_EXTRACTED_INFO\").limit(3).to_pandas()"
   ]
  },
  {
   "cell_type": "code",
   "execution_count": 55,
   "id": "56c6b6d3",
   "metadata": {},
   "outputs": [],
   "source": [
    "# info_extracted_snowdf = prompted_snowdf.with_column(\"EXTRACTED_INFO\", F.call_builtin(\"snowflake.ml.COMPLETE\", F.lit('llama2-7b-chat'), F.col(\"PROMPT\")))"
   ]
  },
  {
   "cell_type": "code",
   "execution_count": 56,
   "id": "e98a728b",
   "metadata": {},
   "outputs": [
    {
     "name": "stdout",
     "output_type": "stream",
     "text": [
      "CPU times: user 1e+03 ns, sys: 1 µs, total: 2 µs\n",
      "Wall time: 4.05 µs\n"
     ]
    }
   ],
   "source": [
    "%%time\n",
    "# info_extracted_snowdf.write.mode(\"overwrite\").save_as_table(response_table_name)"
   ]
  },
  {
   "cell_type": "markdown",
   "id": "39586aa4",
   "metadata": {},
   "source": [
    "## Loading the StreamlitApp Table\n",
    "This is the source table for the Streamlit App for Text2SQL option"
   ]
  },
  {
   "cell_type": "code",
   "execution_count": 57,
   "id": "443c2854",
   "metadata": {},
   "outputs": [
    {
     "data": {
      "text/plain": [
       "[Row(status='Table STREAMLITAPPTABLE successfully created.')]"
      ]
     },
     "execution_count": 57,
     "metadata": {},
     "output_type": "execute_result"
    }
   ],
   "source": [
    "session.sql(f'''\n",
    "\n",
    "CREATE OR REPLACE TABLE StreamlitAppTable\n",
    "As\n",
    "select datetime , audio_file_name,\n",
    "duration,\n",
    "call_details:CallToAction::string as CallToAction\n",
    ",call_details:ClaimNumber::string as ClaimNumber\n",
    ",call_details:Customer::string as Customer\n",
    ",call_details:CallIntent::string as Intent\n",
    ",call_details:Issue::string as Issue\n",
    ",call_details:PolicyNumber::string as PolicyNumber\n",
    ",call_details:PurposeOfCall::string as PurposeOfCall\n",
    ",call_details:Representative::string as Representative\n",
    ",call_details:Resolution::string as Resolution\n",
    ",call_details:ResponseMode::string as ResponseMode\n",
    ",call_details:ModeofUpdate::string as ModeofUpdate\n",
    ",call_details:NextSteps::string as NextSteps\n",
    ",IFF(call_sentiment>0.7,'Positive','Negative') as CallSentiment\n",
    ",IFF(call_details:FirstCallResolution>0.5,'Yes','No') as FirstCallResolution\n",
    "from\n",
    "Audio_Claims_Extracted_info\n",
    "            \n",
    "            ''').collect()"
   ]
  },
  {
   "cell_type": "markdown",
   "id": "a790b568",
   "metadata": {},
   "source": [
    "## Loading the Audio Embedding Table\n",
    "This is used by the Chatbot part of the app"
   ]
  },
  {
   "cell_type": "code",
   "execution_count": 58,
   "id": "0ecf3920",
   "metadata": {},
   "outputs": [
    {
     "data": {
      "text/plain": [
       "[Row(status='Table AUDIO_CALL_EMBEDDING successfully created.')]"
      ]
     },
     "execution_count": 58,
     "metadata": {},
     "output_type": "execute_result"
    }
   ],
   "source": [
    "session.sql('''\n",
    "        create or replace table Audio_Call_Embedding\n",
    "        as\n",
    "        with sub\n",
    "        as\n",
    "        (\n",
    "        select \n",
    "                datetime as CallDate,\n",
    "                audio_file_name as AudioFileName,\n",
    "                call_details:CallToAction as CallToAction,\n",
    "                call_details:ClaimNumber::string as ClaimNumber ,\n",
    "                call_details:PolicyNumber::string as PolicyNumber,\n",
    "                call_details:Representative::string as AgentName,\n",
    "                call_details:Customer::string as CustomerName,\n",
    "                call_details:CallIntent::string as CallIntent,\n",
    "                call_details:Issue as Issue,\n",
    "                call_details:ModeofUpdate as ModeofUpdate,\n",
    "                call_details:NextSteps as NextSteps,\n",
    "                call_details:Resolution as Resolution,\n",
    "                IFF(call_details:FirstCallResolution>0.5,'Yes','No') as FristCallResolution,\n",
    "            IFF(call_sentiment >0.72,'Positive','Negative') as CallSentiment,\n",
    "            substr(call_summary,charindex(':',call_summary,1)+1) as CallSummary\n",
    "        \n",
    "        from Audio_Claims_Extracted_info\n",
    "        )\n",
    "        select OBJECT_CONSTRUCT(*) as audio_data, SNOWFLAKE.CORTEX.embed_text('e5-base-v2' ,\n",
    "        audio_data::string) as ct_embedding from sub ;\n",
    "                    \n",
    "            ''').collect()"
   ]
  },
  {
   "cell_type": "markdown",
   "id": "dd98e1c8",
   "metadata": {},
   "source": [
    "#### AutoClaim and PolicytDetails Master Table "
   ]
  },
  {
   "cell_type": "code",
   "execution_count": null,
   "id": "d6dd622b",
   "metadata": {},
   "outputs": [],
   "source": [
    "session.sql(''' \n",
    "CREATE or replace TABLE PolicyDetails (\n",
    "    PolicyID                INT IDENTITY,\n",
    "    PolicyNumber            VARCHAR(50) UNIQUE,\n",
    "    CustomerID              INT,\n",
    "    PolicyType              VARCHAR(50),\n",
    "    CoverageAmount          DECIMAL(10, 2),\n",
    "    PremiumAmount           DECIMAL(8, 2),\n",
    "    StartDate               DATE,\n",
    "    EndDate                 DATE,\n",
    "    RenewalDate             DATE,\n",
    "    PolicyStatus            VARCHAR(20),\n",
    "    PaymentStatus           VARCHAR(20),\n",
    "    Beneficiaries           VARCHAR(255),\n",
    "    CoverageDetails         TEXT,\n",
    "    RidersEndorsements      TEXT,\n",
    "    InsuredItemsPersons     TEXT,\n",
    "    PolicyholderDetails     TEXT,\n",
    "    AgentBrokerDetails      TEXT,\n",
    "    Deductibles             DECIMAL(8, 2),\n",
    "    Exclusions              TEXT,\n",
    "    ClaimsHistory           TEXT,\n",
    "    UnderwritingDetails     TEXT,\n",
    "    PolicyTermsConditions   TEXT\n",
    "); ''').collect()\n",
    "\n",
    "\n"
   ]
  },
  {
   "cell_type": "code",
   "execution_count": null,
   "id": "12b6e15f",
   "metadata": {},
   "outputs": [],
   "source": [
    "session.sql(''' \n",
    "INSERT INTO PolicyDetails (     \n",
    "PolicyNumber         \n",
    ",CustomerID           \n",
    ",PolicyType           \n",
    ",CoverageAmount       \n",
    ",PremiumAmount        \n",
    ",StartDate            \n",
    ",EndDate              \n",
    ",RenewalDate          \n",
    ",PolicyStatus         \n",
    ",PaymentStatus        \n",
    ",Beneficiaries        \n",
    ",CoverageDetails      \n",
    ",RidersEndorsements   \n",
    ",InsuredItemsPersons  \n",
    ",PolicyholderDetails  \n",
    ",AgentBrokerDetails   \n",
    ",Deductibles          \n",
    ",Exclusions           \n",
    ",ClaimsHistory        \n",
    ",UnderwritingDetails  \n",
    ",PolicyTermsConditions) VALUES\n",
    "( 'POL001', 1001, 'Auto', 500000, 1000, '2022-01-01', '2023-01-01', '2022-12-31', 'Active', 'Paid', 'John Doe', 'Basic coverage for vehicle insurance.', 'None', 'John Doe, Jane Doe', 'John Doe, 123 Insurance Inc.', 'John Doe, Jane Doe', 100, 'None', 'No claims made yet.', 'Standard underwriting process completed.', 'Standard terms and conditions apply.'),\n",
    "( 'POL002', 1002, 'Auto', 100000, 500, '2022-02-01', '2023-02-01', '2023-01-31', 'Active', 'Due', 'Jane Doe', 'Basic coverage for health insurance.', 'Critical Illness Rider', 'Jane Doe, Family Members', 'Jane Doe, 456 Insurance Services', 'Jane Doe, Family Members', 50, 'Pre-existing conditions', 'No claims made yet.', 'Medical examination completed.', 'Standard terms and conditions apply.'),\n",
    "( 'POL010', 1010, 'Auto', 25000, 300, '2022-10-01', '2023-10-01', '2023-09-30', 'Active', 'Paid', 'Alice Smith', 'Basic coverage for auto insurance.', 'Roadside Assistance Rider', 'Alice Smith, Vehicle Details', 'Alice Smith, XYZ Insurance Agency', 'Alice Smith, Vehicle Details', 75, 'Accidents caused by negligence', 'No claims made yet.', 'Vehicle inspection completed.', 'Standard terms and conditions apply.'),\n",
    "( 'POL934514', 1007, 'Auto', 500000, 1000, '2023-08-01', '2024-08-01', '2024-07-25', 'Active', 'Paid', 'Mike S', 'Full coverage for vehicle insurance.', 'None', 'Mike S', 'Mike S, 456 Insurance Inc.', 'Mike S, \n",
    "Jane S', 100, 'None', '2 claims made so far.', 'Standard underwriting process completed.', 'Standard terms and conditions apply.')\n",
    "\n",
    "''').collect()\n"
   ]
  },
  {
   "cell_type": "code",
   "execution_count": null,
   "id": "d20000c0",
   "metadata": {},
   "outputs": [],
   "source": [
    "session.sql('''\n",
    "CREATE or replace TABLE AutoClaims (\n",
    "    ClaimID varchar(50) ,\n",
    "    PolicyID INT,\n",
    "    ClaimDate DATE,\n",
    "    ClaimAmount DECIMAL(10, 2),\n",
    "    ClaimDescription TEXT,\n",
    "    ClaimStatus VARCHAR(50)\n",
    ")\n",
    "''').collect()"
   ]
  },
  {
   "cell_type": "code",
   "execution_count": null,
   "id": "322712d6",
   "metadata": {},
   "outputs": [],
   "source": [
    "session.sql('''\n",
    "INSERT INTO AutoClaims (ClaimID,PolicyID, ClaimDate, ClaimAmount, ClaimDescription, ClaimStatus)\n",
    "VALUES\n",
    "    ('CLM234567',4, '2023-09-15', 5000, 'Vehicle collision at an intersection.', 'Pending'),\n",
    "    ('CLM876543',5, '2023-04-20', 1200, 'Minor fender bender in a parking lot.', 'Approved'),\n",
    "    ('CLM567890',6, '2023-10-10', 8000, 'Total loss due to a major accident on the highway.', 'Denied'),\n",
    "    ('CLM345678901',7, '2023-09-15', 5000, 'Vehicle Damage', 'Pending')\n",
    "''').collect()"
   ]
  },
  {
   "cell_type": "code",
   "execution_count": 59,
   "id": "c6c29c7d",
   "metadata": {},
   "outputs": [],
   "source": [
    "session.close()"
   ]
  },
  {
   "cell_type": "code",
   "execution_count": 60,
   "metadata": {},
   "outputs": [],
   "source": [
    "# generated_transcripts_df = session.table(output_table_name)"
   ]
  },
  {
   "cell_type": "code",
   "execution_count": null,
   "metadata": {},
   "outputs": [],
   "source": []
  }
 ],
 "metadata": {
  "kernelspec": {
   "display_name": "Python 3 (ipykernel)",
   "language": "python",
   "name": "python3"
  },
  "language_info": {
   "codemirror_mode": {
    "name": "ipython",
    "version": 3
   },
   "file_extension": ".py",
   "mimetype": "text/x-python",
   "name": "python",
   "nbconvert_exporter": "python",
   "pygments_lexer": "ipython3",
   "version": "3.8.18"
  },
  "vscode": {
   "interpreter": {
    "hash": "87393b85a9e84f5acf85b4897642fb1f420cfcaf148d9618810d560b47e94533"
   }
  }
 },
 "nbformat": 4,
 "nbformat_minor": 5
}
