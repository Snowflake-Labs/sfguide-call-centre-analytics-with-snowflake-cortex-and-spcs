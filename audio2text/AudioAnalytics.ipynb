{
 "cells": [
  {
   "cell_type": "code",
   "execution_count": 1,
   "id": "967f031a",
   "metadata": {},
   "outputs": [],
   "source": [
    "# Import Python packages\n",
    "import pandas as pd\n",
    "import os\n",
    "import json\n",
    "import pickle\n",
    "import numpy as np\n",
    "import time\n",
    "import sys\n",
    "# import cachetools\n",
    "# Import Snowflake modules\n",
    "from snowflake.snowpark import Session, DataFrame\n",
    "from snowflake.snowpark import functions as F\n",
    "from snowflake.snowpark import types as T\n",
    "from snowflake.snowpark import Row, Column\n",
    "import pandas as pd\n",
    "from snowflake.snowpark.version import VERSION"
   ]
  },
  {
   "cell_type": "code",
   "execution_count": 2,
   "id": "043e5b0e-c54c-4005-8d28-1e6d58cca9ea",
   "metadata": {},
   "outputs": [
    {
     "name": "stdout",
     "output_type": "stream",
     "text": [
      "\"SMALL_WAREHOUSE\"\n",
      "\"SPCS_PSE_ROLE\"\n",
      "\n",
      "Connection Established with the following parameters:\n",
      "User                        : SUFICALLCENTRE001\n",
      "Role                        : \"SPCS_PSE_ROLE\"\n",
      "Database                    : \"LLMDEMO\"\n",
      "Schema                      : \"PUBLIC\"\n",
      "Warehouse                   : \"SMALL_WAREHOUSE\"\n",
      "Snowflake version           : 8.29.2\n",
      "Snowpark for Python version : 1.20.0\n"
     ]
    }
   ],
   "source": [
    "# Get account credentials from a json file\n",
    "with open(\"/home/nashtech/sfguide-call-centre-analytics-with-snowflake-cortex-and-spcs/connection.json\") as f:\n",
    "    data = json.load(f)\n",
    "    username = data[\"user\"]\n",
    "    password = data[\"password\"]\n",
    "    account = data[\"account\"]\n",
    "    database = data[\"database\"]\n",
    "    schema = data[\"schema\"]\n",
    "    warehouse = data[\"warehouse\"]\n",
    "    role = data[\"role\"]\n",
    "    \n",
    "# Specify connection parameters\n",
    "connection_parameters = {\n",
    "    \"account\": account,\n",
    "    \"user\": username,\n",
    "    \"password\": password,\n",
    "    \"warehouse\": warehouse,\n",
    "    \"database\": database,\n",
    "    \"schema\": schema,\n",
    "    \"role\": role,\n",
    "}\n",
    "\n",
    "# Create Snowpark session\n",
    "session = Session.builder.configs(connection_parameters).create()\n",
    "snowflake_environment = session.sql('SELECT current_user(), current_version()').collect()\n",
    "\n",
    "print(session.get_current_warehouse())\n",
    "print(session.get_current_role())\n",
    "snowpark_version = VERSION\n",
    "\n",
    "# Current Environment Details\n",
    "print('\\nConnection Established with the following parameters:')\n",
    "print('User                        : {}'.format(snowflake_environment[0][0]))\n",
    "print('Role                        : {}'.format(session.get_current_role()))\n",
    "print('Database                    : {}'.format(session.get_current_database()))\n",
    "print('Schema                      : {}'.format(session.get_current_schema()))\n",
    "print('Warehouse                   : {}'.format(session.get_current_warehouse()))\n",
    "print('Snowflake version           : {}'.format(snowflake_environment[0][1]))\n",
    "print('Snowpark for Python version : {}.{}.{}'.format(snowpark_version[0],snowpark_version[1],snowpark_version[2]))"
   ]
  },
  {
   "cell_type": "code",
   "execution_count": 3,
   "id": "9d49360f",
   "metadata": {},
   "outputs": [],
   "source": [
    "generated_transcripts_df = session.table(\"ALL_CLAIMS_RAW\")"
   ]
  },
  {
   "cell_type": "code",
   "execution_count": 4,
   "id": "1998c70e",
   "metadata": {},
   "outputs": [
    {
     "data": {
      "text/plain": [
       "96"
      ]
     },
     "execution_count": 4,
     "metadata": {},
     "output_type": "execute_result"
    }
   ],
   "source": [
    "generated_transcripts_df.count()"
   ]
  },
  {
   "cell_type": "code",
   "execution_count": 5,
   "id": "a7cb482a",
   "metadata": {},
   "outputs": [
    {
     "data": {
      "text/html": [
       "<div>\n",
       "<style scoped>\n",
       "    .dataframe tbody tr th:only-of-type {\n",
       "        vertical-align: middle;\n",
       "    }\n",
       "\n",
       "    .dataframe tbody tr th {\n",
       "        vertical-align: top;\n",
       "    }\n",
       "\n",
       "    .dataframe thead th {\n",
       "        text-align: right;\n",
       "    }\n",
       "</style>\n",
       "<table border=\"1\" class=\"dataframe\">\n",
       "  <thead>\n",
       "    <tr style=\"text-align: right;\">\n",
       "      <th></th>\n",
       "      <th>DATETIME</th>\n",
       "      <th>AUDIOFILE</th>\n",
       "      <th>CONVERSATION</th>\n",
       "      <th>PRESIGNED_URL_PATH</th>\n",
       "      <th>DURATION</th>\n",
       "    </tr>\n",
       "  </thead>\n",
       "  <tbody>\n",
       "    <tr>\n",
       "      <th>0</th>\n",
       "      <td>2023-11-11</td>\n",
       "      <td>audiofile1.mp3</td>\n",
       "      <td>Hello, this is Emily from AutoAssure Insurance...</td>\n",
       "      <td>https://sfc-prod3-ds1-16-customer-stage.s3.us-...</td>\n",
       "      <td>218.254271</td>\n",
       "    </tr>\n",
       "    <tr>\n",
       "      <th>1</th>\n",
       "      <td>2023-11-11</td>\n",
       "      <td>audiofile2.mp3</td>\n",
       "      <td>Hello, this is James from AutoAssure Insurance...</td>\n",
       "      <td>https://sfc-prod3-ds1-16-customer-stage.s3.us-...</td>\n",
       "      <td>197.705486</td>\n",
       "    </tr>\n",
       "    <tr>\n",
       "      <th>2</th>\n",
       "      <td>2023-11-11</td>\n",
       "      <td>audiofile3.mp3</td>\n",
       "      <td>Hello, this is Sarah from AutoAssure Insurance...</td>\n",
       "      <td>https://sfc-prod3-ds1-16-customer-stage.s3.us-...</td>\n",
       "      <td>75.172382</td>\n",
       "    </tr>\n",
       "  </tbody>\n",
       "</table>\n",
       "</div>"
      ],
      "text/plain": [
       "     DATETIME       AUDIOFILE  \\\n",
       "0  2023-11-11  audiofile1.mp3   \n",
       "1  2023-11-11  audiofile2.mp3   \n",
       "2  2023-11-11  audiofile3.mp3   \n",
       "\n",
       "                                        CONVERSATION  \\\n",
       "0  Hello, this is Emily from AutoAssure Insurance...   \n",
       "1  Hello, this is James from AutoAssure Insurance...   \n",
       "2  Hello, this is Sarah from AutoAssure Insurance...   \n",
       "\n",
       "                                  PRESIGNED_URL_PATH    DURATION  \n",
       "0  https://sfc-prod3-ds1-16-customer-stage.s3.us-...  218.254271  \n",
       "1  https://sfc-prod3-ds1-16-customer-stage.s3.us-...  197.705486  \n",
       "2  https://sfc-prod3-ds1-16-customer-stage.s3.us-...   75.172382  "
      ]
     },
     "execution_count": 5,
     "metadata": {},
     "output_type": "execute_result"
    }
   ],
   "source": [
    "generated_transcripts_df.limit(3).to_pandas()"
   ]
  },
  {
   "cell_type": "markdown",
   "id": "e0e00ecb",
   "metadata": {},
   "source": [
    "### Grant Role to access Cortex Functions\n",
    "Only the below command should be executed as Accountadmin and rest of the code using custom role you have created(SPCS_PSE_ROLE)"
   ]
  },
  {
   "cell_type": "markdown",
   "id": "0aee5177",
   "metadata": {},
   "source": [
    "```sql\n",
    "USE ROLE accountadmin;\n",
    "GRANT DATABASE ROLE SNOWFLAKE.CORTEX_USER TO ROLE  SPCS_PSE_ROLE\n",
    "```"
   ]
  },
  {
   "cell_type": "markdown",
   "id": "f7984d13",
   "metadata": {},
   "source": [
    "### Custom Prompt"
   ]
  },
  {
   "cell_type": "code",
   "execution_count": 6,
   "id": "128e7ef1",
   "metadata": {},
   "outputs": [
    {
     "data": {
      "text/plain": [
       "[Row(status='UDF already exists, statement succeeded.')]"
      ]
     },
     "execution_count": 6,
     "metadata": {},
     "output_type": "execute_result"
    }
   ],
   "source": [
    "session.sql(\"create stage if not exists udf\").collect()"
   ]
  },
  {
   "cell_type": "code",
   "execution_count": 7,
   "id": "86e462ea",
   "metadata": {},
   "outputs": [],
   "source": [
    "# @F.udf(name=\"get_qa_prompt_zeroshort\", session=session, packages=['scikit-learn==1.1.1', 'pandas'], is_permanent=True, stage_location=\"@udf\", replace=True, input_types=[T.PandasSeriesType(T.StringType())], return_type=T.PandasSeriesType(T.StringType()))\n",
    "# def get_qa_prompt(query_series:pd.Series):\n",
    "#     response_series =  query_series.map(lambda query: f\"\"\"\n",
    "#   [INST]We need to analyze the text of the customer support transcript in the <transcript></transcript> tag.\n",
    "#    <transcript>\n",
    "#      {query}\n",
    "#    </transcript>\n",
    "#   Provide a  response using the following format, no preamble. Extract the name of the Representative name from the transcript \n",
    "#   and replace that name for Representative and extract Customer name from the trasnscript \n",
    "#   replace that name for Customer for  building the conversation below :\n",
    "#  * Representative : text of the Representative\n",
    "#  * Customer  : text of the customer\n",
    "\n",
    "#  This patterns should be a conversation between Representative and Customer conversation. Break the entire transcript into a conversation between \n",
    "#  Representative and the Customer. \n",
    "#    Don't provide any explanations. Don't include the sentense Sure, here is the conversation between:\n",
    "# [/INST]\"\"\")\n",
    "#     return response_series"
   ]
  },
  {
   "cell_type": "code",
   "execution_count": 8,
   "id": "bb7af1c6",
   "metadata": {},
   "outputs": [
    {
     "name": "stderr",
     "output_type": "stream",
     "text": [
      "Package 'scikit-learn' is not installed in the local environment. Your UDF might not work when the package is installed on the server but not on your local environment.\n"
     ]
    }
   ],
   "source": [
    "@F.udf(name=\"get_qa_prompt_oneshort\", session=session, packages=['scikit-learn==1.1.1', 'pandas'], is_permanent=True, stage_location=\"@udf\", replace=True, input_types=[T.PandasSeriesType(T.StringType())], return_type=T.PandasSeriesType(T.StringType()))\n",
    "def get_qa_prompt_oneshort(query_series:pd.Series):\n",
    "    response_series =  query_series.map(lambda query: f\"\"\"\n",
    "                                        \n",
    "<s>[INST]\n",
    "<<SYS>>\n",
    "You are a expert in analyzing customer transcripts and tasked with answering questions about an article.  \n",
    "Please ensure that your responses are socially unbiased and positive in nature.\n",
    "If you don't know the answer, please don't share false information.\n",
    "\n",
    "Output answer in the following format and no preamble. :\n",
    "                                        * <Representative> : text of the Representative\n",
    "                                        * <Customer>  : text of the customer\n",
    "Extract the name of the Representative name from the transcript \n",
    "and replace that name for <Representative> and extract Customer name from the trasnscript replace that with <Customer> for creating the conversation. \n",
    "\n",
    "Below is one example output for the conversation:   \n",
    "                                                                    \n",
    "Representative: Jason\n",
    "Customer: Michelle Turner\n",
    "\n",
    "Jason: Hi, Michelle. My name is Jason from AutoAssure Insurance. How may I assist you today?\n",
    "Michelle: Hi, Jason. I'm calling regarding a dispute I have with a recent claim.\n",
    "Jason: Of course, Michelle. Can you please provide me with your claim number so I can access your file?\n",
    "Michelle: Certainly, it's CLM876543.\n",
    "Jason: Thank you, Michelle. Let me retrieve your claim information. While I'm doing that, could you explain the nature of the dispute?\n",
    "Michelle: Of course, Jason. I believe there's been a misunderstanding in the assessment of the damages to my vehicle.\n",
    "Jason: I appreciate you providing details, Michelle. I'll review your claim thoroughly and work towards a resolution.\n",
    "Michelle: Thank you, Jason. I hope we can reach a fair resolution.\n",
    "Jason: We'll do our best, Michelle. I'll keep you updated on the progress. Have a good day!\n",
    "                                                                              \n",
    "<</SYS>>                                                                                                             \n",
    "We need to analyze the text of the transcript found in <transcript> </transcript> tag as conversation between representative and the customer. Convert the transcript in the format mentioned in the example. \n",
    "Extract the name of the Representative name from the transcript and replace that name for <Representative> and extract Customer name from the trasnscript replace that with <Customer> while creating the conversation.                                       \n",
    "Do not include \"Sure, here is the conversation between in the output. Never say thank you, that you are happy to help, that you are an AI agent, etc. Just answer directly\". \n",
    "<transcript>\n",
    "     {query}\n",
    "</transcript> \n",
    "\n",
    "\n",
    "[/INST] Answer: Sure, I would be happy to help! \"\"\"                                        \n",
    "    )\n",
    "\n",
    "    return response_series"
   ]
  },
  {
   "cell_type": "code",
   "execution_count": 9,
   "id": "c64d60ab",
   "metadata": {},
   "outputs": [],
   "source": [
    "# prompted_snowdf = generated_transcripts_df.with_column(\"PROMPT\", F.call_udf(\"get_prompt\", F.col(\"CONVERSATION\")))"
   ]
  },
  {
   "cell_type": "code",
   "execution_count": 10,
   "id": "280217dd",
   "metadata": {},
   "outputs": [],
   "source": [
    "# zeroshort_prompted_snowdf = generated_transcripts_df.with_column(\"Zeroshort_PROMPT\", F.call_udf(\"get_qa_prompt_zeroshort\", F.col(\"CONVERSATION\")))"
   ]
  },
  {
   "cell_type": "code",
   "execution_count": 11,
   "id": "4e034dd5",
   "metadata": {},
   "outputs": [],
   "source": [
    "oneshort_prompted_snowdf = generated_transcripts_df.with_column(\"Oneshort_PROMPT\", F.call_udf(\"get_qa_prompt_oneshort\", F.col(\"CONVERSATION\")))"
   ]
  },
  {
   "cell_type": "code",
   "execution_count": 12,
   "id": "9c0e86fd",
   "metadata": {},
   "outputs": [
    {
     "data": {
      "text/html": [
       "<div>\n",
       "<style scoped>\n",
       "    .dataframe tbody tr th:only-of-type {\n",
       "        vertical-align: middle;\n",
       "    }\n",
       "\n",
       "    .dataframe tbody tr th {\n",
       "        vertical-align: top;\n",
       "    }\n",
       "\n",
       "    .dataframe thead th {\n",
       "        text-align: right;\n",
       "    }\n",
       "</style>\n",
       "<table border=\"1\" class=\"dataframe\">\n",
       "  <thead>\n",
       "    <tr style=\"text-align: right;\">\n",
       "      <th></th>\n",
       "      <th>DATETIME</th>\n",
       "      <th>AUDIOFILE</th>\n",
       "      <th>CONVERSATION</th>\n",
       "      <th>PRESIGNED_URL_PATH</th>\n",
       "      <th>DURATION</th>\n",
       "      <th>ONESHORT_PROMPT</th>\n",
       "    </tr>\n",
       "  </thead>\n",
       "  <tbody>\n",
       "    <tr>\n",
       "      <th>0</th>\n",
       "      <td>2023-11-11</td>\n",
       "      <td>audiofile1.mp3</td>\n",
       "      <td>Hello, this is Emily from AutoAssure Insurance...</td>\n",
       "      <td>https://sfc-prod3-ds1-16-customer-stage.s3.us-...</td>\n",
       "      <td>218.254271</td>\n",
       "      <td>\\n                                        \\n&lt;s...</td>\n",
       "    </tr>\n",
       "    <tr>\n",
       "      <th>1</th>\n",
       "      <td>2023-11-11</td>\n",
       "      <td>audiofile2.mp3</td>\n",
       "      <td>Hello, this is James from AutoAssure Insurance...</td>\n",
       "      <td>https://sfc-prod3-ds1-16-customer-stage.s3.us-...</td>\n",
       "      <td>197.705486</td>\n",
       "      <td>\\n                                        \\n&lt;s...</td>\n",
       "    </tr>\n",
       "  </tbody>\n",
       "</table>\n",
       "</div>"
      ],
      "text/plain": [
       "     DATETIME       AUDIOFILE  \\\n",
       "0  2023-11-11  audiofile1.mp3   \n",
       "1  2023-11-11  audiofile2.mp3   \n",
       "\n",
       "                                        CONVERSATION  \\\n",
       "0  Hello, this is Emily from AutoAssure Insurance...   \n",
       "1  Hello, this is James from AutoAssure Insurance...   \n",
       "\n",
       "                                  PRESIGNED_URL_PATH    DURATION  \\\n",
       "0  https://sfc-prod3-ds1-16-customer-stage.s3.us-...  218.254271   \n",
       "1  https://sfc-prod3-ds1-16-customer-stage.s3.us-...  197.705486   \n",
       "\n",
       "                                     ONESHORT_PROMPT  \n",
       "0  \\n                                        \\n<s...  \n",
       "1  \\n                                        \\n<s...  "
      ]
     },
     "execution_count": 12,
     "metadata": {},
     "output_type": "execute_result"
    }
   ],
   "source": [
    "oneshort_prompted_snowdf.limit(2).to_pandas()"
   ]
  },
  {
   "cell_type": "code",
   "execution_count": 13,
   "id": "b51546ae",
   "metadata": {},
   "outputs": [],
   "source": [
    "# zeroshort_prompted_snowdf.write.mode(\"overwrite\").save_as_table(\"ALLCLAIMS_QA_Zeroshort_PROMPTED\")\n",
    "oneshort_prompted_snowdf.write.mode(\"overwrite\").save_as_table(\"AudioConversation_With_Oneshort_PROMPT\")"
   ]
  },
  {
   "cell_type": "code",
   "execution_count": 14,
   "id": "71033772",
   "metadata": {},
   "outputs": [],
   "source": [
    "# zeroshort_prompted_snowdf = session.table(\"ALLCLAIMS_QA_Zeroshort_PROMPTED\")"
   ]
  },
  {
   "cell_type": "code",
   "execution_count": 15,
   "id": "3d4b32c8",
   "metadata": {},
   "outputs": [],
   "source": [
    "oneshort_prompted_snowdf = session.table(\"AudioConversation_With_Oneshort_PROMPT\")"
   ]
  },
  {
   "cell_type": "code",
   "execution_count": 16,
   "id": "70176d27",
   "metadata": {},
   "outputs": [],
   "source": [
    "# \n",
    "# oneshort_prompted_snowdf.show(2)"
   ]
  },
  {
   "cell_type": "code",
   "execution_count": 17,
   "id": "4d14b14b",
   "metadata": {},
   "outputs": [],
   "source": [
    "# response_table_name = \"TRANSCRIPT_INFO_EXTRACTED\""
   ]
  },
  {
   "cell_type": "code",
   "execution_count": 18,
   "id": "4cb2307f",
   "metadata": {},
   "outputs": [],
   "source": [
    "oneshort_info_extracted_snowdf = oneshort_prompted_snowdf.with_column(\"EXTRACTED_INFO\", F.call_builtin(\"SNOWFLAKE.CORTEX.COMPLETE\", F.lit('llama2-70b-chat'), F.col(\"ONESHORT_PROMPT\")))"
   ]
  },
  {
   "cell_type": "code",
   "execution_count": 19,
   "id": "ae8cd7c7",
   "metadata": {},
   "outputs": [
    {
     "name": "stdout",
     "output_type": "stream",
     "text": [
      "CPU times: user 6 µs, sys: 1 µs, total: 7 µs\n",
      "Wall time: 13.1 µs\n"
     ]
    }
   ],
   "source": [
    "%%time\n",
    "# oneshort_test_info_extracted_snowdf = oneshort_test_snowdf.with_column(\"EXTRACTED_INFO\", F.call_builtin(\"snowflake.ml.COMPLETE\", F.lit('llama2-70b-chat'), F.col(\"ONESHORT_PROMPT\")))"
   ]
  },
  {
   "cell_type": "code",
   "execution_count": 20,
   "id": "e2dad679",
   "metadata": {},
   "outputs": [],
   "source": [
    "\n",
    "# oneshort_info_extracted_snowdf.select('EXTRACTED_INFO').show(2)"
   ]
  },
  {
   "cell_type": "code",
   "execution_count": 21,
   "id": "a9be580b",
   "metadata": {},
   "outputs": [
    {
     "name": "stdout",
     "output_type": "stream",
     "text": [
      "CPU times: user 29.2 ms, sys: 0 ns, total: 29.2 ms\n",
      "Wall time: 1min 31s\n"
     ]
    }
   ],
   "source": [
    "%%time\n",
    "oneshort_info_extracted_snowdf.write.mode('overwrite').save_as_table(\"TRANSCRIPT_INFO_EXTRACTED_QA\")\n"
   ]
  },
  {
   "cell_type": "markdown",
   "id": "dd23f9c4",
   "metadata": {},
   "source": [
    "## Loading AUDIO_CLAIMS_EXTRACTED_INFO"
   ]
  },
  {
   "cell_type": "code",
   "execution_count": 22,
   "id": "f49bbb0e",
   "metadata": {},
   "outputs": [],
   "source": [
    "# session.sql(\"truncate table AUDIO_CLAIMS_EXTRACTED_INFO\").collect()"
   ]
  },
  {
   "cell_type": "code",
   "execution_count": 23,
   "id": "be47e6fe",
   "metadata": {},
   "outputs": [
    {
     "data": {
      "text/plain": [
       "[Row(status='Table AUDIO_CLAIMS_EXTRACTED_INFO successfully created.')]"
      ]
     },
     "execution_count": 23,
     "metadata": {},
     "output_type": "execute_result"
    }
   ],
   "source": [
    "#creating the AUDIO_CLAIMS_EXTRACTED_INFO table\n",
    "\n",
    "session.sql('''\n",
    "create or replace TABLE AUDIO_CLAIMS_EXTRACTED_INFO \n",
    "    (\n",
    "        DATETIME DATE,\n",
    "        AUDIO_FILE_NAME VARCHAR(100),\n",
    "        AUDIO_FULL_FILE_PATH VARCHAR(16777216),\n",
    "        RAW_CONVERSATION VARCHAR(16777216),\n",
    "        PROMPTED_CONVERSATION VARCHAR(16777216),\n",
    "        DURATION FLOAT,\n",
    "        CALL_DETAILS VARIANT,\n",
    "        CALL_SUMMARY VARCHAR(16777216),\n",
    "        CALL_SENTIMENT FLOAT,\n",
    "        REPONSE_GIVEN FLOAT\n",
    "    )\n",
    "''').collect()"
   ]
  },
  {
   "cell_type": "code",
   "execution_count": 24,
   "id": "1c05775e",
   "metadata": {},
   "outputs": [
    {
     "name": "stdout",
     "output_type": "stream",
     "text": [
      "CPU times: user 18.3 ms, sys: 292 µs, total: 18.6 ms\n",
      "Wall time: 1min 13s\n"
     ]
    },
    {
     "data": {
      "text/plain": [
       "[Row(number of rows inserted=96)]"
      ]
     },
     "execution_count": 24,
     "metadata": {},
     "output_type": "execute_result"
    }
   ],
   "source": [
    "%%time\n",
    "session.sql(f\"\"\"\n",
    "insert into AUDIO_CLAIMS_EXTRACTED_INFO(\n",
    "                                        datetime,\n",
    "                                        audio_file_name,       \n",
    "                                        audio_full_file_path,\n",
    "                                        raw_conversation,\n",
    "                                        prompted_conversation,\n",
    "                                        duration,\n",
    "                                        call_details,\n",
    "                                        call_summary,\n",
    "                                        call_sentiment\n",
    "                                    )\n",
    "with audio_details as\n",
    "(\n",
    "    select datetime, \n",
    "            audiofile, \n",
    "            presigned_url_path, \n",
    "            conversation,\n",
    "            extracted_info,\n",
    "            duration,\n",
    "            parse_json(SNOWFLAKE.CORTEX.COMPLETE('llama2-70b-chat',concat('<s>[INST] Analyze the audio transcripts found between the tags <question></question> tags and generate only the requested json output. Do not include any other language before or after the requested output.Include any policy number or claim number with values like policy number POL_NotAvailable or claim number CL_NotAvailable. Do not include the prompt. Output should only be json and if  ClaimNumber is not found then assign the value as NotFound in double quotes and if there is no PolicyNumber found then assign the value as NotFound in double quotes. \n",
    "            Provide a JSON response using the following format, no preamble. Collision with animal cannot be a intent. Below is the JSON that should be the output:\n",
    "            {{ Representative: string,\n",
    "            Customer:string, \n",
    "            ClaimNumber : string, \n",
    "            PolicyNumber : string,\n",
    "            CallIntent:string,\n",
    "            CallToAction:string,\n",
    "            Issue:string,\n",
    "            Resolution:string,\n",
    "            NextSteps:string,\n",
    "            ModeofUpdate:string,\n",
    "            PurposeOfCall:string,\n",
    "            ResponseMode:string,\n",
    "            FirstCallResolution:float,\n",
    "            CallQuality: string,\n",
    "            Net Promoter Score :INT}}. Intent of the call should be in 2 words. Provide if it was a first call resolution as a score values ranging between 0.01 and 0.99.\n",
    "            Call Quality involves monitoring and evaluating the quality of interactions based on communication skills, adherence to protocols, and overall customer handling and values will be Good,Average,Poor. \n",
    "            Net Promoter Score value between 10 -100 and also consider the resolution response time and skill of the Representative in handling the issue.\n",
    "            \n",
    "            Below pattern of conversations is not a first call resolution :\n",
    "            Owen: Hello, this is Owen from AutoAssure Insurance. How can I assist you today?\n",
    "            Jessica: Hi, Owen. My name is Jessica Turner, and I am calling to check the status of my insurance claim for a recent car accident.\n",
    "            Owen: I am here to help, Jessica. Can you please provide me with your policy number so I can access your information?\n",
    "            Jessica: It is POL901234.\n",
    "            Owen: Thank you, Jessica. Let me pull up the details of your claim. While I am doing that, is there something specific you are unclear about regarding the status?\n",
    "            Jessica: Yes, Owen. I had an accident two weeks ago, and I have not received any updates on the claim.\n",
    "            Owen: I understand your concern, Jessica. I will investigate the status of your claim and provide you with an update. You will receive an email shortly.\n",
    "            Jessica: Yes, Owen. How soon can I expect to hear back about the status of my claim?\n",
    "            Owen: I appreciate your patience, Jessica. Our claims department is actively working on your case, and you can expect an update within the next 48 hours.\n",
    "            Jessica: Thank you, Owen. I will be waiting for the update. You haveve been very helpful.\n",
    "            Owen: It is my pleasure, Jessica. If you have any more questions or concerns, feel free to contact us.\n",
    "            Jessica: Goodbye.\n",
    "            \n",
    "            Only provide JSON in your response. Dont provide any explanations.Do not prefix \"Here is the JSON response for the conversation\" for the json data generated. Value for the Claim Number should be NotFound in double quotes if Claim Number or Policy Number is not found in the text between the <question></question> for all rows.','<question>'\n",
    "            ,EXTRACTED_INFO,'</question> [/INST] Answer: Here is the JSON response for the conversation')\n",
    "            )\n",
    "            ) as call_details \n",
    "            ,SNOWFLAKE.CORTEX.SUMMARIZE(concat('Provide the summary for the conversation in <con> </con> tag.Generate only the requested output. \n",
    "            Do not include any other language before or after the requested output.Also include any policy number or claim number if found the conversation. Do not include the prompt. Dont provide any explanations.\n",
    "            <con>',CONVERSATION,'</con>')) as call_summary\n",
    "            , SNOWFLAKE.CORTEX.SENTIMENT(CONVERSATION) as call_sentiment\n",
    "from TRANSCRIPT_INFO_EXTRACTED_QA\n",
    ")\n",
    "select * from audio_details\n",
    "\n",
    "\"\"\").collect()"
   ]
  },
  {
   "cell_type": "code",
   "execution_count": 25,
   "id": "3e61732d",
   "metadata": {},
   "outputs": [
    {
     "data": {
      "text/html": [
       "<div>\n",
       "<style scoped>\n",
       "    .dataframe tbody tr th:only-of-type {\n",
       "        vertical-align: middle;\n",
       "    }\n",
       "\n",
       "    .dataframe tbody tr th {\n",
       "        vertical-align: top;\n",
       "    }\n",
       "\n",
       "    .dataframe thead th {\n",
       "        text-align: right;\n",
       "    }\n",
       "</style>\n",
       "<table border=\"1\" class=\"dataframe\">\n",
       "  <thead>\n",
       "    <tr style=\"text-align: right;\">\n",
       "      <th></th>\n",
       "      <th>DATETIME</th>\n",
       "      <th>AUDIO_FILE_NAME</th>\n",
       "      <th>AUDIO_FULL_FILE_PATH</th>\n",
       "      <th>RAW_CONVERSATION</th>\n",
       "      <th>PROMPTED_CONVERSATION</th>\n",
       "      <th>DURATION</th>\n",
       "      <th>CALL_DETAILS</th>\n",
       "      <th>CALL_SUMMARY</th>\n",
       "      <th>CALL_SENTIMENT</th>\n",
       "      <th>REPONSE_GIVEN</th>\n",
       "    </tr>\n",
       "  </thead>\n",
       "  <tbody>\n",
       "    <tr>\n",
       "      <th>0</th>\n",
       "      <td>2023-11-11</td>\n",
       "      <td>audiofile1.mp3</td>\n",
       "      <td>https://sfc-prod3-ds1-16-customer-stage.s3.us-...</td>\n",
       "      <td>Hello, this is Emily from AutoAssure Insurance...</td>\n",
       "      <td>* Emily: Hi, Emily from AutoAssure Insurance....</td>\n",
       "      <td>218.254271</td>\n",
       "      <td>{\\n  \"CallIntent\": \"Dispute Resolution\",\\n  \"C...</td>\n",
       "      <td>Rachel Anderson called AutoAssure Insurance wi...</td>\n",
       "      <td>0.849483</td>\n",
       "      <td>NaN</td>\n",
       "    </tr>\n",
       "    <tr>\n",
       "      <th>1</th>\n",
       "      <td>2023-11-11</td>\n",
       "      <td>audiofile2.mp3</td>\n",
       "      <td>https://sfc-prod3-ds1-16-customer-stage.s3.us-...</td>\n",
       "      <td>Hello, this is James from AutoAssure Insurance...</td>\n",
       "      <td>* James: Hi, this is James from AutoAssure In...</td>\n",
       "      <td>197.705486</td>\n",
       "      <td>{\\n  \"CallIntent\": \"Dispute Resolution\",\\n  \"C...</td>\n",
       "      <td>Andrew Simmons called about a dispute regardin...</td>\n",
       "      <td>0.862530</td>\n",
       "      <td>NaN</td>\n",
       "    </tr>\n",
       "    <tr>\n",
       "      <th>2</th>\n",
       "      <td>2023-11-11</td>\n",
       "      <td>audiofile3.mp3</td>\n",
       "      <td>https://sfc-prod3-ds1-16-customer-stage.s3.us-...</td>\n",
       "      <td>Hello, this is Sarah from AutoAssure Insurance...</td>\n",
       "      <td>* Sarah: Hi, Sarah from AutoAssure Insurance....</td>\n",
       "      <td>75.172382</td>\n",
       "      <td>{\\n  \"CallIntent\": \"Dispute\",\\n  \"CallQuality\"...</td>\n",
       "      <td>Sarah from AutoAssure Insurance assisting Alex...</td>\n",
       "      <td>0.807720</td>\n",
       "      <td>NaN</td>\n",
       "    </tr>\n",
       "  </tbody>\n",
       "</table>\n",
       "</div>"
      ],
      "text/plain": [
       "     DATETIME AUDIO_FILE_NAME  \\\n",
       "0  2023-11-11  audiofile1.mp3   \n",
       "1  2023-11-11  audiofile2.mp3   \n",
       "2  2023-11-11  audiofile3.mp3   \n",
       "\n",
       "                                AUDIO_FULL_FILE_PATH  \\\n",
       "0  https://sfc-prod3-ds1-16-customer-stage.s3.us-...   \n",
       "1  https://sfc-prod3-ds1-16-customer-stage.s3.us-...   \n",
       "2  https://sfc-prod3-ds1-16-customer-stage.s3.us-...   \n",
       "\n",
       "                                    RAW_CONVERSATION  \\\n",
       "0  Hello, this is Emily from AutoAssure Insurance...   \n",
       "1  Hello, this is James from AutoAssure Insurance...   \n",
       "2  Hello, this is Sarah from AutoAssure Insurance...   \n",
       "\n",
       "                               PROMPTED_CONVERSATION    DURATION  \\\n",
       "0   * Emily: Hi, Emily from AutoAssure Insurance....  218.254271   \n",
       "1   * James: Hi, this is James from AutoAssure In...  197.705486   \n",
       "2   * Sarah: Hi, Sarah from AutoAssure Insurance....   75.172382   \n",
       "\n",
       "                                        CALL_DETAILS  \\\n",
       "0  {\\n  \"CallIntent\": \"Dispute Resolution\",\\n  \"C...   \n",
       "1  {\\n  \"CallIntent\": \"Dispute Resolution\",\\n  \"C...   \n",
       "2  {\\n  \"CallIntent\": \"Dispute\",\\n  \"CallQuality\"...   \n",
       "\n",
       "                                        CALL_SUMMARY  CALL_SENTIMENT  \\\n",
       "0  Rachel Anderson called AutoAssure Insurance wi...        0.849483   \n",
       "1  Andrew Simmons called about a dispute regardin...        0.862530   \n",
       "2  Sarah from AutoAssure Insurance assisting Alex...        0.807720   \n",
       "\n",
       "   REPONSE_GIVEN  \n",
       "0            NaN  \n",
       "1            NaN  \n",
       "2            NaN  "
      ]
     },
     "execution_count": 25,
     "metadata": {},
     "output_type": "execute_result"
    }
   ],
   "source": [
    "session.table(\"AUDIO_CLAIMS_EXTRACTED_INFO\").limit(3).to_pandas()"
   ]
  },
  {
   "cell_type": "code",
   "execution_count": 26,
   "id": "56c6b6d3",
   "metadata": {},
   "outputs": [],
   "source": [
    "# info_extracted_snowdf = prompted_snowdf.with_column(\"EXTRACTED_INFO\", F.call_builtin(\"snowflake.ml.COMPLETE\", F.lit('llama2-7b-chat'), F.col(\"PROMPT\")))"
   ]
  },
  {
   "cell_type": "code",
   "execution_count": 27,
   "id": "e98a728b",
   "metadata": {},
   "outputs": [
    {
     "name": "stdout",
     "output_type": "stream",
     "text": [
      "CPU times: user 1e+03 ns, sys: 0 ns, total: 1e+03 ns\n",
      "Wall time: 3.34 µs\n"
     ]
    }
   ],
   "source": [
    "%%time\n",
    "# info_extracted_snowdf.write.mode(\"overwrite\").save_as_table(response_table_name)"
   ]
  },
  {
   "cell_type": "markdown",
   "id": "39586aa4",
   "metadata": {},
   "source": [
    "## Loading the StreamlitApp Table\n",
    "This is the source table for the Streamlit App for Text2SQL option"
   ]
  },
  {
   "cell_type": "code",
   "execution_count": 28,
   "id": "443c2854",
   "metadata": {},
   "outputs": [
    {
     "data": {
      "text/plain": [
       "[Row(status='Table STREAMLITAPPTABLE successfully created.')]"
      ]
     },
     "execution_count": 28,
     "metadata": {},
     "output_type": "execute_result"
    }
   ],
   "source": [
    "session.sql(f'''\n",
    "\n",
    "CREATE OR REPLACE TABLE StreamlitAppTable\n",
    "As\n",
    "select datetime , audio_file_name,\n",
    "duration,\n",
    "call_details:CallToAction::string as CallToAction\n",
    ",call_details:ClaimNumber::string as ClaimNumber\n",
    ",call_details:Customer::string as Customer\n",
    ",call_details:CallIntent::string as Intent\n",
    ",call_details:Issue::string as Issue\n",
    ",call_details:PolicyNumber::string as PolicyNumber\n",
    ",call_details:PurposeOfCall::string as PurposeOfCall\n",
    ",call_details:Representative::string as Representative\n",
    ",call_details:Resolution::string as Resolution\n",
    ",call_details:ResponseMode::string as ResponseMode\n",
    ",call_details:ModeofUpdate::string as ModeofUpdate\n",
    ",call_details:NextSteps::string as NextSteps\n",
    ",IFF(call_sentiment>0.7,'Positive','Negative') as CallSentiment\n",
    ",IFF(call_details:FirstCallResolution>0.5,'Yes','No') as FirstCallResolution\n",
    "from\n",
    "Audio_Claims_Extracted_info\n",
    "            \n",
    "            ''').collect()"
   ]
  },
  {
   "cell_type": "markdown",
   "id": "a790b568",
   "metadata": {},
   "source": [
    "## Loading the Audio Embedding Table\n",
    "This is used by the Chatbot part of the app"
   ]
  },
  {
   "cell_type": "code",
   "execution_count": 29,
   "id": "0ecf3920",
   "metadata": {},
   "outputs": [
    {
     "ename": "SnowparkSQLException",
     "evalue": "(1304): 01b64cd0-0204-4f21-0000-0002c0b2f301: 002141 (42601): SQL compilation error:\nUnknown user-defined function SNOWFLAKE.CORTEX.EMBED_TEXT",
     "output_type": "error",
     "traceback": [
      "\u001b[0;31m---------------------------------------------------------------------------\u001b[0m",
      "\u001b[0;31mSnowparkSQLException\u001b[0m                      Traceback (most recent call last)",
      "Cell \u001b[0;32mIn[29], line 1\u001b[0m\n\u001b[0;32m----> 1\u001b[0m \u001b[43msession\u001b[49m\u001b[38;5;241;43m.\u001b[39;49m\u001b[43msql\u001b[49m\u001b[43m(\u001b[49m\u001b[38;5;124;43m'''\u001b[39;49m\n\u001b[1;32m      2\u001b[0m \u001b[38;5;124;43m        create or replace table Audio_Call_Embedding\u001b[39;49m\n\u001b[1;32m      3\u001b[0m \u001b[38;5;124;43m        as\u001b[39;49m\n\u001b[1;32m      4\u001b[0m \u001b[38;5;124;43m        with sub\u001b[39;49m\n\u001b[1;32m      5\u001b[0m \u001b[38;5;124;43m        as\u001b[39;49m\n\u001b[1;32m      6\u001b[0m \u001b[38;5;124;43m        (\u001b[39;49m\n\u001b[1;32m      7\u001b[0m \u001b[38;5;124;43m        select \u001b[39;49m\n\u001b[1;32m      8\u001b[0m \u001b[38;5;124;43m                datetime as CallDate,\u001b[39;49m\n\u001b[1;32m      9\u001b[0m \u001b[38;5;124;43m                audio_file_name as AudioFileName,\u001b[39;49m\n\u001b[1;32m     10\u001b[0m \u001b[38;5;124;43m                call_details:CallToAction as CallToAction,\u001b[39;49m\n\u001b[1;32m     11\u001b[0m \u001b[38;5;124;43m                call_details:ClaimNumber::string as ClaimNumber ,\u001b[39;49m\n\u001b[1;32m     12\u001b[0m \u001b[38;5;124;43m                call_details:PolicyNumber::string as PolicyNumber,\u001b[39;49m\n\u001b[1;32m     13\u001b[0m \u001b[38;5;124;43m                call_details:Representative::string as AgentName,\u001b[39;49m\n\u001b[1;32m     14\u001b[0m \u001b[38;5;124;43m                call_details:Customer::string as CustomerName,\u001b[39;49m\n\u001b[1;32m     15\u001b[0m \u001b[38;5;124;43m                call_details:CallIntent::string as CallIntent,\u001b[39;49m\n\u001b[1;32m     16\u001b[0m \u001b[38;5;124;43m                call_details:Issue as Issue,\u001b[39;49m\n\u001b[1;32m     17\u001b[0m \u001b[38;5;124;43m                call_details:ModeofUpdate as ModeofUpdate,\u001b[39;49m\n\u001b[1;32m     18\u001b[0m \u001b[38;5;124;43m                call_details:NextSteps as NextSteps,\u001b[39;49m\n\u001b[1;32m     19\u001b[0m \u001b[38;5;124;43m                call_details:Resolution as Resolution,\u001b[39;49m\n\u001b[1;32m     20\u001b[0m \u001b[38;5;124;43m                IFF(call_details:FirstCallResolution>0.5,\u001b[39;49m\u001b[38;5;124;43m'\u001b[39;49m\u001b[38;5;124;43mYes\u001b[39;49m\u001b[38;5;124;43m'\u001b[39;49m\u001b[38;5;124;43m,\u001b[39;49m\u001b[38;5;124;43m'\u001b[39;49m\u001b[38;5;124;43mNo\u001b[39;49m\u001b[38;5;124;43m'\u001b[39;49m\u001b[38;5;124;43m) as FristCallResolution,\u001b[39;49m\n\u001b[1;32m     21\u001b[0m \u001b[38;5;124;43m            IFF(call_sentiment >0.72,\u001b[39;49m\u001b[38;5;124;43m'\u001b[39;49m\u001b[38;5;124;43mPositive\u001b[39;49m\u001b[38;5;124;43m'\u001b[39;49m\u001b[38;5;124;43m,\u001b[39;49m\u001b[38;5;124;43m'\u001b[39;49m\u001b[38;5;124;43mNegative\u001b[39;49m\u001b[38;5;124;43m'\u001b[39;49m\u001b[38;5;124;43m) as CallSentiment,\u001b[39;49m\n\u001b[1;32m     22\u001b[0m \u001b[38;5;124;43m            substr(call_summary,charindex(\u001b[39;49m\u001b[38;5;124;43m'\u001b[39;49m\u001b[38;5;124;43m:\u001b[39;49m\u001b[38;5;124;43m'\u001b[39;49m\u001b[38;5;124;43m,call_summary,1)+1) as CallSummary\u001b[39;49m\n\u001b[1;32m     23\u001b[0m \u001b[38;5;124;43m        \u001b[39;49m\n\u001b[1;32m     24\u001b[0m \u001b[38;5;124;43m        from Audio_Claims_Extracted_info\u001b[39;49m\n\u001b[1;32m     25\u001b[0m \u001b[38;5;124;43m        )\u001b[39;49m\n\u001b[1;32m     26\u001b[0m \u001b[38;5;124;43m        select OBJECT_CONSTRUCT(*) as audio_data, SNOWFLAKE.CORTEX.embed_text(\u001b[39;49m\u001b[38;5;124;43m'\u001b[39;49m\u001b[38;5;124;43me5-base-v2\u001b[39;49m\u001b[38;5;124;43m'\u001b[39;49m\u001b[38;5;124;43m ,\u001b[39;49m\n\u001b[1;32m     27\u001b[0m \u001b[38;5;124;43m        audio_data::string) as ct_embedding from sub ;\u001b[39;49m\n\u001b[1;32m     28\u001b[0m \u001b[38;5;124;43m                    \u001b[39;49m\n\u001b[1;32m     29\u001b[0m \u001b[38;5;124;43m            \u001b[39;49m\u001b[38;5;124;43m'''\u001b[39;49m\u001b[43m)\u001b[49m\u001b[38;5;241;43m.\u001b[39;49m\u001b[43mcollect\u001b[49m\u001b[43m(\u001b[49m\u001b[43m)\u001b[49m\n",
      "File \u001b[0;32m~/anaconda3/envs/demosnowparkdemo/lib/python3.8/site-packages/snowflake/snowpark/_internal/telemetry.py:150\u001b[0m, in \u001b[0;36mdf_collect_api_telemetry.<locals>.wrap\u001b[0;34m(*args, **kwargs)\u001b[0m\n\u001b[1;32m    147\u001b[0m \u001b[38;5;129m@functools\u001b[39m\u001b[38;5;241m.\u001b[39mwraps(func)\n\u001b[1;32m    148\u001b[0m \u001b[38;5;28;01mdef\u001b[39;00m \u001b[38;5;21mwrap\u001b[39m(\u001b[38;5;241m*\u001b[39margs, \u001b[38;5;241m*\u001b[39m\u001b[38;5;241m*\u001b[39mkwargs):\n\u001b[1;32m    149\u001b[0m     \u001b[38;5;28;01mwith\u001b[39;00m args[\u001b[38;5;241m0\u001b[39m]\u001b[38;5;241m.\u001b[39m_session\u001b[38;5;241m.\u001b[39mquery_history() \u001b[38;5;28;01mas\u001b[39;00m query_history:\n\u001b[0;32m--> 150\u001b[0m         result \u001b[38;5;241m=\u001b[39m \u001b[43mfunc\u001b[49m\u001b[43m(\u001b[49m\u001b[38;5;241;43m*\u001b[39;49m\u001b[43margs\u001b[49m\u001b[43m,\u001b[49m\u001b[43m \u001b[49m\u001b[38;5;241;43m*\u001b[39;49m\u001b[38;5;241;43m*\u001b[39;49m\u001b[43mkwargs\u001b[49m\u001b[43m)\u001b[49m\n\u001b[1;32m    151\u001b[0m     plan \u001b[38;5;241m=\u001b[39m args[\u001b[38;5;241m0\u001b[39m]\u001b[38;5;241m.\u001b[39m_select_statement \u001b[38;5;129;01mor\u001b[39;00m args[\u001b[38;5;241m0\u001b[39m]\u001b[38;5;241m.\u001b[39m_plan\n\u001b[1;32m    152\u001b[0m     api_calls \u001b[38;5;241m=\u001b[39m [\n\u001b[1;32m    153\u001b[0m         \u001b[38;5;241m*\u001b[39mplan\u001b[38;5;241m.\u001b[39mapi_calls,\n\u001b[1;32m    154\u001b[0m         {TelemetryField\u001b[38;5;241m.\u001b[39mNAME\u001b[38;5;241m.\u001b[39mvalue: \u001b[38;5;124mf\u001b[39m\u001b[38;5;124m\"\u001b[39m\u001b[38;5;124mDataFrame.\u001b[39m\u001b[38;5;132;01m{\u001b[39;00mfunc\u001b[38;5;241m.\u001b[39m\u001b[38;5;18m__name__\u001b[39m\u001b[38;5;132;01m}\u001b[39;00m\u001b[38;5;124m\"\u001b[39m},\n\u001b[1;32m    155\u001b[0m     ]\n",
      "File \u001b[0;32m~/anaconda3/envs/demosnowparkdemo/lib/python3.8/site-packages/snowflake/snowpark/dataframe.py:596\u001b[0m, in \u001b[0;36mDataFrame.collect\u001b[0;34m(self, statement_params, block, log_on_exception, case_sensitive)\u001b[0m\n\u001b[1;32m    581\u001b[0m \u001b[38;5;250m\u001b[39m\u001b[38;5;124;03m\"\"\"Executes the query representing this DataFrame and returns the result as a\u001b[39;00m\n\u001b[1;32m    582\u001b[0m \u001b[38;5;124;03mlist of :class:`Row` objects.\u001b[39;00m\n\u001b[1;32m    583\u001b[0m \n\u001b[0;32m   (...)\u001b[0m\n\u001b[1;32m    593\u001b[0m \u001b[38;5;124;03m    :meth:`collect_nowait()`\u001b[39;00m\n\u001b[1;32m    594\u001b[0m \u001b[38;5;124;03m\"\"\"\u001b[39;00m\n\u001b[1;32m    595\u001b[0m \u001b[38;5;28;01mwith\u001b[39;00m open_telemetry_context_manager(\u001b[38;5;28mself\u001b[39m\u001b[38;5;241m.\u001b[39mcollect, \u001b[38;5;28mself\u001b[39m):\n\u001b[0;32m--> 596\u001b[0m     \u001b[38;5;28;01mreturn\u001b[39;00m \u001b[38;5;28;43mself\u001b[39;49m\u001b[38;5;241;43m.\u001b[39;49m\u001b[43m_internal_collect_with_tag_no_telemetry\u001b[49m\u001b[43m(\u001b[49m\n\u001b[1;32m    597\u001b[0m \u001b[43m        \u001b[49m\u001b[43mstatement_params\u001b[49m\u001b[38;5;241;43m=\u001b[39;49m\u001b[43mstatement_params\u001b[49m\u001b[43m,\u001b[49m\n\u001b[1;32m    598\u001b[0m \u001b[43m        \u001b[49m\u001b[43mblock\u001b[49m\u001b[38;5;241;43m=\u001b[39;49m\u001b[43mblock\u001b[49m\u001b[43m,\u001b[49m\n\u001b[1;32m    599\u001b[0m \u001b[43m        \u001b[49m\u001b[43mlog_on_exception\u001b[49m\u001b[38;5;241;43m=\u001b[39;49m\u001b[43mlog_on_exception\u001b[49m\u001b[43m,\u001b[49m\n\u001b[1;32m    600\u001b[0m \u001b[43m        \u001b[49m\u001b[43mcase_sensitive\u001b[49m\u001b[38;5;241;43m=\u001b[39;49m\u001b[43mcase_sensitive\u001b[49m\u001b[43m,\u001b[49m\n\u001b[1;32m    601\u001b[0m \u001b[43m    \u001b[49m\u001b[43m)\u001b[49m\n",
      "File \u001b[0;32m~/anaconda3/envs/demosnowparkdemo/lib/python3.8/site-packages/snowflake/snowpark/dataframe.py:644\u001b[0m, in \u001b[0;36mDataFrame._internal_collect_with_tag_no_telemetry\u001b[0;34m(self, statement_params, block, data_type, log_on_exception, case_sensitive)\u001b[0m\n\u001b[1;32m    632\u001b[0m \u001b[38;5;28;01mdef\u001b[39;00m \u001b[38;5;21m_internal_collect_with_tag_no_telemetry\u001b[39m(\n\u001b[1;32m    633\u001b[0m     \u001b[38;5;28mself\u001b[39m,\n\u001b[1;32m    634\u001b[0m     \u001b[38;5;241m*\u001b[39m,\n\u001b[0;32m   (...)\u001b[0m\n\u001b[1;32m    642\u001b[0m     \u001b[38;5;66;03m# we should always call this method instead of collect(), to make sure the\u001b[39;00m\n\u001b[1;32m    643\u001b[0m     \u001b[38;5;66;03m# query tag is set properly.\u001b[39;00m\n\u001b[0;32m--> 644\u001b[0m     \u001b[38;5;28;01mreturn\u001b[39;00m \u001b[38;5;28;43mself\u001b[39;49m\u001b[38;5;241;43m.\u001b[39;49m\u001b[43m_session\u001b[49m\u001b[38;5;241;43m.\u001b[39;49m\u001b[43m_conn\u001b[49m\u001b[38;5;241;43m.\u001b[39;49m\u001b[43mexecute\u001b[49m\u001b[43m(\u001b[49m\n\u001b[1;32m    645\u001b[0m \u001b[43m        \u001b[49m\u001b[38;5;28;43mself\u001b[39;49m\u001b[38;5;241;43m.\u001b[39;49m\u001b[43m_plan\u001b[49m\u001b[43m,\u001b[49m\n\u001b[1;32m    646\u001b[0m \u001b[43m        \u001b[49m\u001b[43mblock\u001b[49m\u001b[38;5;241;43m=\u001b[39;49m\u001b[43mblock\u001b[49m\u001b[43m,\u001b[49m\n\u001b[1;32m    647\u001b[0m \u001b[43m        \u001b[49m\u001b[43mdata_type\u001b[49m\u001b[38;5;241;43m=\u001b[39;49m\u001b[43mdata_type\u001b[49m\u001b[43m,\u001b[49m\n\u001b[1;32m    648\u001b[0m \u001b[43m        \u001b[49m\u001b[43m_statement_params\u001b[49m\u001b[38;5;241;43m=\u001b[39;49m\u001b[43mcreate_or_update_statement_params_with_query_tag\u001b[49m\u001b[43m(\u001b[49m\n\u001b[1;32m    649\u001b[0m \u001b[43m            \u001b[49m\u001b[43mstatement_params\u001b[49m\u001b[43m \u001b[49m\u001b[38;5;129;43;01mor\u001b[39;49;00m\u001b[43m \u001b[49m\u001b[38;5;28;43mself\u001b[39;49m\u001b[38;5;241;43m.\u001b[39;49m\u001b[43m_statement_params\u001b[49m\u001b[43m,\u001b[49m\n\u001b[1;32m    650\u001b[0m \u001b[43m            \u001b[49m\u001b[38;5;28;43mself\u001b[39;49m\u001b[38;5;241;43m.\u001b[39;49m\u001b[43m_session\u001b[49m\u001b[38;5;241;43m.\u001b[39;49m\u001b[43mquery_tag\u001b[49m\u001b[43m,\u001b[49m\n\u001b[1;32m    651\u001b[0m \u001b[43m            \u001b[49m\u001b[43mSKIP_LEVELS_THREE\u001b[49m\u001b[43m,\u001b[49m\n\u001b[1;32m    652\u001b[0m \u001b[43m        \u001b[49m\u001b[43m)\u001b[49m\u001b[43m,\u001b[49m\n\u001b[1;32m    653\u001b[0m \u001b[43m        \u001b[49m\u001b[43mlog_on_exception\u001b[49m\u001b[38;5;241;43m=\u001b[39;49m\u001b[43mlog_on_exception\u001b[49m\u001b[43m,\u001b[49m\n\u001b[1;32m    654\u001b[0m \u001b[43m        \u001b[49m\u001b[43mcase_sensitive\u001b[49m\u001b[38;5;241;43m=\u001b[39;49m\u001b[43mcase_sensitive\u001b[49m\u001b[43m,\u001b[49m\n\u001b[1;32m    655\u001b[0m \u001b[43m    \u001b[49m\u001b[43m)\u001b[49m\n",
      "File \u001b[0;32m~/anaconda3/envs/demosnowparkdemo/lib/python3.8/site-packages/snowflake/snowpark/_internal/server_connection.py:513\u001b[0m, in \u001b[0;36mServerConnection.execute\u001b[0;34m(self, plan, to_pandas, to_iter, block, data_type, log_on_exception, case_sensitive, **kwargs)\u001b[0m\n\u001b[1;32m    503\u001b[0m \u001b[38;5;28;01mif\u001b[39;00m (\n\u001b[1;32m    504\u001b[0m     is_in_stored_procedure()\n\u001b[1;32m    505\u001b[0m     \u001b[38;5;129;01mand\u001b[39;00m \u001b[38;5;129;01mnot\u001b[39;00m block\n\u001b[0;32m   (...)\u001b[0m\n\u001b[1;32m    508\u001b[0m     )\n\u001b[1;32m    509\u001b[0m ):  \u001b[38;5;66;03m# pragma: no cover\u001b[39;00m\n\u001b[1;32m    510\u001b[0m     \u001b[38;5;28;01mraise\u001b[39;00m \u001b[38;5;167;01mNotImplementedError\u001b[39;00m(\n\u001b[1;32m    511\u001b[0m         \u001b[38;5;124m\"\u001b[39m\u001b[38;5;124mAsync query is not supported in stored procedure yet\u001b[39m\u001b[38;5;124m\"\u001b[39m\n\u001b[1;32m    512\u001b[0m     )\n\u001b[0;32m--> 513\u001b[0m result_set, result_meta \u001b[38;5;241m=\u001b[39m \u001b[38;5;28;43mself\u001b[39;49m\u001b[38;5;241;43m.\u001b[39;49m\u001b[43mget_result_set\u001b[49m\u001b[43m(\u001b[49m\n\u001b[1;32m    514\u001b[0m \u001b[43m    \u001b[49m\u001b[43mplan\u001b[49m\u001b[43m,\u001b[49m\n\u001b[1;32m    515\u001b[0m \u001b[43m    \u001b[49m\u001b[43mto_pandas\u001b[49m\u001b[43m,\u001b[49m\n\u001b[1;32m    516\u001b[0m \u001b[43m    \u001b[49m\u001b[43mto_iter\u001b[49m\u001b[43m,\u001b[49m\n\u001b[1;32m    517\u001b[0m \u001b[43m    \u001b[49m\u001b[38;5;241;43m*\u001b[39;49m\u001b[38;5;241;43m*\u001b[39;49m\u001b[43mkwargs\u001b[49m\u001b[43m,\u001b[49m\n\u001b[1;32m    518\u001b[0m \u001b[43m    \u001b[49m\u001b[43mblock\u001b[49m\u001b[38;5;241;43m=\u001b[39;49m\u001b[43mblock\u001b[49m\u001b[43m,\u001b[49m\n\u001b[1;32m    519\u001b[0m \u001b[43m    \u001b[49m\u001b[43mdata_type\u001b[49m\u001b[38;5;241;43m=\u001b[39;49m\u001b[43mdata_type\u001b[49m\u001b[43m,\u001b[49m\n\u001b[1;32m    520\u001b[0m \u001b[43m    \u001b[49m\u001b[43mlog_on_exception\u001b[49m\u001b[38;5;241;43m=\u001b[39;49m\u001b[43mlog_on_exception\u001b[49m\u001b[43m,\u001b[49m\n\u001b[1;32m    521\u001b[0m \u001b[43m    \u001b[49m\u001b[43mcase_sensitive\u001b[49m\u001b[38;5;241;43m=\u001b[39;49m\u001b[43mcase_sensitive\u001b[49m\u001b[43m,\u001b[49m\n\u001b[1;32m    522\u001b[0m \u001b[43m\u001b[49m\u001b[43m)\u001b[49m\n\u001b[1;32m    523\u001b[0m \u001b[38;5;28;01mif\u001b[39;00m \u001b[38;5;129;01mnot\u001b[39;00m block:\n\u001b[1;32m    524\u001b[0m     \u001b[38;5;28;01mreturn\u001b[39;00m result_set\n",
      "File \u001b[0;32m~/anaconda3/envs/demosnowparkdemo/lib/python3.8/site-packages/snowflake/snowpark/_internal/analyzer/snowflake_plan.py:195\u001b[0m, in \u001b[0;36mSnowflakePlan.Decorator.wrap_exception.<locals>.wrap\u001b[0;34m(*args, **kwargs)\u001b[0m\n\u001b[1;32m    191\u001b[0m \u001b[38;5;28;01melse\u001b[39;00m:\n\u001b[1;32m    192\u001b[0m     ne \u001b[38;5;241m=\u001b[39m SnowparkClientExceptionMessages\u001b[38;5;241m.\u001b[39mSQL_EXCEPTION_FROM_PROGRAMMING_ERROR(\n\u001b[1;32m    193\u001b[0m         e\n\u001b[1;32m    194\u001b[0m     )\n\u001b[0;32m--> 195\u001b[0m     \u001b[38;5;28;01mraise\u001b[39;00m ne\u001b[38;5;241m.\u001b[39mwith_traceback(tb) \u001b[38;5;28;01mfrom\u001b[39;00m \u001b[38;5;28;01mNone\u001b[39;00m\n",
      "File \u001b[0;32m~/anaconda3/envs/demosnowparkdemo/lib/python3.8/site-packages/snowflake/snowpark/_internal/analyzer/snowflake_plan.py:126\u001b[0m, in \u001b[0;36mSnowflakePlan.Decorator.wrap_exception.<locals>.wrap\u001b[0;34m(*args, **kwargs)\u001b[0m\n\u001b[1;32m    124\u001b[0m \u001b[38;5;28;01mdef\u001b[39;00m \u001b[38;5;21mwrap\u001b[39m(\u001b[38;5;241m*\u001b[39margs, \u001b[38;5;241m*\u001b[39m\u001b[38;5;241m*\u001b[39mkwargs):\n\u001b[1;32m    125\u001b[0m     \u001b[38;5;28;01mtry\u001b[39;00m:\n\u001b[0;32m--> 126\u001b[0m         \u001b[38;5;28;01mreturn\u001b[39;00m \u001b[43mfunc\u001b[49m\u001b[43m(\u001b[49m\u001b[38;5;241;43m*\u001b[39;49m\u001b[43margs\u001b[49m\u001b[43m,\u001b[49m\u001b[43m \u001b[49m\u001b[38;5;241;43m*\u001b[39;49m\u001b[38;5;241;43m*\u001b[39;49m\u001b[43mkwargs\u001b[49m\u001b[43m)\u001b[49m\n\u001b[1;32m    127\u001b[0m     \u001b[38;5;28;01mexcept\u001b[39;00m snowflake\u001b[38;5;241m.\u001b[39mconnector\u001b[38;5;241m.\u001b[39merrors\u001b[38;5;241m.\u001b[39mProgrammingError \u001b[38;5;28;01mas\u001b[39;00m e:\n\u001b[1;32m    128\u001b[0m         query \u001b[38;5;241m=\u001b[39m \u001b[38;5;28mgetattr\u001b[39m(e, \u001b[38;5;124m\"\u001b[39m\u001b[38;5;124mquery\u001b[39m\u001b[38;5;124m\"\u001b[39m, \u001b[38;5;28;01mNone\u001b[39;00m)\n",
      "File \u001b[0;32m~/anaconda3/envs/demosnowparkdemo/lib/python3.8/site-packages/snowflake/snowpark/_internal/server_connection.py:617\u001b[0m, in \u001b[0;36mServerConnection.get_result_set\u001b[0;34m(self, plan, to_pandas, to_iter, block, data_type, log_on_exception, case_sensitive, ignore_results, **kwargs)\u001b[0m\n\u001b[1;32m    615\u001b[0m \u001b[38;5;28;01mfor\u001b[39;00m holder, id_ \u001b[38;5;129;01min\u001b[39;00m placeholders\u001b[38;5;241m.\u001b[39mitems():\n\u001b[1;32m    616\u001b[0m     final_query \u001b[38;5;241m=\u001b[39m final_query\u001b[38;5;241m.\u001b[39mreplace(holder, id_)\n\u001b[0;32m--> 617\u001b[0m result \u001b[38;5;241m=\u001b[39m \u001b[38;5;28;43mself\u001b[39;49m\u001b[38;5;241;43m.\u001b[39;49m\u001b[43mrun_query\u001b[49m\u001b[43m(\u001b[49m\n\u001b[1;32m    618\u001b[0m \u001b[43m    \u001b[49m\u001b[43mfinal_query\u001b[49m\u001b[43m,\u001b[49m\n\u001b[1;32m    619\u001b[0m \u001b[43m    \u001b[49m\u001b[43mto_pandas\u001b[49m\u001b[43m,\u001b[49m\n\u001b[1;32m    620\u001b[0m \u001b[43m    \u001b[49m\u001b[43mto_iter\u001b[49m\u001b[43m \u001b[49m\u001b[38;5;129;43;01mand\u001b[39;49;00m\u001b[43m \u001b[49m\u001b[43m(\u001b[49m\u001b[43mi\u001b[49m\u001b[43m \u001b[49m\u001b[38;5;241;43m==\u001b[39;49m\u001b[43m \u001b[49m\u001b[38;5;28;43mlen\u001b[39;49m\u001b[43m(\u001b[49m\u001b[43mplan\u001b[49m\u001b[38;5;241;43m.\u001b[39;49m\u001b[43mqueries\u001b[49m\u001b[43m)\u001b[49m\u001b[43m \u001b[49m\u001b[38;5;241;43m-\u001b[39;49m\u001b[43m \u001b[49m\u001b[38;5;241;43m1\u001b[39;49m\u001b[43m)\u001b[49m\u001b[43m,\u001b[49m\n\u001b[1;32m    621\u001b[0m \u001b[43m    \u001b[49m\u001b[43mis_ddl_on_temp_object\u001b[49m\u001b[38;5;241;43m=\u001b[39;49m\u001b[43mquery\u001b[49m\u001b[38;5;241;43m.\u001b[39;49m\u001b[43mis_ddl_on_temp_object\u001b[49m\u001b[43m,\u001b[49m\n\u001b[1;32m    622\u001b[0m \u001b[43m    \u001b[49m\u001b[43mblock\u001b[49m\u001b[38;5;241;43m=\u001b[39;49m\u001b[38;5;129;43;01mnot\u001b[39;49;00m\u001b[43m \u001b[49m\u001b[43mis_last\u001b[49m\u001b[43m,\u001b[49m\n\u001b[1;32m    623\u001b[0m \u001b[43m    \u001b[49m\u001b[43mdata_type\u001b[49m\u001b[38;5;241;43m=\u001b[39;49m\u001b[43mdata_type\u001b[49m\u001b[43m,\u001b[49m\n\u001b[1;32m    624\u001b[0m \u001b[43m    \u001b[49m\u001b[43masync_job_plan\u001b[49m\u001b[38;5;241;43m=\u001b[39;49m\u001b[43mplan\u001b[49m\u001b[43m,\u001b[49m\n\u001b[1;32m    625\u001b[0m \u001b[43m    \u001b[49m\u001b[43mlog_on_exception\u001b[49m\u001b[38;5;241;43m=\u001b[39;49m\u001b[43mlog_on_exception\u001b[49m\u001b[43m,\u001b[49m\n\u001b[1;32m    626\u001b[0m \u001b[43m    \u001b[49m\u001b[43mcase_sensitive\u001b[49m\u001b[38;5;241;43m=\u001b[39;49m\u001b[43mcase_sensitive\u001b[49m\u001b[43m,\u001b[49m\n\u001b[1;32m    627\u001b[0m \u001b[43m    \u001b[49m\u001b[43mparams\u001b[49m\u001b[38;5;241;43m=\u001b[39;49m\u001b[43mquery\u001b[49m\u001b[38;5;241;43m.\u001b[39;49m\u001b[43mparams\u001b[49m\u001b[43m,\u001b[49m\n\u001b[1;32m    628\u001b[0m \u001b[43m    \u001b[49m\u001b[43mignore_results\u001b[49m\u001b[38;5;241;43m=\u001b[39;49m\u001b[43mignore_results\u001b[49m\u001b[43m,\u001b[49m\n\u001b[1;32m    629\u001b[0m \u001b[43m    \u001b[49m\u001b[38;5;241;43m*\u001b[39;49m\u001b[38;5;241;43m*\u001b[39;49m\u001b[43mkwargs\u001b[49m\u001b[43m,\u001b[49m\n\u001b[1;32m    630\u001b[0m \u001b[43m\u001b[49m\u001b[43m)\u001b[49m\n\u001b[1;32m    631\u001b[0m placeholders[query\u001b[38;5;241m.\u001b[39mquery_id_place_holder] \u001b[38;5;241m=\u001b[39m (\n\u001b[1;32m    632\u001b[0m     result[\u001b[38;5;124m\"\u001b[39m\u001b[38;5;124msfqid\u001b[39m\u001b[38;5;124m\"\u001b[39m] \u001b[38;5;28;01mif\u001b[39;00m \u001b[38;5;129;01mnot\u001b[39;00m is_last \u001b[38;5;28;01melse\u001b[39;00m result\u001b[38;5;241m.\u001b[39mquery_id\n\u001b[1;32m    633\u001b[0m )\n\u001b[1;32m    634\u001b[0m result_meta \u001b[38;5;241m=\u001b[39m get_new_description(\u001b[38;5;28mself\u001b[39m\u001b[38;5;241m.\u001b[39m_cursor)\n",
      "File \u001b[0;32m~/anaconda3/envs/demosnowparkdemo/lib/python3.8/site-packages/snowflake/snowpark/_internal/server_connection.py:123\u001b[0m, in \u001b[0;36mServerConnection._Decorator.wrap_exception.<locals>.wrap\u001b[0;34m(*args, **kwargs)\u001b[0m\n\u001b[1;32m    119\u001b[0m     \u001b[38;5;28;01mraise\u001b[39;00m SnowparkClientExceptionMessages\u001b[38;5;241m.\u001b[39mSERVER_SESSION_EXPIRED(\n\u001b[1;32m    120\u001b[0m         ex\u001b[38;5;241m.\u001b[39mcause\n\u001b[1;32m    121\u001b[0m     )\n\u001b[1;32m    122\u001b[0m \u001b[38;5;28;01mexcept\u001b[39;00m \u001b[38;5;167;01mException\u001b[39;00m \u001b[38;5;28;01mas\u001b[39;00m ex:\n\u001b[0;32m--> 123\u001b[0m     \u001b[38;5;28;01mraise\u001b[39;00m ex\n",
      "File \u001b[0;32m~/anaconda3/envs/demosnowparkdemo/lib/python3.8/site-packages/snowflake/snowpark/_internal/server_connection.py:117\u001b[0m, in \u001b[0;36mServerConnection._Decorator.wrap_exception.<locals>.wrap\u001b[0;34m(*args, **kwargs)\u001b[0m\n\u001b[1;32m    115\u001b[0m     \u001b[38;5;28;01mraise\u001b[39;00m SnowparkClientExceptionMessages\u001b[38;5;241m.\u001b[39mSERVER_SESSION_HAS_BEEN_CLOSED()\n\u001b[1;32m    116\u001b[0m \u001b[38;5;28;01mtry\u001b[39;00m:\n\u001b[0;32m--> 117\u001b[0m     \u001b[38;5;28;01mreturn\u001b[39;00m \u001b[43mfunc\u001b[49m\u001b[43m(\u001b[49m\u001b[38;5;241;43m*\u001b[39;49m\u001b[43margs\u001b[49m\u001b[43m,\u001b[49m\u001b[43m \u001b[49m\u001b[38;5;241;43m*\u001b[39;49m\u001b[38;5;241;43m*\u001b[39;49m\u001b[43mkwargs\u001b[49m\u001b[43m)\u001b[49m\n\u001b[1;32m    118\u001b[0m \u001b[38;5;28;01mexcept\u001b[39;00m ReauthenticationRequest \u001b[38;5;28;01mas\u001b[39;00m ex:\n\u001b[1;32m    119\u001b[0m     \u001b[38;5;28;01mraise\u001b[39;00m SnowparkClientExceptionMessages\u001b[38;5;241m.\u001b[39mSERVER_SESSION_EXPIRED(\n\u001b[1;32m    120\u001b[0m         ex\u001b[38;5;241m.\u001b[39mcause\n\u001b[1;32m    121\u001b[0m     )\n",
      "File \u001b[0;32m~/anaconda3/envs/demosnowparkdemo/lib/python3.8/site-packages/snowflake/snowpark/_internal/server_connection.py:418\u001b[0m, in \u001b[0;36mServerConnection.run_query\u001b[0;34m(self, query, to_pandas, to_iter, is_ddl_on_temp_object, block, data_type, async_job_plan, log_on_exception, case_sensitive, params, num_statements, ignore_results, **kwargs)\u001b[0m\n\u001b[1;32m    416\u001b[0m         query_id_log \u001b[38;5;241m=\u001b[39m \u001b[38;5;124mf\u001b[39m\u001b[38;5;124m\"\u001b[39m\u001b[38;5;124m [queryID: \u001b[39m\u001b[38;5;132;01m{\u001b[39;00mex\u001b[38;5;241m.\u001b[39msfqid\u001b[38;5;132;01m}\u001b[39;00m\u001b[38;5;124m]\u001b[39m\u001b[38;5;124m\"\u001b[39m \u001b[38;5;28;01mif\u001b[39;00m \u001b[38;5;28mhasattr\u001b[39m(ex, \u001b[38;5;124m\"\u001b[39m\u001b[38;5;124msfqid\u001b[39m\u001b[38;5;124m\"\u001b[39m) \u001b[38;5;28;01melse\u001b[39;00m \u001b[38;5;124m\"\u001b[39m\u001b[38;5;124m\"\u001b[39m\n\u001b[1;32m    417\u001b[0m         logger\u001b[38;5;241m.\u001b[39merror(\u001b[38;5;124mf\u001b[39m\u001b[38;5;124m\"\u001b[39m\u001b[38;5;124mFailed to execute query\u001b[39m\u001b[38;5;132;01m{\u001b[39;00mquery_id_log\u001b[38;5;132;01m}\u001b[39;00m\u001b[38;5;124m \u001b[39m\u001b[38;5;132;01m{\u001b[39;00mquery\u001b[38;5;132;01m}\u001b[39;00m\u001b[38;5;130;01m\\n\u001b[39;00m\u001b[38;5;132;01m{\u001b[39;00mex\u001b[38;5;132;01m}\u001b[39;00m\u001b[38;5;124m\"\u001b[39m)\n\u001b[0;32m--> 418\u001b[0m     \u001b[38;5;28;01mraise\u001b[39;00m ex\n\u001b[1;32m    420\u001b[0m \u001b[38;5;66;03m# fetch_pandas_all/batches() only works for SELECT statements\u001b[39;00m\n\u001b[1;32m    421\u001b[0m \u001b[38;5;66;03m# We call fetchall() if fetch_pandas_all/batches() fails,\u001b[39;00m\n\u001b[1;32m    422\u001b[0m \u001b[38;5;66;03m# because when the query plan has multiple queries, it will\u001b[39;00m\n\u001b[1;32m    423\u001b[0m \u001b[38;5;66;03m# have non-select statements, and it shouldn't fail if the user\u001b[39;00m\n\u001b[1;32m    424\u001b[0m \u001b[38;5;66;03m# calls to_pandas() to execute the query.\u001b[39;00m\n\u001b[1;32m    425\u001b[0m \u001b[38;5;28;01mif\u001b[39;00m block:\n",
      "File \u001b[0;32m~/anaconda3/envs/demosnowparkdemo/lib/python3.8/site-packages/snowflake/snowpark/_internal/server_connection.py:403\u001b[0m, in \u001b[0;36mServerConnection.run_query\u001b[0;34m(self, query, to_pandas, to_iter, is_ddl_on_temp_object, block, data_type, async_job_plan, log_on_exception, case_sensitive, params, num_statements, ignore_results, **kwargs)\u001b[0m\n\u001b[1;32m    401\u001b[0m     kwargs[\u001b[38;5;124m\"\u001b[39m\u001b[38;5;124m_statement_params\u001b[39m\u001b[38;5;124m\"\u001b[39m][\u001b[38;5;124m\"\u001b[39m\u001b[38;5;124mSNOWPARK_SKIP_TXN_COMMIT_IN_DDL\u001b[39m\u001b[38;5;124m\"\u001b[39m] \u001b[38;5;241m=\u001b[39m \u001b[38;5;28;01mTrue\u001b[39;00m\n\u001b[1;32m    402\u001b[0m \u001b[38;5;28;01mif\u001b[39;00m block:\n\u001b[0;32m--> 403\u001b[0m     results_cursor \u001b[38;5;241m=\u001b[39m \u001b[38;5;28;43mself\u001b[39;49m\u001b[38;5;241;43m.\u001b[39;49m\u001b[43mexecute_and_notify_query_listener\u001b[49m\u001b[43m(\u001b[49m\n\u001b[1;32m    404\u001b[0m \u001b[43m        \u001b[49m\u001b[43mquery\u001b[49m\u001b[43m,\u001b[49m\u001b[43m \u001b[49m\u001b[43mparams\u001b[49m\u001b[38;5;241;43m=\u001b[39;49m\u001b[43mparams\u001b[49m\u001b[43m,\u001b[49m\u001b[43m \u001b[49m\u001b[38;5;241;43m*\u001b[39;49m\u001b[38;5;241;43m*\u001b[39;49m\u001b[43mkwargs\u001b[49m\n\u001b[1;32m    405\u001b[0m \u001b[43m    \u001b[49m\u001b[43m)\u001b[49m\n\u001b[1;32m    406\u001b[0m     logger\u001b[38;5;241m.\u001b[39mdebug(\u001b[38;5;124mf\u001b[39m\u001b[38;5;124m\"\u001b[39m\u001b[38;5;124mExecute query [queryID: \u001b[39m\u001b[38;5;132;01m{\u001b[39;00mresults_cursor\u001b[38;5;241m.\u001b[39msfqid\u001b[38;5;132;01m}\u001b[39;00m\u001b[38;5;124m] \u001b[39m\u001b[38;5;132;01m{\u001b[39;00mquery\u001b[38;5;132;01m}\u001b[39;00m\u001b[38;5;124m\"\u001b[39m)\n\u001b[1;32m    407\u001b[0m \u001b[38;5;28;01melse\u001b[39;00m:\n",
      "File \u001b[0;32m~/anaconda3/envs/demosnowparkdemo/lib/python3.8/site-packages/snowflake/snowpark/_internal/server_connection.py:354\u001b[0m, in \u001b[0;36mServerConnection.execute_and_notify_query_listener\u001b[0;34m(self, query, **kwargs)\u001b[0m\n\u001b[1;32m    351\u001b[0m \u001b[38;5;28;01mdef\u001b[39;00m \u001b[38;5;21mexecute_and_notify_query_listener\u001b[39m(\n\u001b[1;32m    352\u001b[0m     \u001b[38;5;28mself\u001b[39m, query: \u001b[38;5;28mstr\u001b[39m, \u001b[38;5;241m*\u001b[39m\u001b[38;5;241m*\u001b[39mkwargs: Any\n\u001b[1;32m    353\u001b[0m ) \u001b[38;5;241m-\u001b[39m\u001b[38;5;241m>\u001b[39m SnowflakeCursor:\n\u001b[0;32m--> 354\u001b[0m     results_cursor \u001b[38;5;241m=\u001b[39m \u001b[38;5;28;43mself\u001b[39;49m\u001b[38;5;241;43m.\u001b[39;49m\u001b[43m_cursor\u001b[49m\u001b[38;5;241;43m.\u001b[39;49m\u001b[43mexecute\u001b[49m\u001b[43m(\u001b[49m\u001b[43mquery\u001b[49m\u001b[43m,\u001b[49m\u001b[43m \u001b[49m\u001b[38;5;241;43m*\u001b[39;49m\u001b[38;5;241;43m*\u001b[39;49m\u001b[43mkwargs\u001b[49m\u001b[43m)\u001b[49m\n\u001b[1;32m    355\u001b[0m     \u001b[38;5;28mself\u001b[39m\u001b[38;5;241m.\u001b[39mnotify_query_listeners(\n\u001b[1;32m    356\u001b[0m         QueryRecord(results_cursor\u001b[38;5;241m.\u001b[39msfqid, results_cursor\u001b[38;5;241m.\u001b[39mquery)\n\u001b[1;32m    357\u001b[0m     )\n\u001b[1;32m    358\u001b[0m     \u001b[38;5;28;01mreturn\u001b[39;00m results_cursor\n",
      "File \u001b[0;32m~/anaconda3/envs/demosnowparkdemo/lib/python3.8/site-packages/snowflake/connector/cursor.py:1087\u001b[0m, in \u001b[0;36mSnowflakeCursor.execute\u001b[0;34m(self, command, params, _bind_stage, timeout, _exec_async, _no_retry, _do_reset, _put_callback, _put_azure_callback, _put_callback_output_stream, _get_callback, _get_azure_callback, _get_callback_output_stream, _show_progress_bar, _statement_params, _is_internal, _describe_only, _no_results, _is_put_get, _raise_put_get_error, _force_put_overwrite, _skip_upload_on_content_match, file_stream, num_statements, _dataframe_ast)\u001b[0m\n\u001b[1;32m   1083\u001b[0m     is_integrity_error \u001b[38;5;241m=\u001b[39m (\n\u001b[1;32m   1084\u001b[0m         code \u001b[38;5;241m==\u001b[39m \u001b[38;5;124m\"\u001b[39m\u001b[38;5;124m100072\u001b[39m\u001b[38;5;124m\"\u001b[39m\n\u001b[1;32m   1085\u001b[0m     )  \u001b[38;5;66;03m# NULL result in a non-nullable column\u001b[39;00m\n\u001b[1;32m   1086\u001b[0m     error_class \u001b[38;5;241m=\u001b[39m IntegrityError \u001b[38;5;28;01mif\u001b[39;00m is_integrity_error \u001b[38;5;28;01melse\u001b[39;00m ProgrammingError\n\u001b[0;32m-> 1087\u001b[0m     \u001b[43mError\u001b[49m\u001b[38;5;241;43m.\u001b[39;49m\u001b[43merrorhandler_wrapper\u001b[49m\u001b[43m(\u001b[49m\u001b[38;5;28;43mself\u001b[39;49m\u001b[38;5;241;43m.\u001b[39;49m\u001b[43mconnection\u001b[49m\u001b[43m,\u001b[49m\u001b[43m \u001b[49m\u001b[38;5;28;43mself\u001b[39;49m\u001b[43m,\u001b[49m\u001b[43m \u001b[49m\u001b[43merror_class\u001b[49m\u001b[43m,\u001b[49m\u001b[43m \u001b[49m\u001b[43merrvalue\u001b[49m\u001b[43m)\u001b[49m\n\u001b[1;32m   1088\u001b[0m \u001b[38;5;28;01mreturn\u001b[39;00m \u001b[38;5;28mself\u001b[39m\n",
      "File \u001b[0;32m~/anaconda3/envs/demosnowparkdemo/lib/python3.8/site-packages/snowflake/connector/errors.py:290\u001b[0m, in \u001b[0;36mError.errorhandler_wrapper\u001b[0;34m(connection, cursor, error_class, error_value)\u001b[0m\n\u001b[1;32m    267\u001b[0m \u001b[38;5;129m@staticmethod\u001b[39m\n\u001b[1;32m    268\u001b[0m \u001b[38;5;28;01mdef\u001b[39;00m \u001b[38;5;21merrorhandler_wrapper\u001b[39m(\n\u001b[1;32m    269\u001b[0m     connection: SnowflakeConnection \u001b[38;5;241m|\u001b[39m \u001b[38;5;28;01mNone\u001b[39;00m,\n\u001b[0;32m   (...)\u001b[0m\n\u001b[1;32m    272\u001b[0m     error_value: \u001b[38;5;28mdict\u001b[39m[\u001b[38;5;28mstr\u001b[39m, Any],\n\u001b[1;32m    273\u001b[0m ) \u001b[38;5;241m-\u001b[39m\u001b[38;5;241m>\u001b[39m \u001b[38;5;28;01mNone\u001b[39;00m:\n\u001b[1;32m    274\u001b[0m \u001b[38;5;250m    \u001b[39m\u001b[38;5;124;03m\"\"\"Error handler wrapper that calls the errorhandler method.\u001b[39;00m\n\u001b[1;32m    275\u001b[0m \n\u001b[1;32m    276\u001b[0m \u001b[38;5;124;03m    Args:\u001b[39;00m\n\u001b[0;32m   (...)\u001b[0m\n\u001b[1;32m    287\u001b[0m \u001b[38;5;124;03m        exception to the first handler in that order.\u001b[39;00m\n\u001b[1;32m    288\u001b[0m \u001b[38;5;124;03m    \"\"\"\u001b[39;00m\n\u001b[0;32m--> 290\u001b[0m     handed_over \u001b[38;5;241m=\u001b[39m \u001b[43mError\u001b[49m\u001b[38;5;241;43m.\u001b[39;49m\u001b[43mhand_to_other_handler\u001b[49m\u001b[43m(\u001b[49m\n\u001b[1;32m    291\u001b[0m \u001b[43m        \u001b[49m\u001b[43mconnection\u001b[49m\u001b[43m,\u001b[49m\n\u001b[1;32m    292\u001b[0m \u001b[43m        \u001b[49m\u001b[43mcursor\u001b[49m\u001b[43m,\u001b[49m\n\u001b[1;32m    293\u001b[0m \u001b[43m        \u001b[49m\u001b[43merror_class\u001b[49m\u001b[43m,\u001b[49m\n\u001b[1;32m    294\u001b[0m \u001b[43m        \u001b[49m\u001b[43merror_value\u001b[49m\u001b[43m,\u001b[49m\n\u001b[1;32m    295\u001b[0m \u001b[43m    \u001b[49m\u001b[43m)\u001b[49m\n\u001b[1;32m    296\u001b[0m     \u001b[38;5;28;01mif\u001b[39;00m \u001b[38;5;129;01mnot\u001b[39;00m handed_over:\n\u001b[1;32m    297\u001b[0m         \u001b[38;5;28;01mraise\u001b[39;00m Error\u001b[38;5;241m.\u001b[39merrorhandler_make_exception(\n\u001b[1;32m    298\u001b[0m             error_class,\n\u001b[1;32m    299\u001b[0m             error_value,\n\u001b[1;32m    300\u001b[0m         )\n",
      "File \u001b[0;32m~/anaconda3/envs/demosnowparkdemo/lib/python3.8/site-packages/snowflake/connector/errors.py:345\u001b[0m, in \u001b[0;36mError.hand_to_other_handler\u001b[0;34m(connection, cursor, error_class, error_value)\u001b[0m\n\u001b[1;32m    343\u001b[0m \u001b[38;5;28;01mif\u001b[39;00m cursor \u001b[38;5;129;01mis\u001b[39;00m \u001b[38;5;129;01mnot\u001b[39;00m \u001b[38;5;28;01mNone\u001b[39;00m:\n\u001b[1;32m    344\u001b[0m     cursor\u001b[38;5;241m.\u001b[39mmessages\u001b[38;5;241m.\u001b[39mappend((error_class, error_value))\n\u001b[0;32m--> 345\u001b[0m     \u001b[43mcursor\u001b[49m\u001b[38;5;241;43m.\u001b[39;49m\u001b[43merrorhandler\u001b[49m\u001b[43m(\u001b[49m\u001b[43mconnection\u001b[49m\u001b[43m,\u001b[49m\u001b[43m \u001b[49m\u001b[43mcursor\u001b[49m\u001b[43m,\u001b[49m\u001b[43m \u001b[49m\u001b[43merror_class\u001b[49m\u001b[43m,\u001b[49m\u001b[43m \u001b[49m\u001b[43merror_value\u001b[49m\u001b[43m)\u001b[49m\n\u001b[1;32m    346\u001b[0m     \u001b[38;5;28;01mreturn\u001b[39;00m \u001b[38;5;28;01mTrue\u001b[39;00m\n\u001b[1;32m    347\u001b[0m \u001b[38;5;28;01melif\u001b[39;00m connection \u001b[38;5;129;01mis\u001b[39;00m \u001b[38;5;129;01mnot\u001b[39;00m \u001b[38;5;28;01mNone\u001b[39;00m:\n",
      "File \u001b[0;32m~/anaconda3/envs/demosnowparkdemo/lib/python3.8/site-packages/snowflake/connector/errors.py:221\u001b[0m, in \u001b[0;36mError.default_errorhandler\u001b[0;34m(connection, cursor, error_class, error_value)\u001b[0m\n\u001b[1;32m    219\u001b[0m errno \u001b[38;5;241m=\u001b[39m error_value\u001b[38;5;241m.\u001b[39mget(\u001b[38;5;124m\"\u001b[39m\u001b[38;5;124merrno\u001b[39m\u001b[38;5;124m\"\u001b[39m)\n\u001b[1;32m    220\u001b[0m done_format_msg \u001b[38;5;241m=\u001b[39m error_value\u001b[38;5;241m.\u001b[39mget(\u001b[38;5;124m\"\u001b[39m\u001b[38;5;124mdone_format_msg\u001b[39m\u001b[38;5;124m\"\u001b[39m)\n\u001b[0;32m--> 221\u001b[0m \u001b[38;5;28;01mraise\u001b[39;00m error_class(\n\u001b[1;32m    222\u001b[0m     msg\u001b[38;5;241m=\u001b[39merror_value\u001b[38;5;241m.\u001b[39mget(\u001b[38;5;124m\"\u001b[39m\u001b[38;5;124mmsg\u001b[39m\u001b[38;5;124m\"\u001b[39m),\n\u001b[1;32m    223\u001b[0m     errno\u001b[38;5;241m=\u001b[39m\u001b[38;5;28;01mNone\u001b[39;00m \u001b[38;5;28;01mif\u001b[39;00m errno \u001b[38;5;129;01mis\u001b[39;00m \u001b[38;5;28;01mNone\u001b[39;00m \u001b[38;5;28;01melse\u001b[39;00m \u001b[38;5;28mint\u001b[39m(errno),\n\u001b[1;32m    224\u001b[0m     sqlstate\u001b[38;5;241m=\u001b[39merror_value\u001b[38;5;241m.\u001b[39mget(\u001b[38;5;124m\"\u001b[39m\u001b[38;5;124msqlstate\u001b[39m\u001b[38;5;124m\"\u001b[39m),\n\u001b[1;32m    225\u001b[0m     sfqid\u001b[38;5;241m=\u001b[39merror_value\u001b[38;5;241m.\u001b[39mget(\u001b[38;5;124m\"\u001b[39m\u001b[38;5;124msfqid\u001b[39m\u001b[38;5;124m\"\u001b[39m),\n\u001b[1;32m    226\u001b[0m     query\u001b[38;5;241m=\u001b[39merror_value\u001b[38;5;241m.\u001b[39mget(\u001b[38;5;124m\"\u001b[39m\u001b[38;5;124mquery\u001b[39m\u001b[38;5;124m\"\u001b[39m),\n\u001b[1;32m    227\u001b[0m     done_format_msg\u001b[38;5;241m=\u001b[39m(\n\u001b[1;32m    228\u001b[0m         \u001b[38;5;28;01mNone\u001b[39;00m \u001b[38;5;28;01mif\u001b[39;00m done_format_msg \u001b[38;5;129;01mis\u001b[39;00m \u001b[38;5;28;01mNone\u001b[39;00m \u001b[38;5;28;01melse\u001b[39;00m \u001b[38;5;28mbool\u001b[39m(done_format_msg)\n\u001b[1;32m    229\u001b[0m     ),\n\u001b[1;32m    230\u001b[0m     connection\u001b[38;5;241m=\u001b[39mconnection,\n\u001b[1;32m    231\u001b[0m     cursor\u001b[38;5;241m=\u001b[39mcursor,\n\u001b[1;32m    232\u001b[0m )\n",
      "\u001b[0;31mSnowparkSQLException\u001b[0m: (1304): 01b64cd0-0204-4f21-0000-0002c0b2f301: 002141 (42601): SQL compilation error:\nUnknown user-defined function SNOWFLAKE.CORTEX.EMBED_TEXT"
     ]
    }
   ],
   "source": [
    "session.sql('''\n",
    "        create or replace table Audio_Call_Embedding\n",
    "        as\n",
    "        with sub\n",
    "        as\n",
    "        (\n",
    "        select \n",
    "                datetime as CallDate,\n",
    "                audio_file_name as AudioFileName,\n",
    "                call_details:CallToAction as CallToAction,\n",
    "                call_details:ClaimNumber::string as ClaimNumber ,\n",
    "                call_details:PolicyNumber::string as PolicyNumber,\n",
    "                call_details:Representative::string as AgentName,\n",
    "                call_details:Customer::string as CustomerName,\n",
    "                call_details:CallIntent::string as CallIntent,\n",
    "                call_details:Issue as Issue,\n",
    "                call_details:ModeofUpdate as ModeofUpdate,\n",
    "                call_details:NextSteps as NextSteps,\n",
    "                call_details:Resolution as Resolution,\n",
    "                IFF(call_details:FirstCallResolution>0.5,'Yes','No') as FristCallResolution,\n",
    "            IFF(call_sentiment >0.72,'Positive','Negative') as CallSentiment,\n",
    "            substr(call_summary,charindex(':',call_summary,1)+1) as CallSummary\n",
    "        \n",
    "        from Audio_Claims_Extracted_info\n",
    "        )\n",
    "        select OBJECT_CONSTRUCT(*) as audio_data, SNOWFLAKE.CORTEX.embed_text('e5-base-v2' ,\n",
    "        audio_data::string) as ct_embedding from sub ;\n",
    "                    \n",
    "            ''').collect()"
   ]
  },
  {
   "cell_type": "markdown",
   "id": "dd98e1c8",
   "metadata": {},
   "source": [
    "#### AutoClaim and PolicytDetails Master Table "
   ]
  },
  {
   "cell_type": "code",
   "execution_count": null,
   "id": "d6dd622b",
   "metadata": {},
   "outputs": [],
   "source": [
    "session.sql(''' \n",
    "CREATE or replace TABLE PolicyDetails (\n",
    "    PolicyID                INT IDENTITY,\n",
    "    PolicyNumber            VARCHAR(50) UNIQUE,\n",
    "    CustomerID              INT,\n",
    "    PolicyType              VARCHAR(50),\n",
    "    CoverageAmount          DECIMAL(10, 2),\n",
    "    PremiumAmount           DECIMAL(8, 2),\n",
    "    StartDate               DATE,\n",
    "    EndDate                 DATE,\n",
    "    RenewalDate             DATE,\n",
    "    PolicyStatus            VARCHAR(20),\n",
    "    PaymentStatus           VARCHAR(20),\n",
    "    Beneficiaries           VARCHAR(255),\n",
    "    CoverageDetails         TEXT,\n",
    "    RidersEndorsements      TEXT,\n",
    "    InsuredItemsPersons     TEXT,\n",
    "    PolicyholderDetails     TEXT,\n",
    "    AgentBrokerDetails      TEXT,\n",
    "    Deductibles             DECIMAL(8, 2),\n",
    "    Exclusions              TEXT,\n",
    "    ClaimsHistory           TEXT,\n",
    "    UnderwritingDetails     TEXT,\n",
    "    PolicyTermsConditions   TEXT\n",
    "); ''').collect()\n",
    "\n",
    "\n"
   ]
  },
  {
   "cell_type": "code",
   "execution_count": null,
   "id": "12b6e15f",
   "metadata": {},
   "outputs": [],
   "source": [
    "session.sql(''' \n",
    "INSERT INTO PolicyDetails (     \n",
    "PolicyNumber         \n",
    ",CustomerID           \n",
    ",PolicyType           \n",
    ",CoverageAmount       \n",
    ",PremiumAmount        \n",
    ",StartDate            \n",
    ",EndDate              \n",
    ",RenewalDate          \n",
    ",PolicyStatus         \n",
    ",PaymentStatus        \n",
    ",Beneficiaries        \n",
    ",CoverageDetails      \n",
    ",RidersEndorsements   \n",
    ",InsuredItemsPersons  \n",
    ",PolicyholderDetails  \n",
    ",AgentBrokerDetails   \n",
    ",Deductibles          \n",
    ",Exclusions           \n",
    ",ClaimsHistory        \n",
    ",UnderwritingDetails  \n",
    ",PolicyTermsConditions) VALUES\n",
    "( 'POL001', 1001, 'Auto', 500000, 1000, '2022-01-01', '2023-01-01', '2022-12-31', 'Active', 'Paid', 'John Doe', 'Basic coverage for vehicle insurance.', 'None', 'John Doe, Jane Doe', 'John Doe, 123 Insurance Inc.', 'John Doe, Jane Doe', 100, 'None', 'No claims made yet.', 'Standard underwriting process completed.', 'Standard terms and conditions apply.'),\n",
    "( 'POL002', 1002, 'Auto', 100000, 500, '2022-02-01', '2023-02-01', '2023-01-31', 'Active', 'Due', 'Jane Doe', 'Basic coverage for health insurance.', 'Critical Illness Rider', 'Jane Doe, Family Members', 'Jane Doe, 456 Insurance Services', 'Jane Doe, Family Members', 50, 'Pre-existing conditions', 'No claims made yet.', 'Medical examination completed.', 'Standard terms and conditions apply.'),\n",
    "( 'POL010', 1010, 'Auto', 25000, 300, '2022-10-01', '2023-10-01', '2023-09-30', 'Active', 'Paid', 'Alice Smith', 'Basic coverage for auto insurance.', 'Roadside Assistance Rider', 'Alice Smith, Vehicle Details', 'Alice Smith, XYZ Insurance Agency', 'Alice Smith, Vehicle Details', 75, 'Accidents caused by negligence', 'No claims made yet.', 'Vehicle inspection completed.', 'Standard terms and conditions apply.'),\n",
    "( 'POL934514', 1007, 'Auto', 500000, 1000, '2023-08-01', '2024-08-01', '2024-07-25', 'Active', 'Paid', 'Mike S', 'Full coverage for vehicle insurance.', 'None', 'Mike S', 'Mike S, 456 Insurance Inc.', 'Mike S, \n",
    "Jane S', 100, 'None', '2 claims made so far.', 'Standard underwriting process completed.', 'Standard terms and conditions apply.')\n",
    "\n",
    "''').collect()\n"
   ]
  },
  {
   "cell_type": "code",
   "execution_count": null,
   "id": "d20000c0",
   "metadata": {},
   "outputs": [],
   "source": [
    "session.sql('''\n",
    "CREATE or replace TABLE AutoClaims (\n",
    "    ClaimID varchar(50) ,\n",
    "    PolicyID INT,\n",
    "    ClaimDate DATE,\n",
    "    ClaimAmount DECIMAL(10, 2),\n",
    "    ClaimDescription TEXT,\n",
    "    ClaimStatus VARCHAR(50)\n",
    ")\n",
    "''').collect()"
   ]
  },
  {
   "cell_type": "code",
   "execution_count": null,
   "id": "322712d6",
   "metadata": {},
   "outputs": [],
   "source": [
    "session.sql('''\n",
    "INSERT INTO AutoClaims (ClaimID,PolicyID, ClaimDate, ClaimAmount, ClaimDescription, ClaimStatus)\n",
    "VALUES\n",
    "    ('CLM234567',4, '2023-09-15', 5000, 'Vehicle collision at an intersection.', 'Pending'),\n",
    "    ('CLM876543',5, '2023-04-20', 1200, 'Minor fender bender in a parking lot.', 'Approved'),\n",
    "    ('CLM567890',6, '2023-10-10', 8000, 'Total loss due to a major accident on the highway.', 'Denied'),\n",
    "    ('CLM345678901',7, '2023-09-15', 5000, 'Vehicle Damage', 'Pending')\n",
    "''').collect()"
   ]
  },
  {
   "cell_type": "code",
   "execution_count": null,
   "id": "c6c29c7d",
   "metadata": {},
   "outputs": [],
   "source": [
    "session.close()"
   ]
  },
  {
   "cell_type": "code",
   "execution_count": null,
   "id": "03e543d0",
   "metadata": {},
   "outputs": [],
   "source": [
    "# generated_transcripts_df = session.table(output_table_name)"
   ]
  }
 ],
 "metadata": {
  "kernelspec": {
   "display_name": "Python 3 (ipykernel)",
   "language": "python",
   "name": "python3"
  },
  "language_info": {
   "codemirror_mode": {
    "name": "ipython",
    "version": 3
   },
   "file_extension": ".py",
   "mimetype": "text/x-python",
   "name": "python",
   "nbconvert_exporter": "python",
   "pygments_lexer": "ipython3",
   "version": "3.8.19"
  },
  "vscode": {
   "interpreter": {
    "hash": "87393b85a9e84f5acf85b4897642fb1f420cfcaf148d9618810d560b47e94533"
   }
  }
 },
 "nbformat": 4,
 "nbformat_minor": 5
}
